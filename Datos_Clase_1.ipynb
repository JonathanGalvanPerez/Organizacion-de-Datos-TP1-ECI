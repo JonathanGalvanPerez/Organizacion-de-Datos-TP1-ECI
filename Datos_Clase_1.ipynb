{
  "nbformat": 4,
  "nbformat_minor": 0,
  "metadata": {
    "colab": {
      "name": "Datos-Clase-1.ipynb",
      "provenance": [],
      "collapsed_sections": [],
      "include_colab_link": true
    },
    "kernelspec": {
      "name": "python3",
      "display_name": "Python 3"
    }
  },
  "cells": [
    {
      "cell_type": "markdown",
      "metadata": {
        "id": "view-in-github",
        "colab_type": "text"
      },
      "source": [
        "<a href=\"https://colab.research.google.com/github/JonathanGalvanPerez/Organizacion-de-Datos-TP1-ECI/blob/main/Datos_Clase_1.ipynb\" target=\"_parent\"><img src=\"https://colab.research.google.com/assets/colab-badge.svg\" alt=\"Open In Colab\"/></a>"
      ]
    },
    {
      "cell_type": "markdown",
      "metadata": {
        "id": "w4s2iTm6rvbY"
      },
      "source": [
        ""
      ]
    },
    {
      "cell_type": "code",
      "metadata": {
        "id": "bua00l3W3J8h"
      },
      "source": [
        "import pandas as pd"
      ],
      "execution_count": null,
      "outputs": []
    },
    {
      "cell_type": "code",
      "metadata": {
        "id": "5mhhhzLI3eZ7",
        "outputId": "cef6d5ce-87f4-420a-b6bb-9954ed74294c",
        "colab": {
          "resources": {
            "http://localhost:8080/nbextensions/google.colab/files.js": {
              "data": "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",
              "ok": true,
              "headers": [
                [
                  "content-type",
                  "application/javascript"
                ]
              ],
              "status": 200,
              "status_text": ""
            }
          },
          "base_uri": "https://localhost:8080/",
          "height": 39
        }
      },
      "source": [
        "# df = pd.read_csv('superheroes.csv')"
      ],
      "execution_count": null,
      "outputs": [
        {
          "output_type": "display_data",
          "data": {
            "text/html": [
              "\n",
              "     <input type=\"file\" id=\"files-10d4161a-525c-4de5-8abe-bd61c45e8472\" name=\"files[]\" multiple disabled\n",
              "        style=\"border:none\" />\n",
              "     <output id=\"result-10d4161a-525c-4de5-8abe-bd61c45e8472\">\n",
              "      Upload widget is only available when the cell has been executed in the\n",
              "      current browser session. Please rerun this cell to enable.\n",
              "      </output>\n",
              "      <script src=\"/nbextensions/google.colab/files.js\"></script> "
            ],
            "text/plain": [
              "<IPython.core.display.HTML object>"
            ]
          },
          "metadata": {
            "tags": []
          }
        }
      ]
    },
    {
      "cell_type": "code",
      "metadata": {
        "id": "WRDdjkYk3m2F"
      },
      "source": [
        "  # df.head()"
      ],
      "execution_count": null,
      "outputs": []
    },
    {
      "cell_type": "code",
      "metadata": {
        "id": "pHcsXsvN3oYX"
      },
      "source": [
        "# df = df.set_index('name')\n",
        "# df"
      ],
      "execution_count": null,
      "outputs": []
    },
    {
      "cell_type": "code",
      "metadata": {
        "id": "YUIUirFx3v_m"
      },
      "source": [
        "# hero = df.loc['Aurora']\n",
        "# hero"
      ],
      "execution_count": null,
      "outputs": []
    },
    {
      "cell_type": "code",
      "metadata": {
        "id": "_EmhSw1M304q"
      },
      "source": [
        "# hero = df.iloc[55]\n",
        "# hero"
      ],
      "execution_count": null,
      "outputs": []
    },
    {
      "cell_type": "code",
      "metadata": {
        "id": "-mGqBAmV4EtL"
      },
      "source": [
        "# df['Race']"
      ],
      "execution_count": null,
      "outputs": []
    },
    {
      "cell_type": "code",
      "metadata": {
        "id": "NiLTPu0R4G3f"
      },
      "source": [
        "# df[['Race', 'Skin color']]"
      ],
      "execution_count": null,
      "outputs": []
    },
    {
      "cell_type": "code",
      "metadata": {
        "id": "8t-fN-yt4T4v"
      },
      "source": [
        "# condition = df['Skin color'] == 'blue'\n",
        "# condition"
      ],
      "execution_count": null,
      "outputs": []
    },
    {
      "cell_type": "code",
      "metadata": {
        "id": "nXCKYUAV4WV3"
      },
      "source": [
        "# df[condition]"
      ],
      "execution_count": null,
      "outputs": []
    },
    {
      "cell_type": "code",
      "metadata": {
        "id": "WxTyw5Rl4mQ4"
      },
      "source": [
        "# df[condition & (df['Publisher'] == 'Marvel Comics')]"
      ],
      "execution_count": null,
      "outputs": []
    },
    {
      "cell_type": "code",
      "metadata": {
        "id": "AS6S46dW40ZY"
      },
      "source": [
        "# df[condition | (df['Skin color'] == 'green')]"
      ],
      "execution_count": null,
      "outputs": []
    },
    {
      "cell_type": "code",
      "metadata": {
        "id": "LPYFMMMp4xiU"
      },
      "source": [
        "# altos = df['Height'].apply(lambda h: 'Tall' if h >= 200 else 'Not tall')\n",
        "# altos"
      ],
      "execution_count": null,
      "outputs": []
    },
    {
      "cell_type": "code",
      "metadata": {
        "id": "qspwIlLk5isY"
      },
      "source": [
        "# df['Tallness'] = altos\n",
        "# df"
      ],
      "execution_count": null,
      "outputs": []
    },
    {
      "cell_type": "code",
      "metadata": {
        "id": "Q2XmupOi5qpt"
      },
      "source": [
        "# df['Skin color'] = df['Skin color'].replace({'-': None})\n",
        "# df['Skin color']"
      ],
      "execution_count": null,
      "outputs": []
    },
    {
      "cell_type": "code",
      "metadata": {
        "id": "yhaEiZkm5363"
      },
      "source": [
        "# df"
      ],
      "execution_count": null,
      "outputs": []
    },
    {
      "cell_type": "code",
      "metadata": {
        "id": "a962yA8v58OR"
      },
      "source": [
        "# df = df.dropna(subset=['Skin color'])\n",
        "# df"
      ],
      "execution_count": null,
      "outputs": []
    },
    {
      "cell_type": "code",
      "metadata": {
        "id": "yTG8Tbrh6BjD"
      },
      "source": [
        "# merge_df = df.merge(df, left_on='Skin color', right_on='Skin color')\n",
        "# merge_df"
      ],
      "execution_count": null,
      "outputs": []
    },
    {
      "cell_type": "code",
      "metadata": {
        "id": "gL5yyJlu6YAV"
      },
      "source": [
        "# merge_df[['Race_x', 'Race_y']]"
      ],
      "execution_count": null,
      "outputs": []
    },
    {
      "cell_type": "code",
      "metadata": {
        "id": "49OfQz0X6jdh"
      },
      "source": [
        "# same_skin_color = merge_df.drop_duplicates()[['Race_x', 'Race_y']]\n",
        "# same_skin_color.loc[same_skin_color['Race_x'] != same_skin_color['Race_y']]\n"
      ],
      "execution_count": null,
      "outputs": []
    },
    {
      "cell_type": "code",
      "metadata": {
        "id": "M_aDcxsy7GIE"
      },
      "source": [
        "# df_1 = pd.DataFrame({'col': [1, 2, 3], 'val': [10, 11, 12]})\n",
        "# df_2 = pd.DataFrame({'col': [2, 3, 4], 'val': [13, 14, 15]})"
      ],
      "execution_count": null,
      "outputs": []
    },
    {
      "cell_type": "code",
      "metadata": {
        "id": "kjQBlRXl7XFl"
      },
      "source": [
        "# df_1"
      ],
      "execution_count": null,
      "outputs": []
    },
    {
      "cell_type": "code",
      "metadata": {
        "id": "RoTKIOEn7c4M"
      },
      "source": [
        "# df_2"
      ],
      "execution_count": null,
      "outputs": []
    },
    {
      "cell_type": "code",
      "metadata": {
        "id": "aDM8U4sm7fH8"
      },
      "source": [
        "# pd.merge(df_1, df_2, how='left', left_on='col', right_on='col')"
      ],
      "execution_count": null,
      "outputs": []
    },
    {
      "cell_type": "code",
      "metadata": {
        "id": "i582u54N70B5"
      },
      "source": [
        "# pd.merge(df_1, df_2, how='inner', left_on='col', right_on='col')"
      ],
      "execution_count": null,
      "outputs": []
    },
    {
      "cell_type": "code",
      "metadata": {
        "id": "yC2-17lW79xO"
      },
      "source": [
        "# pd.merge(df_1, df_2, how='right', left_on='col', right_on='col')"
      ],
      "execution_count": null,
      "outputs": []
    },
    {
      "cell_type": "code",
      "metadata": {
        "id": "5bZr-vzR8Auy"
      },
      "source": [
        "# pd.merge(df_1, df_2, how='outer', left_on='col', right_on='col')"
      ],
      "execution_count": null,
      "outputs": []
    },
    {
      "cell_type": "code",
      "metadata": {
        "id": "IPR_j9Jj8IEz"
      },
      "source": [
        "# df_1.merge?"
      ],
      "execution_count": null,
      "outputs": []
    },
    {
      "cell_type": "code",
      "metadata": {
        "id": "09Dnypwj8UZc"
      },
      "source": [
        "# df_1.join?"
      ],
      "execution_count": null,
      "outputs": []
    },
    {
      "cell_type": "code",
      "metadata": {
        "id": "qB5CuJk08zI6"
      },
      "source": [
        "# same_skin_color = df.merge(df, left_on='Skin color', right_on='Skin color')[['Race_x', 'Race_y']].drop_duplicates()\n",
        "# same_skin_color.loc[ \n",
        "          # (same_skin_color['Race_x'] > same_skin_color['Race_y'])\n",
        "# ]"
      ],
      "execution_count": null,
      "outputs": []
    },
    {
      "cell_type": "code",
      "metadata": {
        "id": "xRHVgQVn-FWI"
      },
      "source": [
        "df_1 = pd.DataFrame({'col_1': range(1, 10), 'col_2': range(1, 10)})\n",
        "df_2 = pd.DataFrame({'col_1': range(11, 20), 'col_2': range(11, 20)})"
      ],
      "execution_count": null,
      "outputs": []
    },
    {
      "cell_type": "code",
      "metadata": {
        "id": "BZ5Q7SJ3-VW6",
        "outputId": "e0af3a61-4f99-4eb6-c58f-2d6640ffe6d5",
        "colab": {
          "base_uri": "https://localhost:8080/",
          "height": 34
        }
      },
      "source": [
        "(df_1.pipe(len), df_2.pipe(len))"
      ],
      "execution_count": null,
      "outputs": [
        {
          "output_type": "execute_result",
          "data": {
            "text/plain": [
              "(9, 9)"
            ]
          },
          "metadata": {
            "tags": []
          },
          "execution_count": 32
        }
      ]
    },
    {
      "cell_type": "code",
      "metadata": {
        "id": "ltjKh4Mb-0VO",
        "outputId": "7e29e4f7-1a9e-403c-af8f-e5b94e68bb2a",
        "colab": {
          "base_uri": "https://localhost:8080/",
          "height": 580
        }
      },
      "source": [
        "df_concat = pd.concat([df_1, df_2])\n",
        "df_concat"
      ],
      "execution_count": null,
      "outputs": [
        {
          "output_type": "execute_result",
          "data": {
            "text/html": [
              "<div>\n",
              "<style scoped>\n",
              "    .dataframe tbody tr th:only-of-type {\n",
              "        vertical-align: middle;\n",
              "    }\n",
              "\n",
              "    .dataframe tbody tr th {\n",
              "        vertical-align: top;\n",
              "    }\n",
              "\n",
              "    .dataframe thead th {\n",
              "        text-align: right;\n",
              "    }\n",
              "</style>\n",
              "<table border=\"1\" class=\"dataframe\">\n",
              "  <thead>\n",
              "    <tr style=\"text-align: right;\">\n",
              "      <th></th>\n",
              "      <th>col_1</th>\n",
              "      <th>col_2</th>\n",
              "    </tr>\n",
              "  </thead>\n",
              "  <tbody>\n",
              "    <tr>\n",
              "      <th>0</th>\n",
              "      <td>1</td>\n",
              "      <td>1</td>\n",
              "    </tr>\n",
              "    <tr>\n",
              "      <th>1</th>\n",
              "      <td>2</td>\n",
              "      <td>2</td>\n",
              "    </tr>\n",
              "    <tr>\n",
              "      <th>2</th>\n",
              "      <td>3</td>\n",
              "      <td>3</td>\n",
              "    </tr>\n",
              "    <tr>\n",
              "      <th>3</th>\n",
              "      <td>4</td>\n",
              "      <td>4</td>\n",
              "    </tr>\n",
              "    <tr>\n",
              "      <th>4</th>\n",
              "      <td>5</td>\n",
              "      <td>5</td>\n",
              "    </tr>\n",
              "    <tr>\n",
              "      <th>5</th>\n",
              "      <td>6</td>\n",
              "      <td>6</td>\n",
              "    </tr>\n",
              "    <tr>\n",
              "      <th>6</th>\n",
              "      <td>7</td>\n",
              "      <td>7</td>\n",
              "    </tr>\n",
              "    <tr>\n",
              "      <th>7</th>\n",
              "      <td>8</td>\n",
              "      <td>8</td>\n",
              "    </tr>\n",
              "    <tr>\n",
              "      <th>8</th>\n",
              "      <td>9</td>\n",
              "      <td>9</td>\n",
              "    </tr>\n",
              "    <tr>\n",
              "      <th>0</th>\n",
              "      <td>11</td>\n",
              "      <td>11</td>\n",
              "    </tr>\n",
              "    <tr>\n",
              "      <th>1</th>\n",
              "      <td>12</td>\n",
              "      <td>12</td>\n",
              "    </tr>\n",
              "    <tr>\n",
              "      <th>2</th>\n",
              "      <td>13</td>\n",
              "      <td>13</td>\n",
              "    </tr>\n",
              "    <tr>\n",
              "      <th>3</th>\n",
              "      <td>14</td>\n",
              "      <td>14</td>\n",
              "    </tr>\n",
              "    <tr>\n",
              "      <th>4</th>\n",
              "      <td>15</td>\n",
              "      <td>15</td>\n",
              "    </tr>\n",
              "    <tr>\n",
              "      <th>5</th>\n",
              "      <td>16</td>\n",
              "      <td>16</td>\n",
              "    </tr>\n",
              "    <tr>\n",
              "      <th>6</th>\n",
              "      <td>17</td>\n",
              "      <td>17</td>\n",
              "    </tr>\n",
              "    <tr>\n",
              "      <th>7</th>\n",
              "      <td>18</td>\n",
              "      <td>18</td>\n",
              "    </tr>\n",
              "    <tr>\n",
              "      <th>8</th>\n",
              "      <td>19</td>\n",
              "      <td>19</td>\n",
              "    </tr>\n",
              "  </tbody>\n",
              "</table>\n",
              "</div>"
            ],
            "text/plain": [
              "   col_1  col_2\n",
              "0      1      1\n",
              "1      2      2\n",
              "2      3      3\n",
              "3      4      4\n",
              "4      5      5\n",
              "5      6      6\n",
              "6      7      7\n",
              "7      8      8\n",
              "8      9      9\n",
              "0     11     11\n",
              "1     12     12\n",
              "2     13     13\n",
              "3     14     14\n",
              "4     15     15\n",
              "5     16     16\n",
              "6     17     17\n",
              "7     18     18\n",
              "8     19     19"
            ]
          },
          "metadata": {
            "tags": []
          },
          "execution_count": 33
        }
      ]
    },
    {
      "cell_type": "code",
      "metadata": {
        "id": "vukfGPvi_CWK"
      },
      "source": [
        "# df = df.reset_index()\n",
        "# df"
      ],
      "execution_count": null,
      "outputs": []
    },
    {
      "cell_type": "code",
      "metadata": {
        "id": "278--L3T_IDH"
      },
      "source": [
        "# df.groupby('Race').agg(list)"
      ],
      "execution_count": null,
      "outputs": []
    },
    {
      "cell_type": "code",
      "metadata": {
        "id": "ynz2ys3Z_c8k"
      },
      "source": [
        "# (df['Alignment'] == 'good').mean() * 100"
      ],
      "execution_count": null,
      "outputs": []
    },
    {
      "cell_type": "code",
      "metadata": {
        "id": "hRYEI_dn_jIB"
      },
      "source": [
        "# (df['Alignment'] == 'good').sum() / (df['Alignment'] == 'good').size * 100"
      ],
      "execution_count": null,
      "outputs": []
    },
    {
      "cell_type": "code",
      "metadata": {
        "id": "BsM6eAa6_swj"
      },
      "source": [
        "# df.groupby('Race')['Alignment'].agg(len)"
      ],
      "execution_count": null,
      "outputs": []
    },
    {
      "cell_type": "code",
      "metadata": {
        "id": "YRG4TA63_6yg"
      },
      "source": [
        "def perc_good(grouping):\n",
        "  return (grouping == 'good').mean() * 100\n",
        "\n",
        "# df.groupby('Race').agg({\n",
        "    # 'name': 'count',\n",
        "    # 'Height': ['mean', 'std'],\n",
        "    # 'Weight': ['mean', 'std'],\n",
        "    # 'Alignment': perc_good,\n",
        "# }).head(20)"
      ],
      "execution_count": null,
      "outputs": []
    },
    {
      "cell_type": "code",
      "metadata": {
        "id": "Kj97DXCXAlZc"
      },
      "source": [
        "# df['Race'].value_counts()"
      ],
      "execution_count": null,
      "outputs": []
    },
    {
      "cell_type": "code",
      "metadata": {
        "id": "PVUTaH6FA0xb"
      },
      "source": [
        "# df['Race'].value_counts() / df['Race'].value_counts().sum() * 100"
      ],
      "execution_count": null,
      "outputs": []
    },
    {
      "cell_type": "code",
      "metadata": {
        "id": "4C05UYjxA7Vl"
      },
      "source": [
        "# df['Race'].value_counts(normalize=True)"
      ],
      "execution_count": null,
      "outputs": []
    },
    {
      "cell_type": "code",
      "metadata": {
        "id": "tf05nBvfBB_d"
      },
      "source": [
        "# df['Race'].value_counts(normalize=True) * 100"
      ],
      "execution_count": null,
      "outputs": []
    },
    {
      "cell_type": "code",
      "metadata": {
        "id": "30rZH-WqBFVt"
      },
      "source": [
        "# over_5_percent = df['Race'].value_counts(normalize=True) > 0.05\n",
        "# mutants_over_5 = df['Race'].value_counts()[over_5_percent]\n",
        "# mutants_over_5"
      ],
      "execution_count": null,
      "outputs": []
    },
    {
      "cell_type": "code",
      "metadata": {
        "id": "sWuFy_5ZBbh7"
      },
      "source": [
        "# df[df['Race'].isin(mutants_over_5.index)].head(5)"
      ],
      "execution_count": null,
      "outputs": []
    },
    {
      "cell_type": "code",
      "metadata": {
        "id": "1uCv94QEByiC"
      },
      "source": [
        "# df.merge(mutants_over_5, left_on='Race', right_index=True).head(5)"
      ],
      "execution_count": null,
      "outputs": []
    },
    {
      "cell_type": "code",
      "metadata": {
        "id": "Vvsk_uT7FpvX"
      },
      "source": [
        "from collections import Counter"
      ],
      "execution_count": null,
      "outputs": []
    },
    {
      "cell_type": "code",
      "metadata": {
        "id": "paP4mvAnCNNN"
      },
      "source": [
        "# pd.pivot_table(\n",
        "    # df,\n",
        "    # index='Race',\n",
        "    # columns=['Gender'],\n",
        "    # values=['Height', 'Weight', 'Alignment'],\n",
        "    # aggfunc={\n",
        "        # 'Height': 'mean',\n",
        "        # 'Weight': 'mean',\n",
        "        # 'Alignment': lambda x: Counter(x).most_common(1)[0][0],\n",
        "    # },\n",
        "# )"
      ],
      "execution_count": null,
      "outputs": []
    },
    {
      "cell_type": "code",
      "metadata": {
        "id": "G5UnaSIiHkDX"
      },
      "source": [
        "# df_marvel = df[df['Publisher'] == 'Marvel Comics']"
      ],
      "execution_count": null,
      "outputs": []
    },
    {
      "cell_type": "code",
      "metadata": {
        "id": "58YA4Fz6HxJI"
      },
      "source": [
        "def alignment_to_numeric(alignment):\n",
        "  return {'bad': -1, 'good': 1, 'neutral': 0}[alignment]\n",
        "# Warning\n",
        "# df_marvel['numeric_alineation'] = df_marvel['Aligment'].agg(alignment_to_numeric)\n",
        "# df_marvel = df[df['Publisher'] == 'Marvel Comics'].copy()\n",
        "# df_marvel['numeric_alineation'] = df_marvel['Alignment'].agg(alignment_to_numeric)"
      ],
      "execution_count": null,
      "outputs": []
    },
    {
      "cell_type": "code",
      "metadata": {
        "id": "CoxnKEDIJIQr"
      },
      "source": [
        "# df_marvel"
      ],
      "execution_count": null,
      "outputs": []
    },
    {
      "cell_type": "code",
      "metadata": {
        "id": "Q4eA2dHnItH1"
      },
      "source": [
        "# df.set_index('name').sort_index()"
      ],
      "execution_count": null,
      "outputs": []
    },
    {
      "cell_type": "code",
      "metadata": {
        "id": "XLMzsfwGKsYR"
      },
      "source": [
        "# df.sort_values(by=['Height', 'Weight'], ascending=False)"
      ],
      "execution_count": null,
      "outputs": []
    },
    {
      "cell_type": "code",
      "metadata": {
        "id": "S6SwXUGfLREI",
        "outputId": "61a63998-fb64-4bff-cd4f-ee16f782a2a0",
        "colab": {
          "base_uri": "https://localhost:8080/",
          "height": 34
        }
      },
      "source": [
        "pd.Timestamp('2020-09-30 04:32:18 PM')"
      ],
      "execution_count": null,
      "outputs": [
        {
          "output_type": "execute_result",
          "data": {
            "text/plain": [
              "Timestamp('2020-09-30 16:32:18')"
            ]
          },
          "metadata": {
            "tags": []
          },
          "execution_count": 54
        }
      ]
    },
    {
      "cell_type": "code",
      "metadata": {
        "id": "z89N5Q-BLa5T",
        "outputId": "744a4c52-9c6e-45f7-b4da-5718140b0af2",
        "colab": {
          "base_uri": "https://localhost:8080/",
          "height": 34
        }
      },
      "source": [
        "fechas = ['2020-03-20', '2020-03-18', '2020/09/30']\n",
        "indice_fechas = pd.DatetimeIndex(fechas)\n",
        "indice_fechas"
      ],
      "execution_count": null,
      "outputs": [
        {
          "output_type": "execute_result",
          "data": {
            "text/plain": [
              "DatetimeIndex(['2020-03-20', '2020-03-18', '2020-09-30'], dtype='datetime64[ns]', freq=None)"
            ]
          },
          "metadata": {
            "tags": []
          },
          "execution_count": 55
        }
      ]
    },
    {
      "cell_type": "code",
      "metadata": {
        "id": "6rtJpkCzL0me",
        "outputId": "f0b96f0d-3309-4722-9bde-960089603a3c",
        "colab": {
          "base_uri": "https://localhost:8080/",
          "height": 84
        }
      },
      "source": [
        "descripciones = ['cuarentena', 'cumpleaños', 'hoy']\n",
        "desc_serie = pd.Series(data=descripciones, index=indice_fechas)\n",
        "desc_serie"
      ],
      "execution_count": null,
      "outputs": [
        {
          "output_type": "execute_result",
          "data": {
            "text/plain": [
              "2020-03-20    cuarentena\n",
              "2020-03-18    cumpleaños\n",
              "2020-09-30           hoy\n",
              "dtype: object"
            ]
          },
          "metadata": {
            "tags": []
          },
          "execution_count": 56
        }
      ]
    },
    {
      "cell_type": "code",
      "metadata": {
        "id": "342et6hzMLWq",
        "outputId": "fb4cc854-f656-4d66-fb27-6ad594f35691",
        "colab": {
          "base_uri": "https://localhost:8080/",
          "height": 34
        }
      },
      "source": [
        "pd.to_datetime('2020/03/30 17:43:09')"
      ],
      "execution_count": null,
      "outputs": [
        {
          "output_type": "execute_result",
          "data": {
            "text/plain": [
              "Timestamp('2020-03-30 17:43:09')"
            ]
          },
          "metadata": {
            "tags": []
          },
          "execution_count": 57
        }
      ]
    },
    {
      "cell_type": "code",
      "metadata": {
        "id": "caTQSIzSMRkN",
        "outputId": "4afbdf18-22ad-4d9c-e034-b731685138f3",
        "colab": {
          "base_uri": "https://localhost:8080/",
          "height": 34
        }
      },
      "source": [
        "pd.to_datetime(fechas)"
      ],
      "execution_count": null,
      "outputs": [
        {
          "output_type": "execute_result",
          "data": {
            "text/plain": [
              "DatetimeIndex(['2020-03-20', '2020-03-18', '2020-09-30'], dtype='datetime64[ns]', freq=None)"
            ]
          },
          "metadata": {
            "tags": []
          },
          "execution_count": 58
        }
      ]
    },
    {
      "cell_type": "code",
      "metadata": {
        "id": "rZ03Zf-vMVni",
        "outputId": "3727b9e4-5a29-47b8-bf3d-379aa306d587",
        "colab": {
          "base_uri": "https://localhost:8080/",
          "height": 134
        }
      },
      "source": [
        "serie_fechas_ = pd.Series(\n",
        "    ['September 22nd, 2019', '22, 09, 2020', 'Una fecha', '2020-03-20', '2020-03-18', '2020/09/30', 'Oct 15th, 2020']\n",
        ")\n",
        "pd.to_datetime(serie_fechas_, errors='coerce').dropna()"
      ],
      "execution_count": null,
      "outputs": [
        {
          "output_type": "execute_result",
          "data": {
            "text/plain": [
              "0   2019-09-22\n",
              "1   2020-09-22\n",
              "3   2020-03-20\n",
              "4   2020-03-18\n",
              "5   2020-09-30\n",
              "6   2020-10-15\n",
              "dtype: datetime64[ns]"
            ]
          },
          "metadata": {
            "tags": []
          },
          "execution_count": 59
        }
      ]
    },
    {
      "cell_type": "code",
      "metadata": {
        "id": "iiyWQRkmM91P",
        "outputId": "d7d739ed-aecb-424e-a23e-6e966f212f99",
        "colab": {
          "base_uri": "https://localhost:8080/",
          "height": 151
        }
      },
      "source": [
        "pd.date_range(start='25/06/2019', end='25/06/2020', freq='D')"
      ],
      "execution_count": null,
      "outputs": [
        {
          "output_type": "execute_result",
          "data": {
            "text/plain": [
              "DatetimeIndex(['2019-06-25', '2019-06-26', '2019-06-27', '2019-06-28',\n",
              "               '2019-06-29', '2019-06-30', '2019-07-01', '2019-07-02',\n",
              "               '2019-07-03', '2019-07-04',\n",
              "               ...\n",
              "               '2020-06-16', '2020-06-17', '2020-06-18', '2020-06-19',\n",
              "               '2020-06-20', '2020-06-21', '2020-06-22', '2020-06-23',\n",
              "               '2020-06-24', '2020-06-25'],\n",
              "              dtype='datetime64[ns]', length=367, freq='D')"
            ]
          },
          "metadata": {
            "tags": []
          },
          "execution_count": 60
        }
      ]
    },
    {
      "cell_type": "code",
      "metadata": {
        "id": "PEM2V9wwNJIu",
        "outputId": "41b8f3b0-21ce-497d-e817-39b4a1a8713d",
        "colab": {
          "base_uri": "https://localhost:8080/",
          "height": 34
        }
      },
      "source": [
        "pd.date_range(start='25/06/2019', end='25/06/2022', freq='A')\n"
      ],
      "execution_count": null,
      "outputs": [
        {
          "output_type": "execute_result",
          "data": {
            "text/plain": [
              "DatetimeIndex(['2019-12-31', '2020-12-31', '2021-12-31'], dtype='datetime64[ns]', freq='A-DEC')"
            ]
          },
          "metadata": {
            "tags": []
          },
          "execution_count": 61
        }
      ]
    },
    {
      "cell_type": "code",
      "metadata": {
        "id": "O0ug_eGENOph",
        "outputId": "d2c865cd-91e6-4cc1-b0de-add20e032020",
        "colab": {
          "base_uri": "https://localhost:8080/",
          "height": 84
        }
      },
      "source": [
        "desc_serie"
      ],
      "execution_count": null,
      "outputs": [
        {
          "output_type": "execute_result",
          "data": {
            "text/plain": [
              "2020-03-20    cuarentena\n",
              "2020-03-18    cumpleaños\n",
              "2020-09-30           hoy\n",
              "dtype: object"
            ]
          },
          "metadata": {
            "tags": []
          },
          "execution_count": 62
        }
      ]
    },
    {
      "cell_type": "code",
      "metadata": {
        "id": "Znjz8PdZNRE3"
      },
      "source": [
        "import pandas as pd"
      ],
      "execution_count": null,
      "outputs": []
    },
    {
      "cell_type": "code",
      "metadata": {
        "id": "W2TB1zJUEGJh",
        "outputId": "33c026ee-86f2-460b-ea6c-7a025d1814a2",
        "colab": {
          "base_uri": "https://localhost:8080/",
          "height": 343
        }
      },
      "source": [
        "df = pd.read_csv('sample_data/california_housing_test.csv')\n",
        "df.sample(10)"
      ],
      "execution_count": null,
      "outputs": [
        {
          "output_type": "execute_result",
          "data": {
            "text/html": [
              "<div>\n",
              "<style scoped>\n",
              "    .dataframe tbody tr th:only-of-type {\n",
              "        vertical-align: middle;\n",
              "    }\n",
              "\n",
              "    .dataframe tbody tr th {\n",
              "        vertical-align: top;\n",
              "    }\n",
              "\n",
              "    .dataframe thead th {\n",
              "        text-align: right;\n",
              "    }\n",
              "</style>\n",
              "<table border=\"1\" class=\"dataframe\">\n",
              "  <thead>\n",
              "    <tr style=\"text-align: right;\">\n",
              "      <th></th>\n",
              "      <th>longitude</th>\n",
              "      <th>latitude</th>\n",
              "      <th>housing_median_age</th>\n",
              "      <th>total_rooms</th>\n",
              "      <th>total_bedrooms</th>\n",
              "      <th>population</th>\n",
              "      <th>households</th>\n",
              "      <th>median_income</th>\n",
              "      <th>median_house_value</th>\n",
              "    </tr>\n",
              "  </thead>\n",
              "  <tbody>\n",
              "    <tr>\n",
              "      <th>949</th>\n",
              "      <td>-121.33</td>\n",
              "      <td>38.28</td>\n",
              "      <td>14.0</td>\n",
              "      <td>980.0</td>\n",
              "      <td>171.0</td>\n",
              "      <td>659.0</td>\n",
              "      <td>183.0</td>\n",
              "      <td>4.4306</td>\n",
              "      <td>170100.0</td>\n",
              "    </tr>\n",
              "    <tr>\n",
              "      <th>2893</th>\n",
              "      <td>-118.27</td>\n",
              "      <td>34.11</td>\n",
              "      <td>39.0</td>\n",
              "      <td>3825.0</td>\n",
              "      <td>916.0</td>\n",
              "      <td>1378.0</td>\n",
              "      <td>746.0</td>\n",
              "      <td>4.4094</td>\n",
              "      <td>352600.0</td>\n",
              "    </tr>\n",
              "    <tr>\n",
              "      <th>758</th>\n",
              "      <td>-118.31</td>\n",
              "      <td>33.96</td>\n",
              "      <td>48.0</td>\n",
              "      <td>2015.0</td>\n",
              "      <td>356.0</td>\n",
              "      <td>1020.0</td>\n",
              "      <td>338.0</td>\n",
              "      <td>4.0625</td>\n",
              "      <td>138700.0</td>\n",
              "    </tr>\n",
              "    <tr>\n",
              "      <th>1567</th>\n",
              "      <td>-122.28</td>\n",
              "      <td>38.00</td>\n",
              "      <td>26.0</td>\n",
              "      <td>2335.0</td>\n",
              "      <td>413.0</td>\n",
              "      <td>980.0</td>\n",
              "      <td>417.0</td>\n",
              "      <td>3.4471</td>\n",
              "      <td>178900.0</td>\n",
              "    </tr>\n",
              "    <tr>\n",
              "      <th>307</th>\n",
              "      <td>-121.88</td>\n",
              "      <td>37.37</td>\n",
              "      <td>14.0</td>\n",
              "      <td>6016.0</td>\n",
              "      <td>1404.0</td>\n",
              "      <td>3258.0</td>\n",
              "      <td>1316.0</td>\n",
              "      <td>3.5745</td>\n",
              "      <td>333700.0</td>\n",
              "    </tr>\n",
              "    <tr>\n",
              "      <th>1247</th>\n",
              "      <td>-117.29</td>\n",
              "      <td>33.19</td>\n",
              "      <td>18.0</td>\n",
              "      <td>6235.0</td>\n",
              "      <td>1233.0</td>\n",
              "      <td>4127.0</td>\n",
              "      <td>1162.0</td>\n",
              "      <td>3.0704</td>\n",
              "      <td>151600.0</td>\n",
              "    </tr>\n",
              "    <tr>\n",
              "      <th>2879</th>\n",
              "      <td>-121.84</td>\n",
              "      <td>38.02</td>\n",
              "      <td>46.0</td>\n",
              "      <td>66.0</td>\n",
              "      <td>22.0</td>\n",
              "      <td>37.0</td>\n",
              "      <td>21.0</td>\n",
              "      <td>0.5360</td>\n",
              "      <td>87500.0</td>\n",
              "    </tr>\n",
              "    <tr>\n",
              "      <th>2246</th>\n",
              "      <td>-118.16</td>\n",
              "      <td>34.69</td>\n",
              "      <td>35.0</td>\n",
              "      <td>3114.0</td>\n",
              "      <td>583.0</td>\n",
              "      <td>1974.0</td>\n",
              "      <td>545.0</td>\n",
              "      <td>3.9028</td>\n",
              "      <td>126800.0</td>\n",
              "    </tr>\n",
              "    <tr>\n",
              "      <th>2779</th>\n",
              "      <td>-119.01</td>\n",
              "      <td>35.40</td>\n",
              "      <td>11.0</td>\n",
              "      <td>8739.0</td>\n",
              "      <td>2190.0</td>\n",
              "      <td>4781.0</td>\n",
              "      <td>1919.0</td>\n",
              "      <td>1.7109</td>\n",
              "      <td>44600.0</td>\n",
              "    </tr>\n",
              "    <tr>\n",
              "      <th>2108</th>\n",
              "      <td>-118.34</td>\n",
              "      <td>34.02</td>\n",
              "      <td>49.0</td>\n",
              "      <td>1609.0</td>\n",
              "      <td>371.0</td>\n",
              "      <td>896.0</td>\n",
              "      <td>389.0</td>\n",
              "      <td>2.5156</td>\n",
              "      <td>136600.0</td>\n",
              "    </tr>\n",
              "  </tbody>\n",
              "</table>\n",
              "</div>"
            ],
            "text/plain": [
              "      longitude  latitude  ...  median_income  median_house_value\n",
              "949     -121.33     38.28  ...         4.4306            170100.0\n",
              "2893    -118.27     34.11  ...         4.4094            352600.0\n",
              "758     -118.31     33.96  ...         4.0625            138700.0\n",
              "1567    -122.28     38.00  ...         3.4471            178900.0\n",
              "307     -121.88     37.37  ...         3.5745            333700.0\n",
              "1247    -117.29     33.19  ...         3.0704            151600.0\n",
              "2879    -121.84     38.02  ...         0.5360             87500.0\n",
              "2246    -118.16     34.69  ...         3.9028            126800.0\n",
              "2779    -119.01     35.40  ...         1.7109             44600.0\n",
              "2108    -118.34     34.02  ...         2.5156            136600.0\n",
              "\n",
              "[10 rows x 9 columns]"
            ]
          },
          "metadata": {
            "tags": []
          },
          "execution_count": 64
        }
      ]
    },
    {
      "cell_type": "code",
      "metadata": {
        "id": "5yOs1D6aGDu4",
        "outputId": "024745c2-82e3-4880-ab50-b9aa22c1b1bd",
        "colab": {
          "base_uri": "https://localhost:8080/",
          "height": 402
        }
      },
      "source": [
        "median_age_vs_total_rooms = df[['housing_median_age', 'total_rooms']]\n",
        "median_age_vs_total_rooms"
      ],
      "execution_count": null,
      "outputs": [
        {
          "output_type": "execute_result",
          "data": {
            "text/html": [
              "<div>\n",
              "<style scoped>\n",
              "    .dataframe tbody tr th:only-of-type {\n",
              "        vertical-align: middle;\n",
              "    }\n",
              "\n",
              "    .dataframe tbody tr th {\n",
              "        vertical-align: top;\n",
              "    }\n",
              "\n",
              "    .dataframe thead th {\n",
              "        text-align: right;\n",
              "    }\n",
              "</style>\n",
              "<table border=\"1\" class=\"dataframe\">\n",
              "  <thead>\n",
              "    <tr style=\"text-align: right;\">\n",
              "      <th></th>\n",
              "      <th>housing_median_age</th>\n",
              "      <th>total_rooms</th>\n",
              "    </tr>\n",
              "  </thead>\n",
              "  <tbody>\n",
              "    <tr>\n",
              "      <th>0</th>\n",
              "      <td>27.0</td>\n",
              "      <td>3885.0</td>\n",
              "    </tr>\n",
              "    <tr>\n",
              "      <th>1</th>\n",
              "      <td>43.0</td>\n",
              "      <td>1510.0</td>\n",
              "    </tr>\n",
              "    <tr>\n",
              "      <th>2</th>\n",
              "      <td>27.0</td>\n",
              "      <td>3589.0</td>\n",
              "    </tr>\n",
              "    <tr>\n",
              "      <th>3</th>\n",
              "      <td>28.0</td>\n",
              "      <td>67.0</td>\n",
              "    </tr>\n",
              "    <tr>\n",
              "      <th>4</th>\n",
              "      <td>19.0</td>\n",
              "      <td>1241.0</td>\n",
              "    </tr>\n",
              "    <tr>\n",
              "      <th>...</th>\n",
              "      <td>...</td>\n",
              "      <td>...</td>\n",
              "    </tr>\n",
              "    <tr>\n",
              "      <th>2995</th>\n",
              "      <td>23.0</td>\n",
              "      <td>1450.0</td>\n",
              "    </tr>\n",
              "    <tr>\n",
              "      <th>2996</th>\n",
              "      <td>27.0</td>\n",
              "      <td>5257.0</td>\n",
              "    </tr>\n",
              "    <tr>\n",
              "      <th>2997</th>\n",
              "      <td>10.0</td>\n",
              "      <td>956.0</td>\n",
              "    </tr>\n",
              "    <tr>\n",
              "      <th>2998</th>\n",
              "      <td>40.0</td>\n",
              "      <td>96.0</td>\n",
              "    </tr>\n",
              "    <tr>\n",
              "      <th>2999</th>\n",
              "      <td>42.0</td>\n",
              "      <td>1765.0</td>\n",
              "    </tr>\n",
              "  </tbody>\n",
              "</table>\n",
              "<p>3000 rows × 2 columns</p>\n",
              "</div>"
            ],
            "text/plain": [
              "      housing_median_age  total_rooms\n",
              "0                   27.0       3885.0\n",
              "1                   43.0       1510.0\n",
              "2                   27.0       3589.0\n",
              "3                   28.0         67.0\n",
              "4                   19.0       1241.0\n",
              "...                  ...          ...\n",
              "2995                23.0       1450.0\n",
              "2996                27.0       5257.0\n",
              "2997                10.0        956.0\n",
              "2998                40.0         96.0\n",
              "2999                42.0       1765.0\n",
              "\n",
              "[3000 rows x 2 columns]"
            ]
          },
          "metadata": {
            "tags": []
          },
          "execution_count": 65
        }
      ]
    },
    {
      "cell_type": "code",
      "metadata": {
        "id": "ljM8paSPGNx1",
        "outputId": "b67991a4-da43-4c00-bd7f-19abbb508fe0",
        "colab": {
          "base_uri": "https://localhost:8080/",
          "height": 297
        }
      },
      "source": [
        "median_age_vs_total_rooms.plot.scatter(x='housing_median_age', y='total_rooms')"
      ],
      "execution_count": null,
      "outputs": [
        {
          "output_type": "execute_result",
          "data": {
            "text/plain": [
              "<matplotlib.axes._subplots.AxesSubplot at 0x7f4db0ab46d8>"
            ]
          },
          "metadata": {
            "tags": []
          },
          "execution_count": 66
        },
        {
          "output_type": "display_data",
          "data": {
            "image/png": "[encoded data removed]",
            "text/plain": [
              "<Figure size 432x288 with 1 Axes>"
            ]
          },
          "metadata": {
            "tags": [],
            "needs_background": "light"
          }
        }
      ]
    },
    {
      "cell_type": "code",
      "metadata": {
        "id": "FFVoS71bIZvv",
        "outputId": "2996202e-4ac7-4509-faba-7397f6f00a06",
        "colab": {
          "base_uri": "https://localhost:8080/",
          "height": 782
        }
      },
      "source": [
        "median_age_vs_total_rooms.boxplot(by='housing_median_age', figsize=(30, 15))"
      ],
      "execution_count": null,
      "outputs": [
        {
          "output_type": "execute_result",
          "data": {
            "text/plain": [
              "<matplotlib.axes._subplots.AxesSubplot at 0x7f4db0a11a58>"
            ]
          },
          "metadata": {
            "tags": []
          },
          "execution_count": 67
        },
        {
          "output_type": "display_data",
          "data": {
            "image/png": "[encoded data removed]",
            "text/plain": [
              "<Figure size 2160x1080 with 1 Axes>"
            ]
          },
          "metadata": {
            "tags": [],
            "needs_background": "light"
          }
        }
      ]
    },
    {
      "cell_type": "code",
      "metadata": {
        "id": "V6jMagyiLt7H"
      },
      "source": [
        "import matplotlib.pyplot as plt"
      ],
      "execution_count": null,
      "outputs": []
    },
    {
      "cell_type": "code",
      "metadata": {
        "id": "nb-W_2KIL7bi",
        "outputId": "8424da06-af06-4ca3-ffe7-b7439143df12",
        "colab": {
          "base_uri": "https://localhost:8080/",
          "height": 1000
        }
      },
      "source": [
        "dir(plt.cm)"
      ],
      "execution_count": null,
      "outputs": [
        {
          "output_type": "execute_result",
          "data": {
            "text/plain": [
              "['Accent',\n",
              " 'Accent_r',\n",
              " 'Blues',\n",
              " 'Blues_r',\n",
              " 'BrBG',\n",
              " 'BrBG_r',\n",
              " 'BuGn',\n",
              " 'BuGn_r',\n",
              " 'BuPu',\n",
              " 'BuPu_r',\n",
              " 'CMRmap',\n",
              " 'CMRmap_r',\n",
              " 'Dark2',\n",
              " 'Dark2_r',\n",
              " 'GnBu',\n",
              " 'GnBu_r',\n",
              " 'Greens',\n",
              " 'Greens_r',\n",
              " 'Greys',\n",
              " 'Greys_r',\n",
              " 'LUTSIZE',\n",
              " 'OrRd',\n",
              " 'OrRd_r',\n",
              " 'Oranges',\n",
              " 'Oranges_r',\n",
              " 'PRGn',\n",
              " 'PRGn_r',\n",
              " 'Paired',\n",
              " 'Paired_r',\n",
              " 'Pastel1',\n",
              " 'Pastel1_r',\n",
              " 'Pastel2',\n",
              " 'Pastel2_r',\n",
              " 'PiYG',\n",
              " 'PiYG_r',\n",
              " 'PuBu',\n",
              " 'PuBuGn',\n",
              " 'PuBuGn_r',\n",
              " 'PuBu_r',\n",
              " 'PuOr',\n",
              " 'PuOr_r',\n",
              " 'PuRd',\n",
              " 'PuRd_r',\n",
              " 'Purples',\n",
              " 'Purples_r',\n",
              " 'RdBu',\n",
              " 'RdBu_r',\n",
              " 'RdGy',\n",
              " 'RdGy_r',\n",
              " 'RdPu',\n",
              " 'RdPu_r',\n",
              " 'RdYlBu',\n",
              " 'RdYlBu_r',\n",
              " 'RdYlGn',\n",
              " 'RdYlGn_r',\n",
              " 'Reds',\n",
              " 'Reds_r',\n",
              " 'ScalarMappable',\n",
              " 'Set1',\n",
              " 'Set1_r',\n",
              " 'Set2',\n",
              " 'Set2_r',\n",
              " 'Set3',\n",
              " 'Set3_r',\n",
              " 'Spectral',\n",
              " 'Spectral_r',\n",
              " 'Wistia',\n",
              " 'Wistia_r',\n",
              " 'YlGn',\n",
              " 'YlGnBu',\n",
              " 'YlGnBu_r',\n",
              " 'YlGn_r',\n",
              " 'YlOrBr',\n",
              " 'YlOrBr_r',\n",
              " 'YlOrRd',\n",
              " 'YlOrRd_r',\n",
              " '__builtins__',\n",
              " '__cached__',\n",
              " '__doc__',\n",
              " '__file__',\n",
              " '__loader__',\n",
              " '__name__',\n",
              " '__package__',\n",
              " '__spec__',\n",
              " '_gen_cmap_d',\n",
              " '_reverser',\n",
              " 'afmhot',\n",
              " 'afmhot_r',\n",
              " 'autumn',\n",
              " 'autumn_r',\n",
              " 'binary',\n",
              " 'binary_r',\n",
              " 'bone',\n",
              " 'bone_r',\n",
              " 'brg',\n",
              " 'brg_r',\n",
              " 'bwr',\n",
              " 'bwr_r',\n",
              " 'cbook',\n",
              " 'cividis',\n",
              " 'cividis_r',\n",
              " 'cmap_d',\n",
              " 'cmaps_listed',\n",
              " 'colors',\n",
              " 'cool',\n",
              " 'cool_r',\n",
              " 'coolwarm',\n",
              " 'coolwarm_r',\n",
              " 'copper',\n",
              " 'copper_r',\n",
              " 'cubehelix',\n",
              " 'cubehelix_r',\n",
              " 'datad',\n",
              " 'flag',\n",
              " 'flag_r',\n",
              " 'functools',\n",
              " 'get_cmap',\n",
              " 'gist_earth',\n",
              " 'gist_earth_r',\n",
              " 'gist_gray',\n",
              " 'gist_gray_r',\n",
              " 'gist_heat',\n",
              " 'gist_heat_r',\n",
              " 'gist_ncar',\n",
              " 'gist_ncar_r',\n",
              " 'gist_rainbow',\n",
              " 'gist_rainbow_r',\n",
              " 'gist_stern',\n",
              " 'gist_stern_r',\n",
              " 'gist_yarg',\n",
              " 'gist_yarg_r',\n",
              " 'gnuplot',\n",
              " 'gnuplot2',\n",
              " 'gnuplot2_r',\n",
              " 'gnuplot_r',\n",
              " 'gray',\n",
              " 'gray_r',\n",
              " 'hot',\n",
              " 'hot_r',\n",
              " 'hsv',\n",
              " 'hsv_r',\n",
              " 'inferno',\n",
              " 'inferno_r',\n",
              " 'jet',\n",
              " 'jet_r',\n",
              " 'ma',\n",
              " 'magma',\n",
              " 'magma_r',\n",
              " 'mpl',\n",
              " 'nipy_spectral',\n",
              " 'nipy_spectral_r',\n",
              " 'np',\n",
              " 'ocean',\n",
              " 'ocean_r',\n",
              " 'pink',\n",
              " 'pink_r',\n",
              " 'plasma',\n",
              " 'plasma_r',\n",
              " 'prism',\n",
              " 'prism_r',\n",
              " 'rainbow',\n",
              " 'rainbow_r',\n",
              " 'register_cmap',\n",
              " 'revcmap',\n",
              " 'seismic',\n",
              " 'seismic_r',\n",
              " 'spring',\n",
              " 'spring_r',\n",
              " 'summer',\n",
              " 'summer_r',\n",
              " 'tab10',\n",
              " 'tab10_r',\n",
              " 'tab20',\n",
              " 'tab20_r',\n",
              " 'tab20b',\n",
              " 'tab20b_r',\n",
              " 'tab20c',\n",
              " 'tab20c_r',\n",
              " 'terrain',\n",
              " 'terrain_r',\n",
              " 'twilight',\n",
              " 'twilight_r',\n",
              " 'twilight_shifted',\n",
              " 'twilight_shifted_r',\n",
              " 'viridis',\n",
              " 'viridis_r',\n",
              " 'winter',\n",
              " 'winter_r']"
            ]
          },
          "metadata": {
            "tags": []
          },
          "execution_count": 69
        }
      ]
    },
    {
      "cell_type": "code",
      "metadata": {
        "id": "wMdGQaI0KdpL",
        "outputId": "0a99a99d-69e3-431d-b9db-4dbf7debffbd",
        "colab": {
          "base_uri": "https://localhost:8080/",
          "height": 599
        }
      },
      "source": [
        "df[['latitude', 'longitude']].plot.scatter(x='latitude', y='longitude', figsize=(10, 10), c=df['median_house_value'], cmap=plt.cm.bone_r)"
      ],
      "execution_count": null,
      "outputs": [
        {
          "output_type": "execute_result",
          "data": {
            "text/plain": [
              "<matplotlib.axes._subplots.AxesSubplot at 0x7f4db0047940>"
            ]
          },
          "metadata": {
            "tags": []
          },
          "execution_count": 70
        },
        {
          "output_type": "display_data",
          "data": {
            "image/png": "[encoded data removed]",
            "text/plain": [
              "<Figure size 720x720 with 2 Axes>"
            ]
          },
          "metadata": {
            "tags": [],
            "needs_background": "light"
          }
        }
      ]
    },
    {
      "cell_type": "code",
      "metadata": {
        "id": "tCmhzIigMqTv",
        "outputId": "27f9fa2d-b1bd-4eec-ef31-28ef3eb8fc0e",
        "colab": {
          "base_uri": "https://localhost:8080/",
          "height": 595
        }
      },
      "source": [
        "df[['latitude', 'longitude']].plot.scatter(x='latitude', y='longitude', figsize=(10, 10), c=df['population'], cmap=plt.cm.bone_r)"
      ],
      "execution_count": null,
      "outputs": [
        {
          "output_type": "execute_result",
          "data": {
            "text/plain": [
              "<matplotlib.axes._subplots.AxesSubplot at 0x7f4daff71ba8>"
            ]
          },
          "metadata": {
            "tags": []
          },
          "execution_count": 71
        },
        {
          "output_type": "display_data",
          "data": {
            "image/png": "[encoded data removed]",
            "text/plain": [
              "<Figure size 720x720 with 2 Axes>"
            ]
          },
          "metadata": {
            "tags": [],
            "needs_background": "light"
          }
        }
      ]
    },
    {
      "cell_type": "code",
      "metadata": {
        "id": "KtiHuUrxM1lN",
        "outputId": "0542cc21-0a67-45ed-864f-4dd9ad8bca21",
        "colab": {
          "base_uri": "https://localhost:8080/",
          "height": 595
        }
      },
      "source": [
        "df[['latitude', 'longitude', 'housing_median_age']].plot.scatter(x='latitude', y='longitude', figsize=(10, 10), c='housing_median_age', cmap=plt.cm.bone_r)"
      ],
      "execution_count": null,
      "outputs": [
        {
          "output_type": "execute_result",
          "data": {
            "text/plain": [
              "<matplotlib.axes._subplots.AxesSubplot at 0x7f4dae6e86d8>"
            ]
          },
          "metadata": {
            "tags": []
          },
          "execution_count": 72
        },
        {
          "output_type": "display_data",
          "data": {
            "image/png": "[encoded data removed]",
            "text/plain": [
              "<Figure size 720x720 with 2 Axes>"
            ]
          },
          "metadata": {
            "tags": [],
            "needs_background": "light"
          }
        }
      ]
    },
    {
      "cell_type": "code",
      "metadata": {
        "id": "wlktUIJUNkmp",
        "outputId": "121ae275-7e4c-4d6f-c6a2-0c5221a6f25e",
        "colab": {
          "base_uri": "https://localhost:8080/",
          "height": 650
        }
      },
      "source": [
        "df[['housing_median_age', 'median_income']].plot.hist(by='housing_median_age')\n",
        "df[['housing_median_age', 'median_income']]"
      ],
      "execution_count": null,
      "outputs": [
        {
          "output_type": "execute_result",
          "data": {
            "text/html": [
              "<div>\n",
              "<style scoped>\n",
              "    .dataframe tbody tr th:only-of-type {\n",
              "        vertical-align: middle;\n",
              "    }\n",
              "\n",
              "    .dataframe tbody tr th {\n",
              "        vertical-align: top;\n",
              "    }\n",
              "\n",
              "    .dataframe thead th {\n",
              "        text-align: right;\n",
              "    }\n",
              "</style>\n",
              "<table border=\"1\" class=\"dataframe\">\n",
              "  <thead>\n",
              "    <tr style=\"text-align: right;\">\n",
              "      <th></th>\n",
              "      <th>housing_median_age</th>\n",
              "      <th>median_income</th>\n",
              "    </tr>\n",
              "  </thead>\n",
              "  <tbody>\n",
              "    <tr>\n",
              "      <th>0</th>\n",
              "      <td>27.0</td>\n",
              "      <td>6.6085</td>\n",
              "    </tr>\n",
              "    <tr>\n",
              "      <th>1</th>\n",
              "      <td>43.0</td>\n",
              "      <td>3.5990</td>\n",
              "    </tr>\n",
              "    <tr>\n",
              "      <th>2</th>\n",
              "      <td>27.0</td>\n",
              "      <td>5.7934</td>\n",
              "    </tr>\n",
              "    <tr>\n",
              "      <th>3</th>\n",
              "      <td>28.0</td>\n",
              "      <td>6.1359</td>\n",
              "    </tr>\n",
              "    <tr>\n",
              "      <th>4</th>\n",
              "      <td>19.0</td>\n",
              "      <td>2.9375</td>\n",
              "    </tr>\n",
              "    <tr>\n",
              "      <th>...</th>\n",
              "      <td>...</td>\n",
              "      <td>...</td>\n",
              "    </tr>\n",
              "    <tr>\n",
              "      <th>2995</th>\n",
              "      <td>23.0</td>\n",
              "      <td>1.1790</td>\n",
              "    </tr>\n",
              "    <tr>\n",
              "      <th>2996</th>\n",
              "      <td>27.0</td>\n",
              "      <td>3.3906</td>\n",
              "    </tr>\n",
              "    <tr>\n",
              "      <th>2997</th>\n",
              "      <td>10.0</td>\n",
              "      <td>2.2895</td>\n",
              "    </tr>\n",
              "    <tr>\n",
              "      <th>2998</th>\n",
              "      <td>40.0</td>\n",
              "      <td>3.2708</td>\n",
              "    </tr>\n",
              "    <tr>\n",
              "      <th>2999</th>\n",
              "      <td>42.0</td>\n",
              "      <td>8.5608</td>\n",
              "    </tr>\n",
              "  </tbody>\n",
              "</table>\n",
              "<p>3000 rows × 2 columns</p>\n",
              "</div>"
            ],
            "text/plain": [
              "      housing_median_age  median_income\n",
              "0                   27.0         6.6085\n",
              "1                   43.0         3.5990\n",
              "2                   27.0         5.7934\n",
              "3                   28.0         6.1359\n",
              "4                   19.0         2.9375\n",
              "...                  ...            ...\n",
              "2995                23.0         1.1790\n",
              "2996                27.0         3.3906\n",
              "2997                10.0         2.2895\n",
              "2998                40.0         3.2708\n",
              "2999                42.0         8.5608\n",
              "\n",
              "[3000 rows x 2 columns]"
            ]
          },
          "metadata": {
            "tags": []
          },
          "execution_count": 73
        },
        {
          "output_type": "display_data",
          "data": {
            "image/png": "[encoded data removed]",
            "text/plain": [
              "<Figure size 432x288 with 1 Axes>"
            ]
          },
          "metadata": {
            "tags": [],
            "needs_background": "light"
          }
        }
      ]
    },
    {
      "cell_type": "code",
      "metadata": {
        "id": "t5xulzpmNQBI",
        "outputId": "29f93703-de9d-4482-c3bb-98ffb16d883c",
        "colab": {
          "base_uri": "https://localhost:8080/",
          "height": 595
        }
      },
      "source": [
        "df[['latitude', 'longitude']].plot.scatter(x='latitude', y='longitude', figsize=(10, 10), c=df['median_income'], cmap=plt.cm.bone_r)\n"
      ],
      "execution_count": null,
      "outputs": [
        {
          "output_type": "execute_result",
          "data": {
            "text/plain": [
              "<matplotlib.axes._subplots.AxesSubplot at 0x7f4dae591160>"
            ]
          },
          "metadata": {
            "tags": []
          },
          "execution_count": 74
        },
        {
          "output_type": "display_data",
          "data": {
            "image/png": "[encoded data removed]",
            "text/plain": [
              "<Figure size 720x720 with 2 Axes>"
            ]
          },
          "metadata": {
            "tags": [],
            "needs_background": "light"
          }
        }
      ]
    },
    {
      "cell_type": "code",
      "metadata": {
        "id": "WALQGrIeQjuz",
        "outputId": "8b664c41-4952-481e-802a-e400fca0e536",
        "colab": {
          "base_uri": "https://localhost:8080/",
          "height": 449
        }
      },
      "source": [
        "df.diff().hist()"
      ],
      "execution_count": null,
      "outputs": [
        {
          "output_type": "execute_result",
          "data": {
            "text/plain": [
              "array([[<matplotlib.axes._subplots.AxesSubplot object at 0x7f4dae534ef0>,\n",
              "        <matplotlib.axes._subplots.AxesSubplot object at 0x7f4dae4e28d0>,\n",
              "        <matplotlib.axes._subplots.AxesSubplot object at 0x7f4dae492b38>],\n",
              "       [<matplotlib.axes._subplots.AxesSubplot object at 0x7f4dae4c5da0>,\n",
              "        <matplotlib.axes._subplots.AxesSubplot object at 0x7f4dae47afd0>,\n",
              "        <matplotlib.axes._subplots.AxesSubplot object at 0x7f4dae4382b0>],\n",
              "       [<matplotlib.axes._subplots.AxesSubplot object at 0x7f4dae3ed518>,\n",
              "        <matplotlib.axes._subplots.AxesSubplot object at 0x7f4dae3a1748>,\n",
              "        <matplotlib.axes._subplots.AxesSubplot object at 0x7f4dae3a17b8>]],\n",
              "      dtype=object)"
            ]
          },
          "metadata": {
            "tags": []
          },
          "execution_count": 75
        },
        {
          "output_type": "display_data",
          "data": {
            "image/png": "[encoded data removed]",
            "text/plain": [
              "<Figure size 432x288 with 9 Axes>"
            ]
          },
          "metadata": {
            "tags": [],
            "needs_background": "light"
          }
        }
      ]
    },
    {
      "cell_type": "markdown",
      "metadata": {
        "id": "UiNkorPoXtMC"
      },
      "source": [
        "### Ejercicio 1:\n",
        "Dado el registro de notas de los alumnos de la forma (padrón, materia, nota, fecha). Se pide resolver utilizando Pandas:\n",
        "\n"
      ]
    },
    {
      "cell_type": "code",
      "metadata": {
        "id": "G-70HMiYTX1I"
      },
      "source": [
        "import numpy as np\n",
        "import pandas as pd"
      ],
      "execution_count": null,
      "outputs": []
    },
    {
      "cell_type": "code",
      "metadata": {
        "id": "DAudEbU6S-cR",
        "outputId": "f11e057a-9893-4c0e-f010-44c57e87a53f",
        "colab": {
          "base_uri": "https://localhost:8080/",
          "height": 402
        }
      },
      "source": [
        "k = 2000\n",
        "notas = pd.DataFrame(data={\n",
        "    'padrón': np.random.randint(102000, high=105000, size=k),\n",
        "    'materia': np.random.choice(['6620', '6110', '6109', '7541', '7540', '6670'], k, p=[0.05, 0.1,0.2, 0.2, 0.3, 0.15]),\n",
        "    'nota': np.random.randint(2, 10, size=k),\n",
        "    'fecha': np.random.choice(pd.date_range(start='5/10/2018', end='9/10/2020'), k),\n",
        "})\n",
        "notas['padrón'] = notas['padrón'].astype('object')\n",
        "notas['materia'] = notas['materia'].astype('category')\n",
        "notas"
      ],
      "execution_count": null,
      "outputs": [
        {
          "output_type": "execute_result",
          "data": {
            "text/html": [
              "<div>\n",
              "<style scoped>\n",
              "    .dataframe tbody tr th:only-of-type {\n",
              "        vertical-align: middle;\n",
              "    }\n",
              "\n",
              "    .dataframe tbody tr th {\n",
              "        vertical-align: top;\n",
              "    }\n",
              "\n",
              "    .dataframe thead th {\n",
              "        text-align: right;\n",
              "    }\n",
              "</style>\n",
              "<table border=\"1\" class=\"dataframe\">\n",
              "  <thead>\n",
              "    <tr style=\"text-align: right;\">\n",
              "      <th></th>\n",
              "      <th>padrón</th>\n",
              "      <th>materia</th>\n",
              "      <th>nota</th>\n",
              "      <th>fecha</th>\n",
              "    </tr>\n",
              "  </thead>\n",
              "  <tbody>\n",
              "    <tr>\n",
              "      <th>0</th>\n",
              "      <td>104941</td>\n",
              "      <td>6620</td>\n",
              "      <td>5</td>\n",
              "      <td>2019-07-13</td>\n",
              "    </tr>\n",
              "    <tr>\n",
              "      <th>1</th>\n",
              "      <td>102336</td>\n",
              "      <td>6109</td>\n",
              "      <td>3</td>\n",
              "      <td>2020-08-23</td>\n",
              "    </tr>\n",
              "    <tr>\n",
              "      <th>2</th>\n",
              "      <td>103495</td>\n",
              "      <td>6109</td>\n",
              "      <td>6</td>\n",
              "      <td>2018-09-22</td>\n",
              "    </tr>\n",
              "    <tr>\n",
              "      <th>3</th>\n",
              "      <td>104167</td>\n",
              "      <td>6110</td>\n",
              "      <td>4</td>\n",
              "      <td>2020-04-10</td>\n",
              "    </tr>\n",
              "    <tr>\n",
              "      <th>4</th>\n",
              "      <td>103406</td>\n",
              "      <td>7540</td>\n",
              "      <td>5</td>\n",
              "      <td>2018-08-14</td>\n",
              "    </tr>\n",
              "    <tr>\n",
              "      <th>...</th>\n",
              "      <td>...</td>\n",
              "      <td>...</td>\n",
              "      <td>...</td>\n",
              "      <td>...</td>\n",
              "    </tr>\n",
              "    <tr>\n",
              "      <th>1995</th>\n",
              "      <td>103004</td>\n",
              "      <td>6109</td>\n",
              "      <td>9</td>\n",
              "      <td>2020-07-11</td>\n",
              "    </tr>\n",
              "    <tr>\n",
              "      <th>1996</th>\n",
              "      <td>103230</td>\n",
              "      <td>7540</td>\n",
              "      <td>3</td>\n",
              "      <td>2020-07-23</td>\n",
              "    </tr>\n",
              "    <tr>\n",
              "      <th>1997</th>\n",
              "      <td>103685</td>\n",
              "      <td>7540</td>\n",
              "      <td>6</td>\n",
              "      <td>2018-07-26</td>\n",
              "    </tr>\n",
              "    <tr>\n",
              "      <th>1998</th>\n",
              "      <td>102143</td>\n",
              "      <td>6620</td>\n",
              "      <td>3</td>\n",
              "      <td>2020-06-19</td>\n",
              "    </tr>\n",
              "    <tr>\n",
              "      <th>1999</th>\n",
              "      <td>102418</td>\n",
              "      <td>6670</td>\n",
              "      <td>4</td>\n",
              "      <td>2018-07-18</td>\n",
              "    </tr>\n",
              "  </tbody>\n",
              "</table>\n",
              "<p>2000 rows × 4 columns</p>\n",
              "</div>"
            ],
            "text/plain": [
              "      padrón materia  nota      fecha\n",
              "0     104941    6620     5 2019-07-13\n",
              "1     102336    6109     3 2020-08-23\n",
              "2     103495    6109     6 2018-09-22\n",
              "3     104167    6110     4 2020-04-10\n",
              "4     103406    7540     5 2018-08-14\n",
              "...      ...     ...   ...        ...\n",
              "1995  103004    6109     9 2020-07-11\n",
              "1996  103230    7540     3 2020-07-23\n",
              "1997  103685    7540     6 2018-07-26\n",
              "1998  102143    6620     3 2020-06-19\n",
              "1999  102418    6670     4 2018-07-18\n",
              "\n",
              "[2000 rows x 4 columns]"
            ]
          },
          "metadata": {
            "tags": []
          },
          "execution_count": 77
        }
      ]
    },
    {
      "cell_type": "markdown",
      "metadata": {
        "id": "DYUxEXmFX-Il"
      },
      "source": [
        "#### a. ¿Cuál es el promedio general de notas?\n"
      ]
    },
    {
      "cell_type": "code",
      "metadata": {
        "id": "gezJm7KfX7S3",
        "outputId": "26ffe030-efdb-4250-9d56-d6eeb2853c8e",
        "colab": {
          "base_uri": "https://localhost:8080/",
          "height": 34
        }
      },
      "source": [
        "notas['nota'].mean()"
      ],
      "execution_count": null,
      "outputs": [
        {
          "output_type": "execute_result",
          "data": {
            "text/plain": [
              "5.5185"
            ]
          },
          "metadata": {
            "tags": []
          },
          "execution_count": 78
        }
      ]
    },
    {
      "cell_type": "markdown",
      "metadata": {
        "id": "yg4mSdjyYQBh"
      },
      "source": [
        "#### b. ¿Cuál es la nota más alta y la nota más baja registrada durante el año 2019?\n",
        "\n",
        "\n",
        "\n",
        "\n"
      ]
    },
    {
      "cell_type": "code",
      "metadata": {
        "id": "CZYIPG5HYsCH"
      },
      "source": [
        "import datetime as dt"
      ],
      "execution_count": null,
      "outputs": []
    },
    {
      "cell_type": "code",
      "metadata": {
        "id": "Za8Y1X0vYfAx",
        "outputId": "d750bdbd-6f4e-4b86-c831-b26d6979d6fa",
        "colab": {
          "base_uri": "https://localhost:8080/",
          "height": 134
        }
      },
      "source": [
        "notas_2019 = notas.loc[notas['fecha'].dt.year == 2019]\n",
        "(notas_2019.min(), notas_2019.max())"
      ],
      "execution_count": null,
      "outputs": [
        {
          "output_type": "execute_result",
          "data": {
            "text/plain": [
              "(padrón                 102003\n",
              " nota                        2\n",
              " fecha     2019-01-01 00:00:00\n",
              " dtype: object, padrón                 104998\n",
              " nota                        9\n",
              " fecha     2019-12-30 00:00:00\n",
              " dtype: object)"
            ]
          },
          "metadata": {
            "tags": []
          },
          "execution_count": 80
        }
      ]
    },
    {
      "cell_type": "markdown",
      "metadata": {
        "id": "ij-OcGVPZCTR"
      },
      "source": [
        "#### c. ¿Cuál es el padrón con mayor cantidad de materias aprobadas durante el último cuatrimestre?"
      ]
    },
    {
      "cell_type": "code",
      "metadata": {
        "id": "f4Iu4JYsZBEB",
        "outputId": "c42dc446-a4fb-4899-e9f4-6ecdec29cad1",
        "colab": {
          "base_uri": "https://localhost:8080/",
          "height": 136
        }
      },
      "source": [
        "comienzo_cuatrimestre = '6/1/2020'\n",
        "notas_del_cuatrimestre = notas.loc[notas['fecha'] >= comienzo_cuatrimestre]\n",
        "materias_aprobadas = notas_del_cuatrimestre.groupby('padrón').agg({\n",
        "    'nota': lambda nota: (nota > 4).sum(),  \n",
        "}).reset_index().rename(columns={'nota': 'materias aprobadas'})\n",
        "materias_aprobadas[materias_aprobadas['materias aprobadas'] == materias_aprobadas['materias aprobadas'].max()]"
      ],
      "execution_count": null,
      "outputs": [
        {
          "output_type": "execute_result",
          "data": {
            "text/html": [
              "<div>\n",
              "<style scoped>\n",
              "    .dataframe tbody tr th:only-of-type {\n",
              "        vertical-align: middle;\n",
              "    }\n",
              "\n",
              "    .dataframe tbody tr th {\n",
              "        vertical-align: top;\n",
              "    }\n",
              "\n",
              "    .dataframe thead th {\n",
              "        text-align: right;\n",
              "    }\n",
              "</style>\n",
              "<table border=\"1\" class=\"dataframe\">\n",
              "  <thead>\n",
              "    <tr style=\"text-align: right;\">\n",
              "      <th></th>\n",
              "      <th>padrón</th>\n",
              "      <th>materias aprobadas</th>\n",
              "    </tr>\n",
              "  </thead>\n",
              "  <tbody>\n",
              "    <tr>\n",
              "      <th>26</th>\n",
              "      <td>102403</td>\n",
              "      <td>2</td>\n",
              "    </tr>\n",
              "    <tr>\n",
              "      <th>47</th>\n",
              "      <td>102706</td>\n",
              "      <td>2</td>\n",
              "    </tr>\n",
              "    <tr>\n",
              "      <th>62</th>\n",
              "      <td>102948</td>\n",
              "      <td>2</td>\n",
              "    </tr>\n",
              "  </tbody>\n",
              "</table>\n",
              "</div>"
            ],
            "text/plain": [
              "    padrón  materias aprobadas\n",
              "26  102403                   2\n",
              "47  102706                   2\n",
              "62  102948                   2"
            ]
          },
          "metadata": {
            "tags": []
          },
          "execution_count": 81
        }
      ]
    },
    {
      "cell_type": "markdown",
      "metadata": {
        "id": "qa-V6lCIcX-3"
      },
      "source": [
        "#### d. ¿Cuál es la nota promedio por materia?"
      ]
    },
    {
      "cell_type": "code",
      "metadata": {
        "id": "vprl3ixpcbMN",
        "outputId": "fff05a42-1cc9-4020-958d-abbaad759a64",
        "colab": {
          "base_uri": "https://localhost:8080/",
          "height": 254
        }
      },
      "source": [
        "notas_promedio_por_materia = notas.groupby('materia').agg({'nota': 'mean'})\n",
        "notas_promedio_por_materia"
      ],
      "execution_count": null,
      "outputs": [
        {
          "output_type": "execute_result",
          "data": {
            "text/html": [
              "<div>\n",
              "<style scoped>\n",
              "    .dataframe tbody tr th:only-of-type {\n",
              "        vertical-align: middle;\n",
              "    }\n",
              "\n",
              "    .dataframe tbody tr th {\n",
              "        vertical-align: top;\n",
              "    }\n",
              "\n",
              "    .dataframe thead th {\n",
              "        text-align: right;\n",
              "    }\n",
              "</style>\n",
              "<table border=\"1\" class=\"dataframe\">\n",
              "  <thead>\n",
              "    <tr style=\"text-align: right;\">\n",
              "      <th></th>\n",
              "      <th>nota</th>\n",
              "    </tr>\n",
              "    <tr>\n",
              "      <th>materia</th>\n",
              "      <th></th>\n",
              "    </tr>\n",
              "  </thead>\n",
              "  <tbody>\n",
              "    <tr>\n",
              "      <th>6109</th>\n",
              "      <td>5.560302</td>\n",
              "    </tr>\n",
              "    <tr>\n",
              "      <th>6110</th>\n",
              "      <td>5.397196</td>\n",
              "    </tr>\n",
              "    <tr>\n",
              "      <th>6620</th>\n",
              "      <td>5.729167</td>\n",
              "    </tr>\n",
              "    <tr>\n",
              "      <th>6670</th>\n",
              "      <td>5.419244</td>\n",
              "    </tr>\n",
              "    <tr>\n",
              "      <th>7540</th>\n",
              "      <td>5.517529</td>\n",
              "    </tr>\n",
              "    <tr>\n",
              "      <th>7541</th>\n",
              "      <td>5.564677</td>\n",
              "    </tr>\n",
              "  </tbody>\n",
              "</table>\n",
              "</div>"
            ],
            "text/plain": [
              "             nota\n",
              "materia          \n",
              "6109     5.560302\n",
              "6110     5.397196\n",
              "6620     5.729167\n",
              "6670     5.419244\n",
              "7540     5.517529\n",
              "7541     5.564677"
            ]
          },
          "metadata": {
            "tags": []
          },
          "execution_count": 82
        }
      ]
    },
    {
      "cell_type": "markdown",
      "metadata": {
        "id": "yT9Vh-Y2c8nW"
      },
      "source": [
        "#### e. ¿Cuál es la nota promedio por padrón?"
      ]
    },
    {
      "cell_type": "code",
      "metadata": {
        "id": "eigy1_xMc4R3",
        "outputId": "020a96cc-149d-4912-e0bc-e02a11a9ac3d",
        "colab": {
          "base_uri": "https://localhost:8080/",
          "height": 431
        }
      },
      "source": [
        "notas_promedio_por_padron = notas.groupby('padrón').agg({'nota': 'mean'})\n",
        "notas_promedio_por_padron"
      ],
      "execution_count": null,
      "outputs": [
        {
          "output_type": "execute_result",
          "data": {
            "text/html": [
              "<div>\n",
              "<style scoped>\n",
              "    .dataframe tbody tr th:only-of-type {\n",
              "        vertical-align: middle;\n",
              "    }\n",
              "\n",
              "    .dataframe tbody tr th {\n",
              "        vertical-align: top;\n",
              "    }\n",
              "\n",
              "    .dataframe thead th {\n",
              "        text-align: right;\n",
              "    }\n",
              "</style>\n",
              "<table border=\"1\" class=\"dataframe\">\n",
              "  <thead>\n",
              "    <tr style=\"text-align: right;\">\n",
              "      <th></th>\n",
              "      <th>nota</th>\n",
              "    </tr>\n",
              "    <tr>\n",
              "      <th>padrón</th>\n",
              "      <th></th>\n",
              "    </tr>\n",
              "  </thead>\n",
              "  <tbody>\n",
              "    <tr>\n",
              "      <th>102000</th>\n",
              "      <td>7.0</td>\n",
              "    </tr>\n",
              "    <tr>\n",
              "      <th>102001</th>\n",
              "      <td>6.0</td>\n",
              "    </tr>\n",
              "    <tr>\n",
              "      <th>102003</th>\n",
              "      <td>3.0</td>\n",
              "    </tr>\n",
              "    <tr>\n",
              "      <th>102004</th>\n",
              "      <td>3.0</td>\n",
              "    </tr>\n",
              "    <tr>\n",
              "      <th>102007</th>\n",
              "      <td>6.5</td>\n",
              "    </tr>\n",
              "    <tr>\n",
              "      <th>...</th>\n",
              "      <td>...</td>\n",
              "    </tr>\n",
              "    <tr>\n",
              "      <th>104987</th>\n",
              "      <td>4.0</td>\n",
              "    </tr>\n",
              "    <tr>\n",
              "      <th>104991</th>\n",
              "      <td>7.0</td>\n",
              "    </tr>\n",
              "    <tr>\n",
              "      <th>104995</th>\n",
              "      <td>4.0</td>\n",
              "    </tr>\n",
              "    <tr>\n",
              "      <th>104996</th>\n",
              "      <td>4.5</td>\n",
              "    </tr>\n",
              "    <tr>\n",
              "      <th>104998</th>\n",
              "      <td>4.0</td>\n",
              "    </tr>\n",
              "  </tbody>\n",
              "</table>\n",
              "<p>1447 rows × 1 columns</p>\n",
              "</div>"
            ],
            "text/plain": [
              "        nota\n",
              "padrón      \n",
              "102000   7.0\n",
              "102001   6.0\n",
              "102003   3.0\n",
              "102004   3.0\n",
              "102007   6.5\n",
              "...      ...\n",
              "104987   4.0\n",
              "104991   7.0\n",
              "104995   4.0\n",
              "104996   4.5\n",
              "104998   4.0\n",
              "\n",
              "[1447 rows x 1 columns]"
            ]
          },
          "metadata": {
            "tags": []
          },
          "execution_count": 83
        }
      ]
    },
    {
      "cell_type": "markdown",
      "metadata": {
        "id": "G6GC2pA0dPmN"
      },
      "source": [
        "### Ejercicio 2:\n",
        "Se tiene un registro de transacciones bancarias, de la forma (nro de transacción, tipo de transacción, cuenta origen, cuenta destino, fecha, hora, monto). Se pide resolver en Pandas:\n",
        "\n",
        " 1. Validar que todas las transacciones cuenten con un tipo de transacción.\n",
        " 1. Validar que para las transacciones del tipo transferencia, exista siempre tanto cuenta origen como cuenta destino.\n",
        " 1. Verificar que todas las transacciones del tipo transferencia, depósito y extracción cuenten con montos distintos de cero.\n",
        " 1. Indicar cuáles fueron las 10 transacciones de mayor monto.\n",
        " 1. Indicar cuál es el tipo de transacción que registra mayor monto promedio.\n",
        " 1. Indicar cuáles son las 5 cuentas con mayor cantidad de transacciones.\n",
        " 1. Indicar cuáles son las 5 cuentas con mayor monto involucrado.\n",
        " 1. Para el tipo de transacción con mayor cantidad de monto promedio, indicar cuales son las 5 cuentas con más transacciones.\n"
      ]
    },
    {
      "cell_type": "code",
      "metadata": {
        "id": "LDSjoBqTdOHH"
      },
      "source": [
        "import pandas as pd\n",
        "import datetime as dt\n",
        "import numpy as np"
      ],
      "execution_count": null,
      "outputs": []
    },
    {
      "cell_type": "code",
      "metadata": {
        "id": "Lsjq1ezdddz5",
        "outputId": "17b413f5-bda1-4f57-c406-bec6a8fd00fd",
        "colab": {
          "base_uri": "https://localhost:8080/",
          "height": 1000
        }
      },
      "source": [
        "k = 200\n",
        "transacciones = pd.DataFrame(data={\n",
        "    'nro de transaccion': np.arange(1000, 1000 + k),\n",
        "    'tipo de transaccion': np.random.choice(['transferencia', 'deposito', 'extraccion', None], k, p=[0.5, 0.25, 0.2, 0.05]),\n",
        "    'cuenta origen': np.random.randint(500, 1000, k),\n",
        "    'cuenta destino': np.random.randint(500, 1000, k),\n",
        "    'fecha': np.random.choice(pd.date_range(start='5/10/2018', end='9/10/2020'), k),\n",
        "    'hora': np.random.choice(pd.date_range(start='10:00', end='15:00', freq='S').time, k),\n",
        "    'monto': np.random.uniform(100, 10000, size=k),\n",
        "})\n",
        "transacciones['tipo de transaccion'] = transacciones['tipo de transaccion'].astype('category')\n",
        "transacciones['cuenta origen'] = transacciones['cuenta origen'].astype('int32')\n",
        "transacciones['cuenta destino'] = transacciones['cuenta destino'].astype('int32')\n",
        "# transacciones.info()\n",
        "transacciones = transacciones.dropna(subset=['tipo de transaccion'])\n",
        "\n",
        "\n",
        "cuentas_destino_cuentas_transferencia = transacciones.loc[transacciones['tipo de transaccion'] == 'transferencia'].index\n",
        "\n",
        "transacciones.at[cuentas_destino_cuentas_transferencia[0], 'cuenta destino'] = None\n",
        "transacciones.at[cuentas_destino_cuentas_transferencia[10], 'cuenta destino'] = None\n",
        "transacciones.at[cuentas_destino_cuentas_transferencia[2], 'cuenta destino'] = None\n",
        "transacciones.at[cuentas_destino_cuentas_transferencia[3], 'cuenta destino'] = None\n",
        "transacciones.at[cuentas_destino_cuentas_transferencia[15], 'cuenta origen'] = None\n",
        "transacciones.at[cuentas_destino_cuentas_transferencia[9], 'cuenta origen'] = None\n",
        "transacciones.at[cuentas_destino_cuentas_transferencia[23], 'cuenta origen'] = None\n",
        "transacciones.at[cuentas_destino_cuentas_transferencia[4], 'cuenta origen'] = None\n",
        "\n",
        "transacciones = transacciones.drop(\n",
        "    transacciones[(transacciones['tipo de transaccion'] == 'transferencia') & (transacciones['cuenta destino'].isna() | transacciones['cuenta origen'].isna())]\n",
        "    .index)\n",
        "transacciones\n",
        "\n",
        "transacciones.nlargest(10, 'monto')[['nro de transaccion', 'monto']]\n",
        "\n",
        "promedio_por_tipo_de_transaccion = transacciones.groupby('tipo de transaccion').agg({\n",
        "    'monto': 'mean'\n",
        "}).reset_index()\n",
        "\n",
        "\n",
        "transacciones_por_cuenta_origen = transacciones[['tipo de transaccion', 'cuenta origen', 'monto']].rename(columns={'cuenta origen': 'cuenta'})\n",
        "transacciones_por_cuenta_destino = transacciones[['tipo de transaccion', 'cuenta destino', 'monto']].rename(columns={'cuenta destino': 'cuenta'})\n",
        "transacciones_por_cuenta = pd.concat((transacciones_por_cuenta_origen, transacciones_por_cuenta_destino))\n",
        "# transacciones_por_cuenta_origen\n",
        "# transacciones_por_cuenta_destino\n",
        "cant_transacciones_por_cuenta = transacciones_por_cuenta[['tipo de transaccion', 'cuenta']].groupby('cuenta').agg('count').reset_index().rename(columns={'tipo de transaccion': 'cant de transacciones'}).nlargest(5, 'cant de transacciones')\n",
        "cant_transacciones_por_cuenta\n",
        "\n",
        "transacciones_por_cuenta[['cuenta', 'monto']].nlargest(5, 'monto')\n",
        "# transacciones\n",
        "tipo_de_extraccion_max = promedio_por_tipo_de_transaccion[promedio_por_tipo_de_transaccion['monto'] == promedio_por_tipo_de_transaccion['monto'].max()]\n",
        "\n",
        "tipo_de_extraccion_max.merge(transacciones, on='tipo de transaccion')"
      ],
      "execution_count": null,
      "outputs": [
        {
          "output_type": "execute_result",
          "data": {
            "text/html": [
              "<div>\n",
              "<style scoped>\n",
              "    .dataframe tbody tr th:only-of-type {\n",
              "        vertical-align: middle;\n",
              "    }\n",
              "\n",
              "    .dataframe tbody tr th {\n",
              "        vertical-align: top;\n",
              "    }\n",
              "\n",
              "    .dataframe thead th {\n",
              "        text-align: right;\n",
              "    }\n",
              "</style>\n",
              "<table border=\"1\" class=\"dataframe\">\n",
              "  <thead>\n",
              "    <tr style=\"text-align: right;\">\n",
              "      <th></th>\n",
              "      <th>tipo de transaccion</th>\n",
              "      <th>monto_x</th>\n",
              "      <th>nro de transaccion</th>\n",
              "      <th>cuenta origen</th>\n",
              "      <th>cuenta destino</th>\n",
              "      <th>fecha</th>\n",
              "      <th>hora</th>\n",
              "      <th>monto_y</th>\n",
              "    </tr>\n",
              "  </thead>\n",
              "  <tbody>\n",
              "    <tr>\n",
              "      <th>0</th>\n",
              "      <td>deposito</td>\n",
              "      <td>5099.883216</td>\n",
              "      <td>1000</td>\n",
              "      <td>556.0</td>\n",
              "      <td>690.0</td>\n",
              "      <td>2018-09-01</td>\n",
              "      <td>11:06:05</td>\n",
              "      <td>2394.454932</td>\n",
              "    </tr>\n",
              "    <tr>\n",
              "      <th>1</th>\n",
              "      <td>deposito</td>\n",
              "      <td>5099.883216</td>\n",
              "      <td>1003</td>\n",
              "      <td>881.0</td>\n",
              "      <td>853.0</td>\n",
              "      <td>2019-06-29</td>\n",
              "      <td>14:46:38</td>\n",
              "      <td>5341.085510</td>\n",
              "    </tr>\n",
              "    <tr>\n",
              "      <th>2</th>\n",
              "      <td>deposito</td>\n",
              "      <td>5099.883216</td>\n",
              "      <td>1008</td>\n",
              "      <td>605.0</td>\n",
              "      <td>900.0</td>\n",
              "      <td>2019-08-07</td>\n",
              "      <td>12:44:49</td>\n",
              "      <td>590.501611</td>\n",
              "    </tr>\n",
              "    <tr>\n",
              "      <th>3</th>\n",
              "      <td>deposito</td>\n",
              "      <td>5099.883216</td>\n",
              "      <td>1014</td>\n",
              "      <td>621.0</td>\n",
              "      <td>634.0</td>\n",
              "      <td>2020-03-29</td>\n",
              "      <td>14:33:25</td>\n",
              "      <td>4281.310827</td>\n",
              "    </tr>\n",
              "    <tr>\n",
              "      <th>4</th>\n",
              "      <td>deposito</td>\n",
              "      <td>5099.883216</td>\n",
              "      <td>1015</td>\n",
              "      <td>635.0</td>\n",
              "      <td>633.0</td>\n",
              "      <td>2018-07-23</td>\n",
              "      <td>11:25:08</td>\n",
              "      <td>2755.482092</td>\n",
              "    </tr>\n",
              "    <tr>\n",
              "      <th>5</th>\n",
              "      <td>deposito</td>\n",
              "      <td>5099.883216</td>\n",
              "      <td>1017</td>\n",
              "      <td>938.0</td>\n",
              "      <td>697.0</td>\n",
              "      <td>2018-12-25</td>\n",
              "      <td>10:47:27</td>\n",
              "      <td>9445.712601</td>\n",
              "    </tr>\n",
              "    <tr>\n",
              "      <th>6</th>\n",
              "      <td>deposito</td>\n",
              "      <td>5099.883216</td>\n",
              "      <td>1019</td>\n",
              "      <td>765.0</td>\n",
              "      <td>519.0</td>\n",
              "      <td>2019-11-09</td>\n",
              "      <td>13:04:56</td>\n",
              "      <td>5823.004928</td>\n",
              "    </tr>\n",
              "    <tr>\n",
              "      <th>7</th>\n",
              "      <td>deposito</td>\n",
              "      <td>5099.883216</td>\n",
              "      <td>1023</td>\n",
              "      <td>684.0</td>\n",
              "      <td>554.0</td>\n",
              "      <td>2018-12-05</td>\n",
              "      <td>10:29:56</td>\n",
              "      <td>9175.064392</td>\n",
              "    </tr>\n",
              "    <tr>\n",
              "      <th>8</th>\n",
              "      <td>deposito</td>\n",
              "      <td>5099.883216</td>\n",
              "      <td>1030</td>\n",
              "      <td>892.0</td>\n",
              "      <td>738.0</td>\n",
              "      <td>2019-04-22</td>\n",
              "      <td>14:06:44</td>\n",
              "      <td>8332.451855</td>\n",
              "    </tr>\n",
              "    <tr>\n",
              "      <th>9</th>\n",
              "      <td>deposito</td>\n",
              "      <td>5099.883216</td>\n",
              "      <td>1034</td>\n",
              "      <td>748.0</td>\n",
              "      <td>994.0</td>\n",
              "      <td>2019-02-28</td>\n",
              "      <td>11:39:45</td>\n",
              "      <td>6915.336218</td>\n",
              "    </tr>\n",
              "    <tr>\n",
              "      <th>10</th>\n",
              "      <td>deposito</td>\n",
              "      <td>5099.883216</td>\n",
              "      <td>1037</td>\n",
              "      <td>819.0</td>\n",
              "      <td>515.0</td>\n",
              "      <td>2019-07-12</td>\n",
              "      <td>12:34:46</td>\n",
              "      <td>2688.079682</td>\n",
              "    </tr>\n",
              "    <tr>\n",
              "      <th>11</th>\n",
              "      <td>deposito</td>\n",
              "      <td>5099.883216</td>\n",
              "      <td>1041</td>\n",
              "      <td>887.0</td>\n",
              "      <td>888.0</td>\n",
              "      <td>2018-10-06</td>\n",
              "      <td>10:57:13</td>\n",
              "      <td>3598.546419</td>\n",
              "    </tr>\n",
              "    <tr>\n",
              "      <th>12</th>\n",
              "      <td>deposito</td>\n",
              "      <td>5099.883216</td>\n",
              "      <td>1045</td>\n",
              "      <td>672.0</td>\n",
              "      <td>656.0</td>\n",
              "      <td>2019-03-12</td>\n",
              "      <td>14:30:04</td>\n",
              "      <td>3594.285276</td>\n",
              "    </tr>\n",
              "    <tr>\n",
              "      <th>13</th>\n",
              "      <td>deposito</td>\n",
              "      <td>5099.883216</td>\n",
              "      <td>1052</td>\n",
              "      <td>850.0</td>\n",
              "      <td>923.0</td>\n",
              "      <td>2018-11-28</td>\n",
              "      <td>13:04:40</td>\n",
              "      <td>5426.643442</td>\n",
              "    </tr>\n",
              "    <tr>\n",
              "      <th>14</th>\n",
              "      <td>deposito</td>\n",
              "      <td>5099.883216</td>\n",
              "      <td>1062</td>\n",
              "      <td>654.0</td>\n",
              "      <td>983.0</td>\n",
              "      <td>2020-07-04</td>\n",
              "      <td>10:39:38</td>\n",
              "      <td>9878.930404</td>\n",
              "    </tr>\n",
              "    <tr>\n",
              "      <th>15</th>\n",
              "      <td>deposito</td>\n",
              "      <td>5099.883216</td>\n",
              "      <td>1065</td>\n",
              "      <td>989.0</td>\n",
              "      <td>626.0</td>\n",
              "      <td>2019-10-09</td>\n",
              "      <td>13:15:25</td>\n",
              "      <td>1957.420953</td>\n",
              "    </tr>\n",
              "    <tr>\n",
              "      <th>16</th>\n",
              "      <td>deposito</td>\n",
              "      <td>5099.883216</td>\n",
              "      <td>1066</td>\n",
              "      <td>851.0</td>\n",
              "      <td>784.0</td>\n",
              "      <td>2019-09-16</td>\n",
              "      <td>14:39:39</td>\n",
              "      <td>3856.147139</td>\n",
              "    </tr>\n",
              "    <tr>\n",
              "      <th>17</th>\n",
              "      <td>deposito</td>\n",
              "      <td>5099.883216</td>\n",
              "      <td>1067</td>\n",
              "      <td>605.0</td>\n",
              "      <td>598.0</td>\n",
              "      <td>2019-07-12</td>\n",
              "      <td>11:49:39</td>\n",
              "      <td>8410.152463</td>\n",
              "    </tr>\n",
              "    <tr>\n",
              "      <th>18</th>\n",
              "      <td>deposito</td>\n",
              "      <td>5099.883216</td>\n",
              "      <td>1068</td>\n",
              "      <td>878.0</td>\n",
              "      <td>664.0</td>\n",
              "      <td>2020-05-08</td>\n",
              "      <td>14:58:06</td>\n",
              "      <td>9887.820282</td>\n",
              "    </tr>\n",
              "    <tr>\n",
              "      <th>19</th>\n",
              "      <td>deposito</td>\n",
              "      <td>5099.883216</td>\n",
              "      <td>1070</td>\n",
              "      <td>531.0</td>\n",
              "      <td>735.0</td>\n",
              "      <td>2020-06-06</td>\n",
              "      <td>14:40:13</td>\n",
              "      <td>7723.485464</td>\n",
              "    </tr>\n",
              "    <tr>\n",
              "      <th>20</th>\n",
              "      <td>deposito</td>\n",
              "      <td>5099.883216</td>\n",
              "      <td>1073</td>\n",
              "      <td>651.0</td>\n",
              "      <td>778.0</td>\n",
              "      <td>2018-05-30</td>\n",
              "      <td>11:03:22</td>\n",
              "      <td>1678.928253</td>\n",
              "    </tr>\n",
              "    <tr>\n",
              "      <th>21</th>\n",
              "      <td>deposito</td>\n",
              "      <td>5099.883216</td>\n",
              "      <td>1078</td>\n",
              "      <td>883.0</td>\n",
              "      <td>752.0</td>\n",
              "      <td>2018-05-12</td>\n",
              "      <td>11:33:23</td>\n",
              "      <td>4236.000149</td>\n",
              "    </tr>\n",
              "    <tr>\n",
              "      <th>22</th>\n",
              "      <td>deposito</td>\n",
              "      <td>5099.883216</td>\n",
              "      <td>1079</td>\n",
              "      <td>584.0</td>\n",
              "      <td>955.0</td>\n",
              "      <td>2020-04-11</td>\n",
              "      <td>13:35:42</td>\n",
              "      <td>4288.095929</td>\n",
              "    </tr>\n",
              "    <tr>\n",
              "      <th>23</th>\n",
              "      <td>deposito</td>\n",
              "      <td>5099.883216</td>\n",
              "      <td>1081</td>\n",
              "      <td>718.0</td>\n",
              "      <td>671.0</td>\n",
              "      <td>2019-02-12</td>\n",
              "      <td>14:06:35</td>\n",
              "      <td>7755.562290</td>\n",
              "    </tr>\n",
              "    <tr>\n",
              "      <th>24</th>\n",
              "      <td>deposito</td>\n",
              "      <td>5099.883216</td>\n",
              "      <td>1083</td>\n",
              "      <td>538.0</td>\n",
              "      <td>863.0</td>\n",
              "      <td>2019-10-12</td>\n",
              "      <td>10:50:49</td>\n",
              "      <td>3147.351168</td>\n",
              "    </tr>\n",
              "    <tr>\n",
              "      <th>25</th>\n",
              "      <td>deposito</td>\n",
              "      <td>5099.883216</td>\n",
              "      <td>1088</td>\n",
              "      <td>786.0</td>\n",
              "      <td>988.0</td>\n",
              "      <td>2018-07-23</td>\n",
              "      <td>13:47:12</td>\n",
              "      <td>177.040931</td>\n",
              "    </tr>\n",
              "    <tr>\n",
              "      <th>26</th>\n",
              "      <td>deposito</td>\n",
              "      <td>5099.883216</td>\n",
              "      <td>1091</td>\n",
              "      <td>749.0</td>\n",
              "      <td>592.0</td>\n",
              "      <td>2018-10-04</td>\n",
              "      <td>11:43:52</td>\n",
              "      <td>6759.373539</td>\n",
              "    </tr>\n",
              "    <tr>\n",
              "      <th>27</th>\n",
              "      <td>deposito</td>\n",
              "      <td>5099.883216</td>\n",
              "      <td>1095</td>\n",
              "      <td>780.0</td>\n",
              "      <td>747.0</td>\n",
              "      <td>2019-07-13</td>\n",
              "      <td>12:01:40</td>\n",
              "      <td>9577.589325</td>\n",
              "    </tr>\n",
              "    <tr>\n",
              "      <th>28</th>\n",
              "      <td>deposito</td>\n",
              "      <td>5099.883216</td>\n",
              "      <td>1096</td>\n",
              "      <td>856.0</td>\n",
              "      <td>796.0</td>\n",
              "      <td>2018-11-06</td>\n",
              "      <td>12:56:10</td>\n",
              "      <td>6201.126413</td>\n",
              "    </tr>\n",
              "    <tr>\n",
              "      <th>29</th>\n",
              "      <td>deposito</td>\n",
              "      <td>5099.883216</td>\n",
              "      <td>1097</td>\n",
              "      <td>785.0</td>\n",
              "      <td>989.0</td>\n",
              "      <td>2019-05-18</td>\n",
              "      <td>10:22:38</td>\n",
              "      <td>5134.330906</td>\n",
              "    </tr>\n",
              "    <tr>\n",
              "      <th>30</th>\n",
              "      <td>deposito</td>\n",
              "      <td>5099.883216</td>\n",
              "      <td>1105</td>\n",
              "      <td>776.0</td>\n",
              "      <td>914.0</td>\n",
              "      <td>2018-10-07</td>\n",
              "      <td>10:21:59</td>\n",
              "      <td>8843.080043</td>\n",
              "    </tr>\n",
              "    <tr>\n",
              "      <th>31</th>\n",
              "      <td>deposito</td>\n",
              "      <td>5099.883216</td>\n",
              "      <td>1111</td>\n",
              "      <td>700.0</td>\n",
              "      <td>547.0</td>\n",
              "      <td>2018-10-14</td>\n",
              "      <td>11:10:25</td>\n",
              "      <td>8129.084884</td>\n",
              "    </tr>\n",
              "    <tr>\n",
              "      <th>32</th>\n",
              "      <td>deposito</td>\n",
              "      <td>5099.883216</td>\n",
              "      <td>1119</td>\n",
              "      <td>805.0</td>\n",
              "      <td>922.0</td>\n",
              "      <td>2020-03-15</td>\n",
              "      <td>11:40:43</td>\n",
              "      <td>5350.626695</td>\n",
              "    </tr>\n",
              "    <tr>\n",
              "      <th>33</th>\n",
              "      <td>deposito</td>\n",
              "      <td>5099.883216</td>\n",
              "      <td>1121</td>\n",
              "      <td>789.0</td>\n",
              "      <td>866.0</td>\n",
              "      <td>2018-09-24</td>\n",
              "      <td>12:19:34</td>\n",
              "      <td>5450.941816</td>\n",
              "    </tr>\n",
              "    <tr>\n",
              "      <th>34</th>\n",
              "      <td>deposito</td>\n",
              "      <td>5099.883216</td>\n",
              "      <td>1122</td>\n",
              "      <td>580.0</td>\n",
              "      <td>754.0</td>\n",
              "      <td>2018-06-19</td>\n",
              "      <td>11:38:45</td>\n",
              "      <td>3321.895747</td>\n",
              "    </tr>\n",
              "    <tr>\n",
              "      <th>35</th>\n",
              "      <td>deposito</td>\n",
              "      <td>5099.883216</td>\n",
              "      <td>1132</td>\n",
              "      <td>953.0</td>\n",
              "      <td>974.0</td>\n",
              "      <td>2020-01-29</td>\n",
              "      <td>10:08:59</td>\n",
              "      <td>6783.634955</td>\n",
              "    </tr>\n",
              "    <tr>\n",
              "      <th>36</th>\n",
              "      <td>deposito</td>\n",
              "      <td>5099.883216</td>\n",
              "      <td>1133</td>\n",
              "      <td>972.0</td>\n",
              "      <td>898.0</td>\n",
              "      <td>2019-06-01</td>\n",
              "      <td>11:50:17</td>\n",
              "      <td>8509.316032</td>\n",
              "    </tr>\n",
              "    <tr>\n",
              "      <th>37</th>\n",
              "      <td>deposito</td>\n",
              "      <td>5099.883216</td>\n",
              "      <td>1134</td>\n",
              "      <td>910.0</td>\n",
              "      <td>729.0</td>\n",
              "      <td>2020-01-01</td>\n",
              "      <td>14:07:07</td>\n",
              "      <td>4332.936206</td>\n",
              "    </tr>\n",
              "    <tr>\n",
              "      <th>38</th>\n",
              "      <td>deposito</td>\n",
              "      <td>5099.883216</td>\n",
              "      <td>1138</td>\n",
              "      <td>874.0</td>\n",
              "      <td>940.0</td>\n",
              "      <td>2018-06-28</td>\n",
              "      <td>10:51:24</td>\n",
              "      <td>2193.585386</td>\n",
              "    </tr>\n",
              "    <tr>\n",
              "      <th>39</th>\n",
              "      <td>deposito</td>\n",
              "      <td>5099.883216</td>\n",
              "      <td>1151</td>\n",
              "      <td>831.0</td>\n",
              "      <td>840.0</td>\n",
              "      <td>2020-03-28</td>\n",
              "      <td>12:09:14</td>\n",
              "      <td>2868.983734</td>\n",
              "    </tr>\n",
              "    <tr>\n",
              "      <th>40</th>\n",
              "      <td>deposito</td>\n",
              "      <td>5099.883216</td>\n",
              "      <td>1156</td>\n",
              "      <td>571.0</td>\n",
              "      <td>688.0</td>\n",
              "      <td>2018-06-28</td>\n",
              "      <td>10:41:57</td>\n",
              "      <td>2607.393452</td>\n",
              "    </tr>\n",
              "    <tr>\n",
              "      <th>41</th>\n",
              "      <td>deposito</td>\n",
              "      <td>5099.883216</td>\n",
              "      <td>1163</td>\n",
              "      <td>850.0</td>\n",
              "      <td>968.0</td>\n",
              "      <td>2020-01-14</td>\n",
              "      <td>11:48:22</td>\n",
              "      <td>3877.024960</td>\n",
              "    </tr>\n",
              "    <tr>\n",
              "      <th>42</th>\n",
              "      <td>deposito</td>\n",
              "      <td>5099.883216</td>\n",
              "      <td>1165</td>\n",
              "      <td>993.0</td>\n",
              "      <td>891.0</td>\n",
              "      <td>2019-02-04</td>\n",
              "      <td>10:45:23</td>\n",
              "      <td>770.537468</td>\n",
              "    </tr>\n",
              "    <tr>\n",
              "      <th>43</th>\n",
              "      <td>deposito</td>\n",
              "      <td>5099.883216</td>\n",
              "      <td>1167</td>\n",
              "      <td>731.0</td>\n",
              "      <td>691.0</td>\n",
              "      <td>2019-12-31</td>\n",
              "      <td>14:24:19</td>\n",
              "      <td>6653.233599</td>\n",
              "    </tr>\n",
              "    <tr>\n",
              "      <th>44</th>\n",
              "      <td>deposito</td>\n",
              "      <td>5099.883216</td>\n",
              "      <td>1170</td>\n",
              "      <td>500.0</td>\n",
              "      <td>879.0</td>\n",
              "      <td>2020-01-25</td>\n",
              "      <td>14:09:05</td>\n",
              "      <td>5072.578877</td>\n",
              "    </tr>\n",
              "    <tr>\n",
              "      <th>45</th>\n",
              "      <td>deposito</td>\n",
              "      <td>5099.883216</td>\n",
              "      <td>1174</td>\n",
              "      <td>638.0</td>\n",
              "      <td>940.0</td>\n",
              "      <td>2019-08-25</td>\n",
              "      <td>13:20:41</td>\n",
              "      <td>7040.220730</td>\n",
              "    </tr>\n",
              "    <tr>\n",
              "      <th>46</th>\n",
              "      <td>deposito</td>\n",
              "      <td>5099.883216</td>\n",
              "      <td>1178</td>\n",
              "      <td>643.0</td>\n",
              "      <td>559.0</td>\n",
              "      <td>2019-12-29</td>\n",
              "      <td>13:39:25</td>\n",
              "      <td>1290.041582</td>\n",
              "    </tr>\n",
              "    <tr>\n",
              "      <th>47</th>\n",
              "      <td>deposito</td>\n",
              "      <td>5099.883216</td>\n",
              "      <td>1179</td>\n",
              "      <td>804.0</td>\n",
              "      <td>754.0</td>\n",
              "      <td>2018-10-01</td>\n",
              "      <td>13:20:43</td>\n",
              "      <td>4834.870549</td>\n",
              "    </tr>\n",
              "    <tr>\n",
              "      <th>48</th>\n",
              "      <td>deposito</td>\n",
              "      <td>5099.883216</td>\n",
              "      <td>1182</td>\n",
              "      <td>646.0</td>\n",
              "      <td>808.0</td>\n",
              "      <td>2019-05-06</td>\n",
              "      <td>10:45:25</td>\n",
              "      <td>1592.249518</td>\n",
              "    </tr>\n",
              "    <tr>\n",
              "      <th>49</th>\n",
              "      <td>deposito</td>\n",
              "      <td>5099.883216</td>\n",
              "      <td>1185</td>\n",
              "      <td>844.0</td>\n",
              "      <td>691.0</td>\n",
              "      <td>2018-11-05</td>\n",
              "      <td>14:19:53</td>\n",
              "      <td>2686.137806</td>\n",
              "    </tr>\n",
              "    <tr>\n",
              "      <th>50</th>\n",
              "      <td>deposito</td>\n",
              "      <td>5099.883216</td>\n",
              "      <td>1191</td>\n",
              "      <td>568.0</td>\n",
              "      <td>757.0</td>\n",
              "      <td>2019-02-14</td>\n",
              "      <td>10:37:29</td>\n",
              "      <td>7266.757031</td>\n",
              "    </tr>\n",
              "    <tr>\n",
              "      <th>51</th>\n",
              "      <td>deposito</td>\n",
              "      <td>5099.883216</td>\n",
              "      <td>1197</td>\n",
              "      <td>603.0</td>\n",
              "      <td>983.0</td>\n",
              "      <td>2020-01-29</td>\n",
              "      <td>14:34:07</td>\n",
              "      <td>6094.651956</td>\n",
              "    </tr>\n",
              "    <tr>\n",
              "      <th>52</th>\n",
              "      <td>deposito</td>\n",
              "      <td>5099.883216</td>\n",
              "      <td>1199</td>\n",
              "      <td>758.0</td>\n",
              "      <td>973.0</td>\n",
              "      <td>2019-12-01</td>\n",
              "      <td>10:43:43</td>\n",
              "      <td>3692.712036</td>\n",
              "    </tr>\n",
              "  </tbody>\n",
              "</table>\n",
              "</div>"
            ],
            "text/plain": [
              "   tipo de transaccion      monto_x  ...      hora      monto_y\n",
              "0             deposito  5099.883216  ...  11:06:05  2394.454932\n",
              "1             deposito  5099.883216  ...  14:46:38  5341.085510\n",
              "2             deposito  5099.883216  ...  12:44:49   590.501611\n",
              "3             deposito  5099.883216  ...  14:33:25  4281.310827\n",
              "4             deposito  5099.883216  ...  11:25:08  2755.482092\n",
              "5             deposito  5099.883216  ...  10:47:27  9445.712601\n",
              "6             deposito  5099.883216  ...  13:04:56  5823.004928\n",
              "7             deposito  5099.883216  ...  10:29:56  9175.064392\n",
              "8             deposito  5099.883216  ...  14:06:44  8332.451855\n",
              "9             deposito  5099.883216  ...  11:39:45  6915.336218\n",
              "10            deposito  5099.883216  ...  12:34:46  2688.079682\n",
              "11            deposito  5099.883216  ...  10:57:13  3598.546419\n",
              "12            deposito  5099.883216  ...  14:30:04  3594.285276\n",
              "13            deposito  5099.883216  ...  13:04:40  5426.643442\n",
              "14            deposito  5099.883216  ...  10:39:38  9878.930404\n",
              "15            deposito  5099.883216  ...  13:15:25  1957.420953\n",
              "16            deposito  5099.883216  ...  14:39:39  3856.147139\n",
              "17            deposito  5099.883216  ...  11:49:39  8410.152463\n",
              "18            deposito  5099.883216  ...  14:58:06  9887.820282\n",
              "19            deposito  5099.883216  ...  14:40:13  7723.485464\n",
              "20            deposito  5099.883216  ...  11:03:22  1678.928253\n",
              "21            deposito  5099.883216  ...  11:33:23  4236.000149\n",
              "22            deposito  5099.883216  ...  13:35:42  4288.095929\n",
              "23            deposito  5099.883216  ...  14:06:35  7755.562290\n",
              "24            deposito  5099.883216  ...  10:50:49  3147.351168\n",
              "25            deposito  5099.883216  ...  13:47:12   177.040931\n",
              "26            deposito  5099.883216  ...  11:43:52  6759.373539\n",
              "27            deposito  5099.883216  ...  12:01:40  9577.589325\n",
              "28            deposito  5099.883216  ...  12:56:10  6201.126413\n",
              "29            deposito  5099.883216  ...  10:22:38  5134.330906\n",
              "30            deposito  5099.883216  ...  10:21:59  8843.080043\n",
              "31            deposito  5099.883216  ...  11:10:25  8129.084884\n",
              "32            deposito  5099.883216  ...  11:40:43  5350.626695\n",
              "33            deposito  5099.883216  ...  12:19:34  5450.941816\n",
              "34            deposito  5099.883216  ...  11:38:45  3321.895747\n",
              "35            deposito  5099.883216  ...  10:08:59  6783.634955\n",
              "36            deposito  5099.883216  ...  11:50:17  8509.316032\n",
              "37            deposito  5099.883216  ...  14:07:07  4332.936206\n",
              "38            deposito  5099.883216  ...  10:51:24  2193.585386\n",
              "39            deposito  5099.883216  ...  12:09:14  2868.983734\n",
              "40            deposito  5099.883216  ...  10:41:57  2607.393452\n",
              "41            deposito  5099.883216  ...  11:48:22  3877.024960\n",
              "42            deposito  5099.883216  ...  10:45:23   770.537468\n",
              "43            deposito  5099.883216  ...  14:24:19  6653.233599\n",
              "44            deposito  5099.883216  ...  14:09:05  5072.578877\n",
              "45            deposito  5099.883216  ...  13:20:41  7040.220730\n",
              "46            deposito  5099.883216  ...  13:39:25  1290.041582\n",
              "47            deposito  5099.883216  ...  13:20:43  4834.870549\n",
              "48            deposito  5099.883216  ...  10:45:25  1592.249518\n",
              "49            deposito  5099.883216  ...  14:19:53  2686.137806\n",
              "50            deposito  5099.883216  ...  10:37:29  7266.757031\n",
              "51            deposito  5099.883216  ...  14:34:07  6094.651956\n",
              "52            deposito  5099.883216  ...  10:43:43  3692.712036\n",
              "\n",
              "[53 rows x 8 columns]"
            ]
          },
          "metadata": {
            "tags": []
          },
          "execution_count": 85
        }
      ]
    },
    {
      "cell_type": "code",
      "metadata": {
        "id": "ZLsgrcMJBfz_",
        "outputId": "e0608293-273f-4e73-e14e-0e80300a8727",
        "colab": {
          "base_uri": "https://localhost:8080/",
          "height": 402
        }
      },
      "source": [
        "k = 200\n",
        "ventas = pd.DataFrame(data={\n",
        "    'cod_producto': np.random.randint(1000, 1200, k),\n",
        "    'cod_fabricante': np.random.randint(500, 800, k),\n",
        "    'mes': np.random.choice(['ene', 'feb', 'mar', 'abr', 'may', 'jun', 'jul', 'ago', 'sep', 'oct', 'nov', 'dic'], k),\n",
        "    'ventas': np.random.randint(500, 1000, k),\n",
        "})\n",
        "ventas"
      ],
      "execution_count": null,
      "outputs": [
        {
          "output_type": "execute_result",
          "data": {
            "text/html": [
              "<div>\n",
              "<style scoped>\n",
              "    .dataframe tbody tr th:only-of-type {\n",
              "        vertical-align: middle;\n",
              "    }\n",
              "\n",
              "    .dataframe tbody tr th {\n",
              "        vertical-align: top;\n",
              "    }\n",
              "\n",
              "    .dataframe thead th {\n",
              "        text-align: right;\n",
              "    }\n",
              "</style>\n",
              "<table border=\"1\" class=\"dataframe\">\n",
              "  <thead>\n",
              "    <tr style=\"text-align: right;\">\n",
              "      <th></th>\n",
              "      <th>cod_producto</th>\n",
              "      <th>cod_fabricante</th>\n",
              "      <th>mes</th>\n",
              "      <th>ventas</th>\n",
              "    </tr>\n",
              "  </thead>\n",
              "  <tbody>\n",
              "    <tr>\n",
              "      <th>0</th>\n",
              "      <td>1027</td>\n",
              "      <td>530</td>\n",
              "      <td>oct</td>\n",
              "      <td>591</td>\n",
              "    </tr>\n",
              "    <tr>\n",
              "      <th>1</th>\n",
              "      <td>1162</td>\n",
              "      <td>553</td>\n",
              "      <td>dic</td>\n",
              "      <td>691</td>\n",
              "    </tr>\n",
              "    <tr>\n",
              "      <th>2</th>\n",
              "      <td>1126</td>\n",
              "      <td>618</td>\n",
              "      <td>nov</td>\n",
              "      <td>783</td>\n",
              "    </tr>\n",
              "    <tr>\n",
              "      <th>3</th>\n",
              "      <td>1123</td>\n",
              "      <td>625</td>\n",
              "      <td>mar</td>\n",
              "      <td>809</td>\n",
              "    </tr>\n",
              "    <tr>\n",
              "      <th>4</th>\n",
              "      <td>1117</td>\n",
              "      <td>555</td>\n",
              "      <td>abr</td>\n",
              "      <td>808</td>\n",
              "    </tr>\n",
              "    <tr>\n",
              "      <th>...</th>\n",
              "      <td>...</td>\n",
              "      <td>...</td>\n",
              "      <td>...</td>\n",
              "      <td>...</td>\n",
              "    </tr>\n",
              "    <tr>\n",
              "      <th>195</th>\n",
              "      <td>1175</td>\n",
              "      <td>703</td>\n",
              "      <td>sep</td>\n",
              "      <td>516</td>\n",
              "    </tr>\n",
              "    <tr>\n",
              "      <th>196</th>\n",
              "      <td>1004</td>\n",
              "      <td>523</td>\n",
              "      <td>nov</td>\n",
              "      <td>885</td>\n",
              "    </tr>\n",
              "    <tr>\n",
              "      <th>197</th>\n",
              "      <td>1156</td>\n",
              "      <td>610</td>\n",
              "      <td>dic</td>\n",
              "      <td>924</td>\n",
              "    </tr>\n",
              "    <tr>\n",
              "      <th>198</th>\n",
              "      <td>1167</td>\n",
              "      <td>707</td>\n",
              "      <td>ago</td>\n",
              "      <td>650</td>\n",
              "    </tr>\n",
              "    <tr>\n",
              "      <th>199</th>\n",
              "      <td>1074</td>\n",
              "      <td>714</td>\n",
              "      <td>mar</td>\n",
              "      <td>884</td>\n",
              "    </tr>\n",
              "  </tbody>\n",
              "</table>\n",
              "<p>200 rows × 4 columns</p>\n",
              "</div>"
            ],
            "text/plain": [
              "     cod_producto  cod_fabricante  mes  ventas\n",
              "0            1027             530  oct     591\n",
              "1            1162             553  dic     691\n",
              "2            1126             618  nov     783\n",
              "3            1123             625  mar     809\n",
              "4            1117             555  abr     808\n",
              "..            ...             ...  ...     ...\n",
              "195          1175             703  sep     516\n",
              "196          1004             523  nov     885\n",
              "197          1156             610  dic     924\n",
              "198          1167             707  ago     650\n",
              "199          1074             714  mar     884\n",
              "\n",
              "[200 rows x 4 columns]"
            ]
          },
          "metadata": {
            "tags": []
          },
          "execution_count": 86
        }
      ]
    },
    {
      "cell_type": "code",
      "metadata": {
        "id": "JIMWGiKDC03V",
        "outputId": "95570be5-f8bd-48b7-db7c-da1ec924c45d",
        "colab": {
          "base_uri": "https://localhost:8080/",
          "height": 402
        }
      },
      "source": [
        "ventas.groupby('cod_producto').agg({\n",
        "    'ventas': 'mean'\n",
        "}).reset_index().rename(columns={\n",
        "    'cod_producto': 'Código producto',\n",
        "    'ventas': 'Promedio de ventas',\n",
        "})"
      ],
      "execution_count": null,
      "outputs": [
        {
          "output_type": "execute_result",
          "data": {
            "text/html": [
              "<div>\n",
              "<style scoped>\n",
              "    .dataframe tbody tr th:only-of-type {\n",
              "        vertical-align: middle;\n",
              "    }\n",
              "\n",
              "    .dataframe tbody tr th {\n",
              "        vertical-align: top;\n",
              "    }\n",
              "\n",
              "    .dataframe thead th {\n",
              "        text-align: right;\n",
              "    }\n",
              "</style>\n",
              "<table border=\"1\" class=\"dataframe\">\n",
              "  <thead>\n",
              "    <tr style=\"text-align: right;\">\n",
              "      <th></th>\n",
              "      <th>Código producto</th>\n",
              "      <th>Promedio de ventas</th>\n",
              "    </tr>\n",
              "  </thead>\n",
              "  <tbody>\n",
              "    <tr>\n",
              "      <th>0</th>\n",
              "      <td>1000</td>\n",
              "      <td>828.000000</td>\n",
              "    </tr>\n",
              "    <tr>\n",
              "      <th>1</th>\n",
              "      <td>1002</td>\n",
              "      <td>537.000000</td>\n",
              "    </tr>\n",
              "    <tr>\n",
              "      <th>2</th>\n",
              "      <td>1003</td>\n",
              "      <td>614.000000</td>\n",
              "    </tr>\n",
              "    <tr>\n",
              "      <th>3</th>\n",
              "      <td>1004</td>\n",
              "      <td>885.000000</td>\n",
              "    </tr>\n",
              "    <tr>\n",
              "      <th>4</th>\n",
              "      <td>1005</td>\n",
              "      <td>778.000000</td>\n",
              "    </tr>\n",
              "    <tr>\n",
              "      <th>...</th>\n",
              "      <td>...</td>\n",
              "      <td>...</td>\n",
              "    </tr>\n",
              "    <tr>\n",
              "      <th>122</th>\n",
              "      <td>1190</td>\n",
              "      <td>666.000000</td>\n",
              "    </tr>\n",
              "    <tr>\n",
              "      <th>123</th>\n",
              "      <td>1191</td>\n",
              "      <td>600.666667</td>\n",
              "    </tr>\n",
              "    <tr>\n",
              "      <th>124</th>\n",
              "      <td>1194</td>\n",
              "      <td>541.000000</td>\n",
              "    </tr>\n",
              "    <tr>\n",
              "      <th>125</th>\n",
              "      <td>1197</td>\n",
              "      <td>811.000000</td>\n",
              "    </tr>\n",
              "    <tr>\n",
              "      <th>126</th>\n",
              "      <td>1199</td>\n",
              "      <td>943.000000</td>\n",
              "    </tr>\n",
              "  </tbody>\n",
              "</table>\n",
              "<p>127 rows × 2 columns</p>\n",
              "</div>"
            ],
            "text/plain": [
              "     Código producto  Promedio de ventas\n",
              "0               1000          828.000000\n",
              "1               1002          537.000000\n",
              "2               1003          614.000000\n",
              "3               1004          885.000000\n",
              "4               1005          778.000000\n",
              "..               ...                 ...\n",
              "122             1190          666.000000\n",
              "123             1191          600.666667\n",
              "124             1194          541.000000\n",
              "125             1197          811.000000\n",
              "126             1199          943.000000\n",
              "\n",
              "[127 rows x 2 columns]"
            ]
          },
          "metadata": {
            "tags": []
          },
          "execution_count": 87
        }
      ]
    },
    {
      "cell_type": "code",
      "metadata": {
        "id": "x9ufasO2DtQA",
        "outputId": "2b68ffdd-ddf6-432d-de0c-c9b5c956a657",
        "colab": {
          "base_uri": "https://localhost:8080/",
          "height": 431
        }
      },
      "source": [
        "ventas.groupby('cod_producto').agg({\n",
        "    'ventas': [('Mínimo ventas mensuales', 'min'), ('Máximo ventas mensuales', 'max'), ('Promedio ventas mensuales', 'mean')],\n",
        "}) \\\n",
        ".stack() \\\n",
        ".rename(columns={\n",
        "    'level_': 'asdsad',\n",
        "    'ventas': 'qwe',\n",
        "}) \\\n",
        "# .rename_axis(['Código de producto', 'Estadísticas de ventas'])\n",
        "# .rename(columns={\n",
        "#     'cod_producto': 'Código producto',\n",
        "#     'ventas': 'Promedio de ventas',\n",
        "# })\n",
        "# .stack()"
      ],
      "execution_count": null,
      "outputs": [
        {
          "output_type": "execute_result",
          "data": {
            "text/html": [
              "<div>\n",
              "<style scoped>\n",
              "    .dataframe tbody tr th:only-of-type {\n",
              "        vertical-align: middle;\n",
              "    }\n",
              "\n",
              "    .dataframe tbody tr th {\n",
              "        vertical-align: top;\n",
              "    }\n",
              "\n",
              "    .dataframe thead th {\n",
              "        text-align: right;\n",
              "    }\n",
              "</style>\n",
              "<table border=\"1\" class=\"dataframe\">\n",
              "  <thead>\n",
              "    <tr style=\"text-align: right;\">\n",
              "      <th></th>\n",
              "      <th></th>\n",
              "      <th>qwe</th>\n",
              "    </tr>\n",
              "    <tr>\n",
              "      <th>cod_producto</th>\n",
              "      <th></th>\n",
              "      <th></th>\n",
              "    </tr>\n",
              "  </thead>\n",
              "  <tbody>\n",
              "    <tr>\n",
              "      <th rowspan=\"3\" valign=\"top\">1000</th>\n",
              "      <th>Mínimo ventas mensuales</th>\n",
              "      <td>828.0</td>\n",
              "    </tr>\n",
              "    <tr>\n",
              "      <th>Máximo ventas mensuales</th>\n",
              "      <td>828.0</td>\n",
              "    </tr>\n",
              "    <tr>\n",
              "      <th>Promedio ventas mensuales</th>\n",
              "      <td>828.0</td>\n",
              "    </tr>\n",
              "    <tr>\n",
              "      <th rowspan=\"2\" valign=\"top\">1002</th>\n",
              "      <th>Mínimo ventas mensuales</th>\n",
              "      <td>537.0</td>\n",
              "    </tr>\n",
              "    <tr>\n",
              "      <th>Máximo ventas mensuales</th>\n",
              "      <td>537.0</td>\n",
              "    </tr>\n",
              "    <tr>\n",
              "      <th>...</th>\n",
              "      <th>...</th>\n",
              "      <td>...</td>\n",
              "    </tr>\n",
              "    <tr>\n",
              "      <th rowspan=\"2\" valign=\"top\">1197</th>\n",
              "      <th>Máximo ventas mensuales</th>\n",
              "      <td>917.0</td>\n",
              "    </tr>\n",
              "    <tr>\n",
              "      <th>Promedio ventas mensuales</th>\n",
              "      <td>811.0</td>\n",
              "    </tr>\n",
              "    <tr>\n",
              "      <th rowspan=\"3\" valign=\"top\">1199</th>\n",
              "      <th>Mínimo ventas mensuales</th>\n",
              "      <td>943.0</td>\n",
              "    </tr>\n",
              "    <tr>\n",
              "      <th>Máximo ventas mensuales</th>\n",
              "      <td>943.0</td>\n",
              "    </tr>\n",
              "    <tr>\n",
              "      <th>Promedio ventas mensuales</th>\n",
              "      <td>943.0</td>\n",
              "    </tr>\n",
              "  </tbody>\n",
              "</table>\n",
              "<p>381 rows × 1 columns</p>\n",
              "</div>"
            ],
            "text/plain": [
              "                                          qwe\n",
              "cod_producto                                 \n",
              "1000         Mínimo ventas mensuales    828.0\n",
              "             Máximo ventas mensuales    828.0\n",
              "             Promedio ventas mensuales  828.0\n",
              "1002         Mínimo ventas mensuales    537.0\n",
              "             Máximo ventas mensuales    537.0\n",
              "...                                       ...\n",
              "1197         Máximo ventas mensuales    917.0\n",
              "             Promedio ventas mensuales  811.0\n",
              "1199         Mínimo ventas mensuales    943.0\n",
              "             Máximo ventas mensuales    943.0\n",
              "             Promedio ventas mensuales  943.0\n",
              "\n",
              "[381 rows x 1 columns]"
            ]
          },
          "metadata": {
            "tags": []
          },
          "execution_count": 88
        }
      ]
    },
    {
      "cell_type": "markdown",
      "metadata": {
        "id": "goSTv3yCj--S"
      },
      "source": [
        "### Ejercicio 4\n",
        "\n",
        "Un sitio de Ebooks tiene información sobre los reviews que los usuarios hacen de sus libros en un DataFrame con formato (user_id, book_id, rating, timestamp). Por otro lado tenemos información en otro DataFrame que bajamos de GoodReads: (book_id, book_name, avg_rating). Podemos suponer que los Ids de los libros son compatibles. Se pide usar Python Pandas para: "
      ]
    },
    {
      "cell_type": "code",
      "metadata": {
        "id": "3QrbEvR5kIrZ"
      },
      "source": [
        "import pandas as pd\n",
        "import datetime as dt\n",
        "import numpy as np"
      ],
      "execution_count": null,
      "outputs": []
    },
    {
      "cell_type": "code",
      "metadata": {
        "id": "jppg0w-Yj9AC",
        "outputId": "0dc04c63-5589-4c42-9efb-58aa776bb8b8",
        "colab": {
          "base_uri": "https://localhost:8080/",
          "height": 528
        }
      },
      "source": [
        "k = 2000\n",
        "b = 500\n",
        "reviews = pd.DataFrame(data={\n",
        "    'user_id': np.random.randint(500, 1000, k),\n",
        "    'book_id': np.random.randint(500, 800, k),\n",
        "    'rating': np.random.uniform(0, 10, k), \n",
        "    'timestamp': np.random.choice(pd.date_range(start='5/10/2018 00:00', end='9/10/2020 00:00', freq='s'), k),\n",
        "    \n",
        "    # randint(500, 1000, k),\n",
        "    # np.random.choice(['transferencia', 'deposito', 'extraccion', None], k, p=[0.5, 0.25, 0.2, 0.05]),\n",
        "    # np.arange(1000, 1000 + k),\n",
        "    # np.random.randint(500, 1000, k),\n",
        "    # 'fecha': np.random.choice(pd.date_range(start='5/10/2018', end='9/10/2020'), k),\n",
        "    # 'hora': np.random.choice(pd.date_range(start='10:00', end='15:00', freq='S').time, k),\n",
        "    # 'monto': np.random.uniform(100, 10000, size=k),\n",
        "})\n",
        "reviews_good_read = pd.DataFrame(data={\n",
        "    'book_id': np.arange(500, 500 + k),\n",
        "    'book_name': np.random.randint(500, 800, k),\n",
        "    'avg_rating': np.random.uniform(0, 10, k), \n",
        "})\n",
        "\n",
        "# transacciones['tipo de transaccion'] = transacciones['tipo de transaccion'].astype('category')\n",
        "# transacciones['cuenta origen'] = transacciones['cuenta origen'].astype('int32')\n",
        "# transacciones['cuenta destino'] = transacciones['cuenta destino'].astype('int32')\n",
        "reviews.info()\n",
        "reviews.sample(10)\n",
        "reviews_good_read.sample(10)"
      ],
      "execution_count": null,
      "outputs": [
        {
          "output_type": "stream",
          "text": [
            "<class 'pandas.core.frame.DataFrame'>\n",
            "RangeIndex: 2000 entries, 0 to 1999\n",
            "Data columns (total 4 columns):\n",
            " #   Column     Non-Null Count  Dtype         \n",
            "---  ------     --------------  -----         \n",
            " 0   user_id    2000 non-null   int64         \n",
            " 1   book_id    2000 non-null   int64         \n",
            " 2   rating     2000 non-null   float64       \n",
            " 3   timestamp  2000 non-null   datetime64[ns]\n",
            "dtypes: datetime64[ns](1), float64(1), int64(2)\n",
            "memory usage: 62.6 KB\n"
          ],
          "name": "stdout"
        },
        {
          "output_type": "execute_result",
          "data": {
            "text/html": [
              "<div>\n",
              "<style scoped>\n",
              "    .dataframe tbody tr th:only-of-type {\n",
              "        vertical-align: middle;\n",
              "    }\n",
              "\n",
              "    .dataframe tbody tr th {\n",
              "        vertical-align: top;\n",
              "    }\n",
              "\n",
              "    .dataframe thead th {\n",
              "        text-align: right;\n",
              "    }\n",
              "</style>\n",
              "<table border=\"1\" class=\"dataframe\">\n",
              "  <thead>\n",
              "    <tr style=\"text-align: right;\">\n",
              "      <th></th>\n",
              "      <th>book_id</th>\n",
              "      <th>book_name</th>\n",
              "      <th>avg_rating</th>\n",
              "    </tr>\n",
              "  </thead>\n",
              "  <tbody>\n",
              "    <tr>\n",
              "      <th>349</th>\n",
              "      <td>849</td>\n",
              "      <td>525</td>\n",
              "      <td>2.029324</td>\n",
              "    </tr>\n",
              "    <tr>\n",
              "      <th>126</th>\n",
              "      <td>626</td>\n",
              "      <td>665</td>\n",
              "      <td>6.391514</td>\n",
              "    </tr>\n",
              "    <tr>\n",
              "      <th>1013</th>\n",
              "      <td>1513</td>\n",
              "      <td>550</td>\n",
              "      <td>9.879413</td>\n",
              "    </tr>\n",
              "    <tr>\n",
              "      <th>1797</th>\n",
              "      <td>2297</td>\n",
              "      <td>793</td>\n",
              "      <td>9.717050</td>\n",
              "    </tr>\n",
              "    <tr>\n",
              "      <th>1783</th>\n",
              "      <td>2283</td>\n",
              "      <td>508</td>\n",
              "      <td>1.337069</td>\n",
              "    </tr>\n",
              "    <tr>\n",
              "      <th>307</th>\n",
              "      <td>807</td>\n",
              "      <td>524</td>\n",
              "      <td>9.507520</td>\n",
              "    </tr>\n",
              "    <tr>\n",
              "      <th>801</th>\n",
              "      <td>1301</td>\n",
              "      <td>595</td>\n",
              "      <td>0.528932</td>\n",
              "    </tr>\n",
              "    <tr>\n",
              "      <th>1456</th>\n",
              "      <td>1956</td>\n",
              "      <td>736</td>\n",
              "      <td>4.157013</td>\n",
              "    </tr>\n",
              "    <tr>\n",
              "      <th>1294</th>\n",
              "      <td>1794</td>\n",
              "      <td>741</td>\n",
              "      <td>7.582553</td>\n",
              "    </tr>\n",
              "    <tr>\n",
              "      <th>1344</th>\n",
              "      <td>1844</td>\n",
              "      <td>717</td>\n",
              "      <td>3.492755</td>\n",
              "    </tr>\n",
              "  </tbody>\n",
              "</table>\n",
              "</div>"
            ],
            "text/plain": [
              "      book_id  book_name  avg_rating\n",
              "349       849        525    2.029324\n",
              "126       626        665    6.391514\n",
              "1013     1513        550    9.879413\n",
              "1797     2297        793    9.717050\n",
              "1783     2283        508    1.337069\n",
              "307       807        524    9.507520\n",
              "801      1301        595    0.528932\n",
              "1456     1956        736    4.157013\n",
              "1294     1794        741    7.582553\n",
              "1344     1844        717    3.492755"
            ]
          },
          "metadata": {
            "tags": []
          },
          "execution_count": 90
        }
      ]
    },
    {
      "cell_type": "code",
      "metadata": {
        "id": "37g6Xqytnwao"
      },
      "source": [
        ""
      ],
      "execution_count": null,
      "outputs": []
    },
    {
      "cell_type": "markdown",
      "metadata": {
        "id": "lBzuKE1EmK3l"
      },
      "source": [
        "1. Obtener un DataFrame que indique el TOP5 de Ebooks en el sitio de Ebooks. (Para este punto se puede ignorar el segundo DataFrame). "
      ]
    },
    {
      "cell_type": "code",
      "metadata": {
        "id": "Owc6RfndmMe5",
        "outputId": "d88e005e-6888-4418-b15b-2eb19c185cd8",
        "colab": {
          "base_uri": "https://localhost:8080/",
          "height": 195
        }
      },
      "source": [
        "first_review_avg_rating = reviews.groupby('book_id').agg({'rating': 'mean'}).rename(columns={'rating': 'avg_rating'}).reset_index()\n",
        "first_review_avg_rating.nlargest(5, 'avg_rating')"
      ],
      "execution_count": null,
      "outputs": [
        {
          "output_type": "execute_result",
          "data": {
            "text/html": [
              "<div>\n",
              "<style scoped>\n",
              "    .dataframe tbody tr th:only-of-type {\n",
              "        vertical-align: middle;\n",
              "    }\n",
              "\n",
              "    .dataframe tbody tr th {\n",
              "        vertical-align: top;\n",
              "    }\n",
              "\n",
              "    .dataframe thead th {\n",
              "        text-align: right;\n",
              "    }\n",
              "</style>\n",
              "<table border=\"1\" class=\"dataframe\">\n",
              "  <thead>\n",
              "    <tr style=\"text-align: right;\">\n",
              "      <th></th>\n",
              "      <th>book_id</th>\n",
              "      <th>avg_rating</th>\n",
              "    </tr>\n",
              "  </thead>\n",
              "  <tbody>\n",
              "    <tr>\n",
              "      <th>50</th>\n",
              "      <td>550</td>\n",
              "      <td>9.181630</td>\n",
              "    </tr>\n",
              "    <tr>\n",
              "      <th>195</th>\n",
              "      <td>695</td>\n",
              "      <td>8.357136</td>\n",
              "    </tr>\n",
              "    <tr>\n",
              "      <th>233</th>\n",
              "      <td>733</td>\n",
              "      <td>8.309665</td>\n",
              "    </tr>\n",
              "    <tr>\n",
              "      <th>193</th>\n",
              "      <td>693</td>\n",
              "      <td>8.258056</td>\n",
              "    </tr>\n",
              "    <tr>\n",
              "      <th>125</th>\n",
              "      <td>625</td>\n",
              "      <td>8.161107</td>\n",
              "    </tr>\n",
              "  </tbody>\n",
              "</table>\n",
              "</div>"
            ],
            "text/plain": [
              "     book_id  avg_rating\n",
              "50       550    9.181630\n",
              "195      695    8.357136\n",
              "233      733    8.309665\n",
              "193      693    8.258056\n",
              "125      625    8.161107"
            ]
          },
          "metadata": {
            "tags": []
          },
          "execution_count": 91
        }
      ]
    },
    {
      "cell_type": "markdown",
      "metadata": {
        "id": "2Wvgo5jXnJJA"
      },
      "source": [
        "2. Obtener un DataFrame que indique qué libros tienen una diferencia de rating promedio mayor al 20% entre el sitio de Ebooks y GoodReads. \n"
      ]
    },
    {
      "cell_type": "code",
      "metadata": {
        "id": "InZrpArgnNa4",
        "outputId": "50472973-01af-4136-92f6-c199fe5f9d7b",
        "colab": {
          "base_uri": "https://localhost:8080/",
          "height": 218
        }
      },
      "source": [
        "merged_df = first_review_avg_rating.merge(reviews_good_read, left_on='book_id', right_on='book_id')\n",
        "merged_df['diff_avg'] = np.abs(merged_df['avg_rating_x'] - merged_df['avg_rating_y'])\n",
        "merged_df.loc[(merged_df['diff_avg'] / merged_df['avg_rating_x'] > 0.2) | (merged_df['diff_avg'] / merged_df['avg_rating_y'] > 0.2) , 'book_name']"
      ],
      "execution_count": null,
      "outputs": [
        {
          "output_type": "execute_result",
          "data": {
            "text/plain": [
              "0      762\n",
              "1      701\n",
              "2      592\n",
              "3      663\n",
              "4      531\n",
              "      ... \n",
              "293    783\n",
              "294    694\n",
              "296    586\n",
              "297    635\n",
              "298    670\n",
              "Name: book_name, Length: 243, dtype: int64"
            ]
          },
          "metadata": {
            "tags": []
          },
          "execution_count": 92
        }
      ]
    },
    {
      "cell_type": "markdown",
      "metadata": {
        "id": "1PphwEiGproY"
      },
      "source": [
        "### Ejercicio 5\n",
        "La Agencia Nacional de Estadísticas de Buenos Aires recolecta información de nacimientos cuando los padres registran a sus hijos en el registro civil a partir de una encuesta. Esa información se encuentra disponible para su análisis en un csv con el siguiente formato (dia_nacimiento, mes_nacimiento, anio_nacimiento, peso_al_nacer, longitud_al_nacer, id_hospital, tipo_parto), donde el tipo de parto 1 es natural y 2 es cesárea. \n",
        "Por otro lado la agencia cuenta con información histórica de los hospitales en otro csv con siguiente formato (id_hospital, dirección, promedio_nacimientos_mensual). Se pide usar Pandas para: \n"
      ]
    },
    {
      "cell_type": "code",
      "metadata": {
        "id": "wZTT3HaMpwZu"
      },
      "source": [
        "import pandas as pd\n",
        "import datetime as dt\n",
        "import numpy as np"
      ],
      "execution_count": null,
      "outputs": []
    },
    {
      "cell_type": "code",
      "metadata": {
        "id": "mQZNSj1Jp2N7",
        "outputId": "0b8ddce5-939f-43e2-f067-8a97439a89c2",
        "colab": {
          "base_uri": "https://localhost:8080/",
          "height": 746
        }
      },
      "source": [
        "k = 200000\n",
        "b = 50\n",
        "datos = pd.DataFrame(data={\n",
        "    'dia_nacimiento': np.random.randint(1, 30, k),\n",
        "    'mes_nacimiento': np.random.randint(1, 12, k),\n",
        "    'anio_nacimiento': np.random.randint(1980, 2020, k), \n",
        "    'peso_al_nacer': np.random.uniform(800, 3000, k),\n",
        "    'longitud_al_nacer': np.random.uniform(40, 70, k),\n",
        "    'id_hospital': np.random.randint(500, 550, k),\n",
        "    'tipo_parto': pd.Categorical(np.random.choice(['normal', 'cesaria'], k)),\n",
        "})\n",
        "    # randint(500, 1000, k),\n",
        "    # np.random.choice(['transferencia', 'deposito', 'extraccion', None], k, p=[0.5, 0.25, 0.2, 0.05]),\n",
        "    # np.arange(1000, 1000 + k),\n",
        "    # np.random.randint(500, 1000, k),\n",
        "    # 'fecha': np.random.choice(pd.date_range(start='5/10/2018', end='9/10/2020'), k),\n",
        "    # 'hora': np.random.choice(pd.date_range(start='10:00', end='15:00', freq='S').time, k),\n",
        "    # 'monto': np.random.uniform(100, 10000, size=k),\n",
        "info_historica = pd.DataFrame(data={\n",
        "    'id_hospital': np.arange(500, 500 + b),\n",
        "    'dirección': np.random.randint(500, 800, b),\n",
        "    'promedio_nacimiento_mensual': np.random.randint(2, 50, b), \n",
        "})\n",
        "\n",
        "# transacciones['tipo de transaccion'] = transacciones['tipo de transaccion'].astype('category')\n",
        "# transacciones['cuenta origen'] = transacciones['cuenta origen'].astype('int32')\n",
        "# transacciones['cuenta destino'] = transacciones['cuenta destino'].astype('int32')\n",
        "datos.info()\n",
        "info_historica.info(10)\n",
        "datos.sample(10)"
      ],
      "execution_count": null,
      "outputs": [
        {
          "output_type": "stream",
          "text": [
            "<class 'pandas.core.frame.DataFrame'>\n",
            "RangeIndex: 200000 entries, 0 to 199999\n",
            "Data columns (total 7 columns):\n",
            " #   Column             Non-Null Count   Dtype   \n",
            "---  ------             --------------   -----   \n",
            " 0   dia_nacimiento     200000 non-null  int64   \n",
            " 1   mes_nacimiento     200000 non-null  int64   \n",
            " 2   anio_nacimiento    200000 non-null  int64   \n",
            " 3   peso_al_nacer      200000 non-null  float64 \n",
            " 4   longitud_al_nacer  200000 non-null  float64 \n",
            " 5   id_hospital        200000 non-null  int64   \n",
            " 6   tipo_parto         200000 non-null  category\n",
            "dtypes: category(1), float64(2), int64(4)\n",
            "memory usage: 9.3 MB\n",
            "<class 'pandas.core.frame.DataFrame'>\n",
            "RangeIndex: 50 entries, 0 to 49\n",
            "Data columns (total 3 columns):\n",
            " #   Column                       Non-Null Count  Dtype\n",
            "---  ------                       --------------  -----\n",
            " 0   id_hospital                  50 non-null     int64\n",
            " 1   dirección                    50 non-null     int64\n",
            " 2   promedio_nacimiento_mensual  50 non-null     int64\n",
            "dtypes: int64(3)\n",
            "memory usage: 1.3 KB\n"
          ],
          "name": "stdout"
        },
        {
          "output_type": "execute_result",
          "data": {
            "text/html": [
              "<div>\n",
              "<style scoped>\n",
              "    .dataframe tbody tr th:only-of-type {\n",
              "        vertical-align: middle;\n",
              "    }\n",
              "\n",
              "    .dataframe tbody tr th {\n",
              "        vertical-align: top;\n",
              "    }\n",
              "\n",
              "    .dataframe thead th {\n",
              "        text-align: right;\n",
              "    }\n",
              "</style>\n",
              "<table border=\"1\" class=\"dataframe\">\n",
              "  <thead>\n",
              "    <tr style=\"text-align: right;\">\n",
              "      <th></th>\n",
              "      <th>dia_nacimiento</th>\n",
              "      <th>mes_nacimiento</th>\n",
              "      <th>anio_nacimiento</th>\n",
              "      <th>peso_al_nacer</th>\n",
              "      <th>longitud_al_nacer</th>\n",
              "      <th>id_hospital</th>\n",
              "      <th>tipo_parto</th>\n",
              "    </tr>\n",
              "  </thead>\n",
              "  <tbody>\n",
              "    <tr>\n",
              "      <th>184097</th>\n",
              "      <td>21</td>\n",
              "      <td>10</td>\n",
              "      <td>1986</td>\n",
              "      <td>1993.823266</td>\n",
              "      <td>66.607923</td>\n",
              "      <td>530</td>\n",
              "      <td>cesaria</td>\n",
              "    </tr>\n",
              "    <tr>\n",
              "      <th>118529</th>\n",
              "      <td>29</td>\n",
              "      <td>5</td>\n",
              "      <td>2001</td>\n",
              "      <td>1951.513353</td>\n",
              "      <td>53.152079</td>\n",
              "      <td>549</td>\n",
              "      <td>cesaria</td>\n",
              "    </tr>\n",
              "    <tr>\n",
              "      <th>43466</th>\n",
              "      <td>16</td>\n",
              "      <td>6</td>\n",
              "      <td>1987</td>\n",
              "      <td>1135.864304</td>\n",
              "      <td>51.094365</td>\n",
              "      <td>500</td>\n",
              "      <td>normal</td>\n",
              "    </tr>\n",
              "    <tr>\n",
              "      <th>26038</th>\n",
              "      <td>14</td>\n",
              "      <td>1</td>\n",
              "      <td>1995</td>\n",
              "      <td>1513.481454</td>\n",
              "      <td>49.816840</td>\n",
              "      <td>520</td>\n",
              "      <td>normal</td>\n",
              "    </tr>\n",
              "    <tr>\n",
              "      <th>13094</th>\n",
              "      <td>24</td>\n",
              "      <td>11</td>\n",
              "      <td>1996</td>\n",
              "      <td>1336.593970</td>\n",
              "      <td>64.436139</td>\n",
              "      <td>544</td>\n",
              "      <td>normal</td>\n",
              "    </tr>\n",
              "    <tr>\n",
              "      <th>24594</th>\n",
              "      <td>17</td>\n",
              "      <td>6</td>\n",
              "      <td>2007</td>\n",
              "      <td>2482.823571</td>\n",
              "      <td>58.757130</td>\n",
              "      <td>521</td>\n",
              "      <td>cesaria</td>\n",
              "    </tr>\n",
              "    <tr>\n",
              "      <th>31838</th>\n",
              "      <td>4</td>\n",
              "      <td>3</td>\n",
              "      <td>1980</td>\n",
              "      <td>814.105007</td>\n",
              "      <td>63.965015</td>\n",
              "      <td>502</td>\n",
              "      <td>normal</td>\n",
              "    </tr>\n",
              "    <tr>\n",
              "      <th>4076</th>\n",
              "      <td>8</td>\n",
              "      <td>7</td>\n",
              "      <td>1981</td>\n",
              "      <td>1246.982412</td>\n",
              "      <td>64.085870</td>\n",
              "      <td>504</td>\n",
              "      <td>cesaria</td>\n",
              "    </tr>\n",
              "    <tr>\n",
              "      <th>23304</th>\n",
              "      <td>2</td>\n",
              "      <td>1</td>\n",
              "      <td>1994</td>\n",
              "      <td>2921.075784</td>\n",
              "      <td>64.243938</td>\n",
              "      <td>518</td>\n",
              "      <td>cesaria</td>\n",
              "    </tr>\n",
              "    <tr>\n",
              "      <th>90397</th>\n",
              "      <td>28</td>\n",
              "      <td>8</td>\n",
              "      <td>2003</td>\n",
              "      <td>1561.644821</td>\n",
              "      <td>65.776423</td>\n",
              "      <td>502</td>\n",
              "      <td>normal</td>\n",
              "    </tr>\n",
              "  </tbody>\n",
              "</table>\n",
              "</div>"
            ],
            "text/plain": [
              "        dia_nacimiento  mes_nacimiento  ...  id_hospital  tipo_parto\n",
              "184097              21              10  ...          530     cesaria\n",
              "118529              29               5  ...          549     cesaria\n",
              "43466               16               6  ...          500      normal\n",
              "26038               14               1  ...          520      normal\n",
              "13094               24              11  ...          544      normal\n",
              "24594               17               6  ...          521     cesaria\n",
              "31838                4               3  ...          502      normal\n",
              "4076                 8               7  ...          504     cesaria\n",
              "23304                2               1  ...          518     cesaria\n",
              "90397               28               8  ...          502      normal\n",
              "\n",
              "[10 rows x 7 columns]"
            ]
          },
          "metadata": {
            "tags": []
          },
          "execution_count": 94
        }
      ]
    },
    {
      "cell_type": "markdown",
      "metadata": {
        "id": "xLCmVSFnrQHW"
      },
      "source": [
        "1. Calcular la cantidad de nacimientos para cada uno de los hospitales para el mes de Octubre de 2017 e indicar aquellos hospitales que superan el promedio de nacimientos mensuales. "
      ]
    },
    {
      "cell_type": "code",
      "metadata": {
        "id": "UyyLwCpxnFMD",
        "outputId": "bc1c5025-d9be-4adb-b855-f4a7518142ee",
        "colab": {
          "base_uri": "https://localhost:8080/",
          "height": 195
        }
      },
      "source": [
        "partos_octubre_2017 = datos.loc[(datos['mes_nacimiento'] == 10) & (datos['anio_nacimiento'] == 2017),:]\n",
        "cantidad_departos_por_hospital = partos_octubre_2017.groupby('id_hospital').size().to_frame().reset_index().rename(columns={0: 'cantidad_de_partos'})\n",
        "merged = cantidad_departos_por_hospital.merge(info_historica, left_on='id_hospital', right_on='id_hospital')\n",
        "merged.loc[merged['cantidad_de_partos'] > merged['promedio_nacimiento_mensual'], ['id_hospital', 'dirección']]"
      ],
      "execution_count": null,
      "outputs": [
        {
          "output_type": "execute_result",
          "data": {
            "text/html": [
              "<div>\n",
              "<style scoped>\n",
              "    .dataframe tbody tr th:only-of-type {\n",
              "        vertical-align: middle;\n",
              "    }\n",
              "\n",
              "    .dataframe tbody tr th {\n",
              "        vertical-align: top;\n",
              "    }\n",
              "\n",
              "    .dataframe thead th {\n",
              "        text-align: right;\n",
              "    }\n",
              "</style>\n",
              "<table border=\"1\" class=\"dataframe\">\n",
              "  <thead>\n",
              "    <tr style=\"text-align: right;\">\n",
              "      <th></th>\n",
              "      <th>id_hospital</th>\n",
              "      <th>dirección</th>\n",
              "    </tr>\n",
              "  </thead>\n",
              "  <tbody>\n",
              "    <tr>\n",
              "      <th>20</th>\n",
              "      <td>520</td>\n",
              "      <td>654</td>\n",
              "    </tr>\n",
              "    <tr>\n",
              "      <th>38</th>\n",
              "      <td>538</td>\n",
              "      <td>531</td>\n",
              "    </tr>\n",
              "    <tr>\n",
              "      <th>45</th>\n",
              "      <td>545</td>\n",
              "      <td>635</td>\n",
              "    </tr>\n",
              "    <tr>\n",
              "      <th>46</th>\n",
              "      <td>546</td>\n",
              "      <td>724</td>\n",
              "    </tr>\n",
              "    <tr>\n",
              "      <th>48</th>\n",
              "      <td>548</td>\n",
              "      <td>690</td>\n",
              "    </tr>\n",
              "  </tbody>\n",
              "</table>\n",
              "</div>"
            ],
            "text/plain": [
              "    id_hospital  dirección\n",
              "20          520        654\n",
              "38          538        531\n",
              "45          545        635\n",
              "46          546        724\n",
              "48          548        690"
            ]
          },
          "metadata": {
            "tags": []
          },
          "execution_count": 95
        }
      ]
    },
    {
      "cell_type": "markdown",
      "metadata": {
        "id": "Dptz0akxvQKs"
      },
      "source": [
        "2. Comparando el mes de Octubre de 2017 indicar programáticamente si se incremento el % de cesáreas con respecto a ese mes del año 2016.  "
      ]
    },
    {
      "cell_type": "code",
      "metadata": {
        "id": "sVygnfzxvP2q",
        "outputId": "0ef7e9dd-4b37-4a28-c024-ceb8d0210ee6",
        "colab": {
          "base_uri": "https://localhost:8080/",
          "height": 370
        }
      },
      "source": [
        "partos_octubre_2016 = datos.loc[(datos['mes_nacimiento'] == 10) & (datos['anio_nacimiento'] == 2016),:]\n",
        "cantidad_departos_por_hospital_2016 = partos_octubre_2016.groupby('id_hospital').size().to_frame().reset_index().rename(columns={0: 'cantidad_de_partos'})\n",
        "cantidad_departos_por_hospital_2017 = partos_octubre_2017.groupby('id_hospital').size().to_frame().reset_index().rename(columns={0: 'cantidad_de_partos'})\n",
        "merged = cantidad_departos_por_hospital_2016.merge(cantidad_departos_por_hospital_2017, left_on='id_hospital', right_on='id_hospital')\n",
        "merged.loc[merged['cantidad_de_partos_x'] > merged['cantidad_de_partos_y'], 'id_hospital']"
      ],
      "execution_count": null,
      "outputs": [
        {
          "output_type": "execute_result",
          "data": {
            "text/plain": [
              "3     503\n",
              "9     509\n",
              "12    512\n",
              "16    516\n",
              "17    517\n",
              "18    518\n",
              "19    519\n",
              "22    522\n",
              "23    523\n",
              "24    524\n",
              "25    525\n",
              "27    527\n",
              "29    529\n",
              "31    531\n",
              "32    532\n",
              "33    533\n",
              "34    534\n",
              "40    540\n",
              "42    542\n",
              "43    543\n",
              "Name: id_hospital, dtype: int64"
            ]
          },
          "metadata": {
            "tags": []
          },
          "execution_count": 96
        }
      ]
    },
    {
      "cell_type": "markdown",
      "metadata": {
        "id": "7LMjGdQaxCak"
      },
      "source": [
        "### Ejercicio 6\n",
        "El GCPD (Gotham City Police Dept) recolecta la información de casos policiales que acontecen en Ciudad Gótica. Esta información se encuentra guardada en un dataframe con el siguiente formato: \n",
        "- fecha: se encuentran en el formato YYYY-MM-DD, \n",
        "- id_caso, \n",
        "- descripcion, \n",
        "- estado_caso: \n",
        "  - 1: caso abierto, \n",
        "  - 2: caso resuelto, \n",
        "  - 3: cerrado sin resolución\n",
        "- categoria, \n",
        "- latitud, \n",
        "- longitud\n",
        "\n",
        "Por otro lado el comisionado Gordon guarda un registro detallado sobre en cuáles casos fue activada la batiseñal para pedir ayuda del vigilante, Batman. Esta información se encuentra en un Dataframe con el siguiente formato:\n",
        "- id_caso, \n",
        "- respuesta: si la señal tuvo una respuesta positiva (1) o negativa (0)\n",
        "\n",
        "El sector encargado de las estadísticas oficiales del GCPD quiere con esta información analizar las siguientes situaciones:"
      ]
    },
    {
      "cell_type": "code",
      "metadata": {
        "id": "2jiv8tt5ykIH",
        "outputId": "35359849-ee95-413b-d349-0df4633d8040",
        "colab": {
          "base_uri": "https://localhost:8080/",
          "height": 730
        }
      },
      "source": [
        "k = 200000\n",
        "b = 50\n",
        "datos = pd.DataFrame(data={\n",
        "    'id_caso': np.arange(500, 500 + k),\n",
        "    'fecha': np.random.choice(pd.date_range(start='1920-01-01', end='2020-01-01'), k),\n",
        "    'descripcion': np.random.choice(['asddasd asd', 'aqwesd asd', 'as--- ad',], k),\n",
        "    'estado_caso': pd.Categorical(np.random.choice(['caso abierto', 'caso resuelto', 'cerrado sin resolución'], k)),\n",
        "    'categoria': pd.Categorical(np.random.choice(['I', 'II', 'III'], k)),\n",
        "    'latitud': np.random.uniform(-100, 100, k),\n",
        "    'longitud': np.random.uniform(-500, 550, k),\n",
        "})\n",
        "    # randint(500, 1000, k),\n",
        "    # np.random.choice(['transferencia', 'deposito', 'extraccion', None], k, p=[0.5, 0.25, 0.2, 0.05]),\n",
        "    # np.arange(1000, 1000 + k),\n",
        "    # np.random.randint(500, 1000, k),\n",
        "    # 'hora': np.random.choice(pd.date_range(start='10:00', end='15:00', freq='S').time, k),\n",
        "    # 'monto': np.random.uniform(100, 10000, size=k),\n",
        "info_gordon = pd.DataFrame(data={\n",
        "    'id_caso': np.random.randint(500, 500 + k, b),\n",
        "    'respuesta': pd.Categorical(np.random.choice(['si', 'no'], b)),\n",
        "})\n",
        "\n",
        "# transacciones['tipo de transaccion'] = transacciones['tipo de transaccion'].astype('category')\n",
        "# transacciones['cuenta origen'] = transacciones['cuenta origen'].astype('int32')\n",
        "# transacciones['cuenta destino'] = transacciones['cuenta destino'].astype('int32')\n",
        "datos.info()\n",
        "info_gordon.info()\n",
        "datos.sample(10)"
      ],
      "execution_count": null,
      "outputs": [
        {
          "output_type": "stream",
          "text": [
            "<class 'pandas.core.frame.DataFrame'>\n",
            "RangeIndex: 200000 entries, 0 to 199999\n",
            "Data columns (total 7 columns):\n",
            " #   Column       Non-Null Count   Dtype         \n",
            "---  ------       --------------   -----         \n",
            " 0   id_caso      200000 non-null  int64         \n",
            " 1   fecha        200000 non-null  datetime64[ns]\n",
            " 2   descripcion  200000 non-null  object        \n",
            " 3   estado_caso  200000 non-null  category      \n",
            " 4   categoria    200000 non-null  category      \n",
            " 5   latitud      200000 non-null  float64       \n",
            " 6   longitud     200000 non-null  float64       \n",
            "dtypes: category(2), datetime64[ns](1), float64(2), int64(1), object(1)\n",
            "memory usage: 8.0+ MB\n",
            "<class 'pandas.core.frame.DataFrame'>\n",
            "RangeIndex: 50 entries, 0 to 49\n",
            "Data columns (total 2 columns):\n",
            " #   Column     Non-Null Count  Dtype   \n",
            "---  ------     --------------  -----   \n",
            " 0   id_caso    50 non-null     int64   \n",
            " 1   respuesta  50 non-null     category\n",
            "dtypes: category(1), int64(1)\n",
            "memory usage: 674.0 bytes\n"
          ],
          "name": "stdout"
        },
        {
          "output_type": "execute_result",
          "data": {
            "text/html": [
              "<div>\n",
              "<style scoped>\n",
              "    .dataframe tbody tr th:only-of-type {\n",
              "        vertical-align: middle;\n",
              "    }\n",
              "\n",
              "    .dataframe tbody tr th {\n",
              "        vertical-align: top;\n",
              "    }\n",
              "\n",
              "    .dataframe thead th {\n",
              "        text-align: right;\n",
              "    }\n",
              "</style>\n",
              "<table border=\"1\" class=\"dataframe\">\n",
              "  <thead>\n",
              "    <tr style=\"text-align: right;\">\n",
              "      <th></th>\n",
              "      <th>id_caso</th>\n",
              "      <th>fecha</th>\n",
              "      <th>descripcion</th>\n",
              "      <th>estado_caso</th>\n",
              "      <th>categoria</th>\n",
              "      <th>latitud</th>\n",
              "      <th>longitud</th>\n",
              "    </tr>\n",
              "  </thead>\n",
              "  <tbody>\n",
              "    <tr>\n",
              "      <th>129041</th>\n",
              "      <td>129541</td>\n",
              "      <td>1991-12-25</td>\n",
              "      <td>asddasd asd</td>\n",
              "      <td>caso resuelto</td>\n",
              "      <td>I</td>\n",
              "      <td>76.239594</td>\n",
              "      <td>356.475784</td>\n",
              "    </tr>\n",
              "    <tr>\n",
              "      <th>100563</th>\n",
              "      <td>101063</td>\n",
              "      <td>1987-07-03</td>\n",
              "      <td>aqwesd asd</td>\n",
              "      <td>caso abierto</td>\n",
              "      <td>I</td>\n",
              "      <td>79.464234</td>\n",
              "      <td>-428.030125</td>\n",
              "    </tr>\n",
              "    <tr>\n",
              "      <th>101960</th>\n",
              "      <td>102460</td>\n",
              "      <td>1956-11-18</td>\n",
              "      <td>asddasd asd</td>\n",
              "      <td>caso abierto</td>\n",
              "      <td>III</td>\n",
              "      <td>16.338666</td>\n",
              "      <td>-76.523321</td>\n",
              "    </tr>\n",
              "    <tr>\n",
              "      <th>19872</th>\n",
              "      <td>20372</td>\n",
              "      <td>1936-01-16</td>\n",
              "      <td>asddasd asd</td>\n",
              "      <td>cerrado sin resolución</td>\n",
              "      <td>I</td>\n",
              "      <td>-11.228643</td>\n",
              "      <td>-264.771265</td>\n",
              "    </tr>\n",
              "    <tr>\n",
              "      <th>5196</th>\n",
              "      <td>5696</td>\n",
              "      <td>2004-11-30</td>\n",
              "      <td>as--- ad</td>\n",
              "      <td>caso resuelto</td>\n",
              "      <td>II</td>\n",
              "      <td>30.794322</td>\n",
              "      <td>253.666329</td>\n",
              "    </tr>\n",
              "    <tr>\n",
              "      <th>119432</th>\n",
              "      <td>119932</td>\n",
              "      <td>2019-08-09</td>\n",
              "      <td>aqwesd asd</td>\n",
              "      <td>caso abierto</td>\n",
              "      <td>I</td>\n",
              "      <td>53.533154</td>\n",
              "      <td>506.414441</td>\n",
              "    </tr>\n",
              "    <tr>\n",
              "      <th>75642</th>\n",
              "      <td>76142</td>\n",
              "      <td>2003-04-29</td>\n",
              "      <td>as--- ad</td>\n",
              "      <td>cerrado sin resolución</td>\n",
              "      <td>III</td>\n",
              "      <td>4.628239</td>\n",
              "      <td>477.963880</td>\n",
              "    </tr>\n",
              "    <tr>\n",
              "      <th>67178</th>\n",
              "      <td>67678</td>\n",
              "      <td>2004-01-19</td>\n",
              "      <td>aqwesd asd</td>\n",
              "      <td>caso abierto</td>\n",
              "      <td>III</td>\n",
              "      <td>-37.553773</td>\n",
              "      <td>-181.054482</td>\n",
              "    </tr>\n",
              "    <tr>\n",
              "      <th>42669</th>\n",
              "      <td>43169</td>\n",
              "      <td>1938-09-19</td>\n",
              "      <td>aqwesd asd</td>\n",
              "      <td>caso abierto</td>\n",
              "      <td>III</td>\n",
              "      <td>-21.155594</td>\n",
              "      <td>-145.597948</td>\n",
              "    </tr>\n",
              "    <tr>\n",
              "      <th>143138</th>\n",
              "      <td>143638</td>\n",
              "      <td>1982-08-03</td>\n",
              "      <td>asddasd asd</td>\n",
              "      <td>caso resuelto</td>\n",
              "      <td>III</td>\n",
              "      <td>-4.403736</td>\n",
              "      <td>69.291911</td>\n",
              "    </tr>\n",
              "  </tbody>\n",
              "</table>\n",
              "</div>"
            ],
            "text/plain": [
              "        id_caso      fecha  descripcion  ... categoria    latitud    longitud\n",
              "129041   129541 1991-12-25  asddasd asd  ...         I  76.239594  356.475784\n",
              "100563   101063 1987-07-03   aqwesd asd  ...         I  79.464234 -428.030125\n",
              "101960   102460 1956-11-18  asddasd asd  ...       III  16.338666  -76.523321\n",
              "19872     20372 1936-01-16  asddasd asd  ...         I -11.228643 -264.771265\n",
              "5196       5696 2004-11-30     as--- ad  ...        II  30.794322  253.666329\n",
              "119432   119932 2019-08-09   aqwesd asd  ...         I  53.533154  506.414441\n",
              "75642     76142 2003-04-29     as--- ad  ...       III   4.628239  477.963880\n",
              "67178     67678 2004-01-19   aqwesd asd  ...       III -37.553773 -181.054482\n",
              "42669     43169 1938-09-19   aqwesd asd  ...       III -21.155594 -145.597948\n",
              "143138   143638 1982-08-03  asddasd asd  ...       III  -4.403736   69.291911\n",
              "\n",
              "[10 rows x 7 columns]"
            ]
          },
          "metadata": {
            "tags": []
          },
          "execution_count": 97
        }
      ]
    },
    {
      "cell_type": "code",
      "metadata": {
        "id": "yLZrPCJB1AGZ",
        "outputId": "2ad4318f-ef52-42a7-cd3e-4e3edd920bb8",
        "colab": {
          "base_uri": "https://localhost:8080/",
          "height": 343
        }
      },
      "source": [
        "info_gordon.sample(10)"
      ],
      "execution_count": null,
      "outputs": [
        {
          "output_type": "execute_result",
          "data": {
            "text/html": [
              "<div>\n",
              "<style scoped>\n",
              "    .dataframe tbody tr th:only-of-type {\n",
              "        vertical-align: middle;\n",
              "    }\n",
              "\n",
              "    .dataframe tbody tr th {\n",
              "        vertical-align: top;\n",
              "    }\n",
              "\n",
              "    .dataframe thead th {\n",
              "        text-align: right;\n",
              "    }\n",
              "</style>\n",
              "<table border=\"1\" class=\"dataframe\">\n",
              "  <thead>\n",
              "    <tr style=\"text-align: right;\">\n",
              "      <th></th>\n",
              "      <th>id_caso</th>\n",
              "      <th>respuesta</th>\n",
              "    </tr>\n",
              "  </thead>\n",
              "  <tbody>\n",
              "    <tr>\n",
              "      <th>22</th>\n",
              "      <td>170329</td>\n",
              "      <td>si</td>\n",
              "    </tr>\n",
              "    <tr>\n",
              "      <th>31</th>\n",
              "      <td>138895</td>\n",
              "      <td>no</td>\n",
              "    </tr>\n",
              "    <tr>\n",
              "      <th>10</th>\n",
              "      <td>171212</td>\n",
              "      <td>si</td>\n",
              "    </tr>\n",
              "    <tr>\n",
              "      <th>24</th>\n",
              "      <td>9457</td>\n",
              "      <td>no</td>\n",
              "    </tr>\n",
              "    <tr>\n",
              "      <th>40</th>\n",
              "      <td>119813</td>\n",
              "      <td>no</td>\n",
              "    </tr>\n",
              "    <tr>\n",
              "      <th>42</th>\n",
              "      <td>98084</td>\n",
              "      <td>no</td>\n",
              "    </tr>\n",
              "    <tr>\n",
              "      <th>48</th>\n",
              "      <td>31586</td>\n",
              "      <td>no</td>\n",
              "    </tr>\n",
              "    <tr>\n",
              "      <th>30</th>\n",
              "      <td>69394</td>\n",
              "      <td>no</td>\n",
              "    </tr>\n",
              "    <tr>\n",
              "      <th>47</th>\n",
              "      <td>180992</td>\n",
              "      <td>no</td>\n",
              "    </tr>\n",
              "    <tr>\n",
              "      <th>39</th>\n",
              "      <td>140340</td>\n",
              "      <td>no</td>\n",
              "    </tr>\n",
              "  </tbody>\n",
              "</table>\n",
              "</div>"
            ],
            "text/plain": [
              "    id_caso respuesta\n",
              "22   170329        si\n",
              "31   138895        no\n",
              "10   171212        si\n",
              "24     9457        no\n",
              "40   119813        no\n",
              "42    98084        no\n",
              "48    31586        no\n",
              "30    69394        no\n",
              "47   180992        no\n",
              "39   140340        no"
            ]
          },
          "metadata": {
            "tags": []
          },
          "execution_count": 98
        }
      ]
    },
    {
      "cell_type": "code",
      "metadata": {
        "id": "4ZzrO7AB1BgR",
        "outputId": "85e19a82-2761-4521-cc3d-04d83ee78c28",
        "colab": {
          "base_uri": "https://localhost:8080/",
          "height": 67
        }
      },
      "source": [
        "info_gordon['respuesta'].value_counts(normalize=True)"
      ],
      "execution_count": null,
      "outputs": [
        {
          "output_type": "execute_result",
          "data": {
            "text/plain": [
              "no    0.58\n",
              "si    0.42\n",
              "Name: respuesta, dtype: float64"
            ]
          },
          "metadata": {
            "tags": []
          },
          "execution_count": 99
        }
      ]
    },
    {
      "cell_type": "markdown",
      "metadata": {
        "id": "cfrKssxl1YFs"
      },
      "source": [
        "1. Tasa de resolución de casos de la fuerza policial por categoría de caso (considerando aquellos casos en los que no participó Batman)."
      ]
    },
    {
      "cell_type": "code",
      "metadata": {
        "id": "XBR3X8JH0vUM",
        "outputId": "b63ce3e3-8f08-4e2f-a619-49aeb5ba14f0",
        "colab": {
          "base_uri": "https://localhost:8080/",
          "height": 101
        }
      },
      "source": [
        "batman_cases = info_gordon.loc[info_gordon['respuesta'] == 'no',:]\n",
        "merged = batman_cases.merge(datos, on='id_caso')\n",
        "merged.loc[merged['estado_caso'] == 'caso resuelto', :].groupby('categoria').size()"
      ],
      "execution_count": null,
      "outputs": [
        {
          "output_type": "execute_result",
          "data": {
            "text/plain": [
              "categoria\n",
              "I      3\n",
              "II     5\n",
              "III    1\n",
              "dtype: int64"
            ]
          },
          "metadata": {
            "tags": []
          },
          "execution_count": 100
        }
      ]
    },
    {
      "cell_type": "code",
      "metadata": {
        "id": "QV5_lQgA4g9u"
      },
      "source": [
        ""
      ],
      "execution_count": null,
      "outputs": []
    },
    {
      "cell_type": "code",
      "metadata": {
        "id": "SUec1toT4cMU",
        "outputId": "52784679-5315-4492-e3ed-3676d9358139",
        "colab": {
          "base_uri": "https://localhost:8080/",
          "height": 874
        }
      },
      "source": [
        "info_gordon.loc[:, 'id_caso'].diff()"
      ],
      "execution_count": null,
      "outputs": [
        {
          "output_type": "execute_result",
          "data": {
            "text/plain": [
              "0          NaN\n",
              "1     124397.0\n",
              "2    -141369.0\n",
              "3      71289.0\n",
              "4     -98586.0\n",
              "5     149209.0\n",
              "6     -98023.0\n",
              "7      45073.0\n",
              "8      38587.0\n",
              "9     -82683.0\n",
              "10    103492.0\n",
              "11    -63818.0\n",
              "12     69781.0\n",
              "13     -6186.0\n",
              "14     -1423.0\n",
              "15   -156611.0\n",
              "16     -8811.0\n",
              "17     13712.0\n",
              "18      1594.0\n",
              "19     61017.0\n",
              "20     78742.0\n",
              "21     -9102.0\n",
              "22     20222.0\n",
              "23    -21567.0\n",
              "24   -139305.0\n",
              "25    171410.0\n",
              "26   -112522.0\n",
              "27     38860.0\n",
              "28    -25349.0\n",
              "29    -34896.0\n",
              "30     22434.0\n",
              "31     69501.0\n",
              "32     49035.0\n",
              "33     -5451.0\n",
              "34   -170904.0\n",
              "35    145215.0\n",
              "36    -27332.0\n",
              "37     63517.0\n",
              "38    -54707.0\n",
              "39      2072.0\n",
              "40    -20527.0\n",
              "41    -71702.0\n",
              "42     49973.0\n",
              "43     23614.0\n",
              "44     69802.0\n",
              "45   -137085.0\n",
              "46     76165.0\n",
              "47     50412.0\n",
              "48   -149406.0\n",
              "49     46038.0\n",
              "Name: id_caso, dtype: float64"
            ]
          },
          "metadata": {
            "tags": []
          },
          "execution_count": 101
        }
      ]
    },
    {
      "cell_type": "code",
      "metadata": {
        "id": "tVzYYoqERP9i",
        "outputId": "40267cd7-5b64-4301-c000-cec275f4e03e",
        "colab": {
          "base_uri": "https://localhost:8080/",
          "height": 195
        }
      },
      "source": [
        "datos.head()"
      ],
      "execution_count": null,
      "outputs": [
        {
          "output_type": "execute_result",
          "data": {
            "text/html": [
              "<div>\n",
              "<style scoped>\n",
              "    .dataframe tbody tr th:only-of-type {\n",
              "        vertical-align: middle;\n",
              "    }\n",
              "\n",
              "    .dataframe tbody tr th {\n",
              "        vertical-align: top;\n",
              "    }\n",
              "\n",
              "    .dataframe thead th {\n",
              "        text-align: right;\n",
              "    }\n",
              "</style>\n",
              "<table border=\"1\" class=\"dataframe\">\n",
              "  <thead>\n",
              "    <tr style=\"text-align: right;\">\n",
              "      <th></th>\n",
              "      <th>id_caso</th>\n",
              "      <th>fecha</th>\n",
              "      <th>descripcion</th>\n",
              "      <th>estado_caso</th>\n",
              "      <th>categoria</th>\n",
              "      <th>latitud</th>\n",
              "      <th>longitud</th>\n",
              "    </tr>\n",
              "  </thead>\n",
              "  <tbody>\n",
              "    <tr>\n",
              "      <th>0</th>\n",
              "      <td>500</td>\n",
              "      <td>1933-04-06</td>\n",
              "      <td>aqwesd asd</td>\n",
              "      <td>caso resuelto</td>\n",
              "      <td>II</td>\n",
              "      <td>-91.775479</td>\n",
              "      <td>320.461228</td>\n",
              "    </tr>\n",
              "    <tr>\n",
              "      <th>1</th>\n",
              "      <td>501</td>\n",
              "      <td>1984-04-25</td>\n",
              "      <td>asddasd asd</td>\n",
              "      <td>caso abierto</td>\n",
              "      <td>II</td>\n",
              "      <td>-42.964741</td>\n",
              "      <td>-155.416838</td>\n",
              "    </tr>\n",
              "    <tr>\n",
              "      <th>2</th>\n",
              "      <td>502</td>\n",
              "      <td>1933-01-26</td>\n",
              "      <td>asddasd asd</td>\n",
              "      <td>caso resuelto</td>\n",
              "      <td>III</td>\n",
              "      <td>48.070006</td>\n",
              "      <td>469.431528</td>\n",
              "    </tr>\n",
              "    <tr>\n",
              "      <th>3</th>\n",
              "      <td>503</td>\n",
              "      <td>1945-05-02</td>\n",
              "      <td>as--- ad</td>\n",
              "      <td>caso abierto</td>\n",
              "      <td>III</td>\n",
              "      <td>78.887913</td>\n",
              "      <td>91.946405</td>\n",
              "    </tr>\n",
              "    <tr>\n",
              "      <th>4</th>\n",
              "      <td>504</td>\n",
              "      <td>2011-05-31</td>\n",
              "      <td>aqwesd asd</td>\n",
              "      <td>caso resuelto</td>\n",
              "      <td>I</td>\n",
              "      <td>-68.962886</td>\n",
              "      <td>-102.908427</td>\n",
              "    </tr>\n",
              "  </tbody>\n",
              "</table>\n",
              "</div>"
            ],
            "text/plain": [
              "   id_caso      fecha  descripcion  ... categoria    latitud    longitud\n",
              "0      500 1933-04-06   aqwesd asd  ...        II -91.775479  320.461228\n",
              "1      501 1984-04-25  asddasd asd  ...        II -42.964741 -155.416838\n",
              "2      502 1933-01-26  asddasd asd  ...       III  48.070006  469.431528\n",
              "3      503 1945-05-02     as--- ad  ...       III  78.887913   91.946405\n",
              "4      504 2011-05-31   aqwesd asd  ...         I -68.962886 -102.908427\n",
              "\n",
              "[5 rows x 7 columns]"
            ]
          },
          "metadata": {
            "tags": []
          },
          "execution_count": 102
        }
      ]
    },
    {
      "cell_type": "code",
      "metadata": {
        "id": "tqcQzefnXAvv"
      },
      "source": [
        ""
      ],
      "execution_count": null,
      "outputs": []
    },
    {
      "cell_type": "code",
      "metadata": {
        "id": "q4mqbcTqUuBd",
        "outputId": "506f1c02-4586-4a4a-8881-9a7faf6c3b7f",
        "colab": {
          "base_uri": "https://localhost:8080/",
          "height": 303
        }
      },
      "source": [
        "datos.agg()"
      ],
      "execution_count": null,
      "outputs": [
        {
          "output_type": "error",
          "ename": "TypeError",
          "evalue": "ignored",
          "traceback": [
            "\u001b[0;31m---------------------------------------------------------------------------\u001b[0m",
            "\u001b[0;31mTypeError\u001b[0m                                 Traceback (most recent call last)",
            "\u001b[0;32m<ipython-input-103-7d1ad436e83a>\u001b[0m in \u001b[0;36m<module>\u001b[0;34m()\u001b[0m\n\u001b[0;32m----> 1\u001b[0;31m \u001b[0mdatos\u001b[0m\u001b[0;34m.\u001b[0m\u001b[0magg\u001b[0m\u001b[0;34m(\u001b[0m\u001b[0;34m)\u001b[0m\u001b[0;34m\u001b[0m\u001b[0;34m\u001b[0m\u001b[0m\n\u001b[0m",
            "\u001b[0;32m/usr/local/lib/python3.6/dist-packages/pandas/core/frame.py\u001b[0m in \u001b[0;36maggregate\u001b[0;34m(self, func, axis, *args, **kwargs)\u001b[0m\n\u001b[1;32m   7355\u001b[0m         \u001b[0maxis\u001b[0m \u001b[0;34m=\u001b[0m \u001b[0mself\u001b[0m\u001b[0;34m.\u001b[0m\u001b[0m_get_axis_number\u001b[0m\u001b[0;34m(\u001b[0m\u001b[0maxis\u001b[0m\u001b[0;34m)\u001b[0m\u001b[0;34m\u001b[0m\u001b[0;34m\u001b[0m\u001b[0m\n\u001b[1;32m   7356\u001b[0m \u001b[0;34m\u001b[0m\u001b[0m\n\u001b[0;32m-> 7357\u001b[0;31m         \u001b[0mrelabeling\u001b[0m\u001b[0;34m,\u001b[0m \u001b[0mfunc\u001b[0m\u001b[0;34m,\u001b[0m \u001b[0mcolumns\u001b[0m\u001b[0;34m,\u001b[0m \u001b[0morder\u001b[0m \u001b[0;34m=\u001b[0m \u001b[0mreconstruct_func\u001b[0m\u001b[0;34m(\u001b[0m\u001b[0mfunc\u001b[0m\u001b[0;34m,\u001b[0m \u001b[0;34m**\u001b[0m\u001b[0mkwargs\u001b[0m\u001b[0;34m)\u001b[0m\u001b[0;34m\u001b[0m\u001b[0;34m\u001b[0m\u001b[0m\n\u001b[0m\u001b[1;32m   7358\u001b[0m \u001b[0;34m\u001b[0m\u001b[0m\n\u001b[1;32m   7359\u001b[0m         \u001b[0mresult\u001b[0m \u001b[0;34m=\u001b[0m \u001b[0;32mNone\u001b[0m\u001b[0;34m\u001b[0m\u001b[0;34m\u001b[0m\u001b[0m\n",
            "\u001b[0;32m/usr/local/lib/python3.6/dist-packages/pandas/core/aggregation.py\u001b[0m in \u001b[0;36mreconstruct_func\u001b[0;34m(func, **kwargs)\u001b[0m\n\u001b[1;32m     84\u001b[0m         \u001b[0;32melif\u001b[0m \u001b[0mfunc\u001b[0m \u001b[0;32mis\u001b[0m \u001b[0;32mNone\u001b[0m\u001b[0;34m:\u001b[0m\u001b[0;34m\u001b[0m\u001b[0;34m\u001b[0m\u001b[0m\n\u001b[1;32m     85\u001b[0m             \u001b[0;31m# nicer error message\u001b[0m\u001b[0;34m\u001b[0m\u001b[0;34m\u001b[0m\u001b[0;34m\u001b[0m\u001b[0m\n\u001b[0;32m---> 86\u001b[0;31m             \u001b[0;32mraise\u001b[0m \u001b[0mTypeError\u001b[0m\u001b[0;34m(\u001b[0m\u001b[0;34m\"Must provide 'func' or tuples of '(column, aggfunc).\"\u001b[0m\u001b[0;34m)\u001b[0m\u001b[0;34m\u001b[0m\u001b[0;34m\u001b[0m\u001b[0m\n\u001b[0m\u001b[1;32m     87\u001b[0m \u001b[0;34m\u001b[0m\u001b[0m\n\u001b[1;32m     88\u001b[0m     \u001b[0;32mif\u001b[0m \u001b[0mrelabeling\u001b[0m\u001b[0;34m:\u001b[0m\u001b[0;34m\u001b[0m\u001b[0;34m\u001b[0m\u001b[0m\n",
            "\u001b[0;31mTypeError\u001b[0m: Must provide 'func' or tuples of '(column, aggfunc)."
          ]
        }
      ]
    },
    {
      "cell_type": "code",
      "metadata": {
        "id": "-KUVQxwyqJ87"
      },
      "source": [
        "# probando"
      ],
      "execution_count": null,
      "outputs": []
    },
    {
      "cell_type": "code",
      "metadata": {
        "id": "vBhZnHEbvPMN"
      },
      "source": [
        "k = 200000\n",
        "b = 500\n",
        "\n",
        "metrics = pd.DataFrame(data={\n",
        "    'client_id': np.random.randint(1, 100, k),\n",
        "    'integration_id': np.random.randint(500, 500 + b, k),\n",
        "    'metric': pd.Categorical(np.random.choice(['handshake_failed', 'ssl_failed',\n",
        "                                               'tls_failed', 'http_failed', 'drp_failed'], k)),\n",
        "    # np.random.randint(1980, 2020, k), \n",
        "    'timestamp': np.random.choice(pd.date_range(start='5/10/2016 00:00', \\\n",
        "                                                end='9/10/2020 00:00', \\\n",
        "                                                freq='S'), k),\n",
        "    # np.random.uniform(800, 3000, k),\n",
        "    'value': np.random.uniform(0, 10, k),\n",
        "    \n",
        "    # 'id_hospital': np.random.randint(500, 550, k),\n",
        "    # 'tipo_parto': pd.Categorical(np.random.choice(['normal', 'cesaria'], k)),\n",
        "})\n",
        "    # randint(500, 1000, k),\n",
        "    # np.random.choice(['transferencia', 'deposito', 'extraccion', None], k, p=[0.5, 0.25, 0.2, 0.05]),\n",
        "    # np.arange(1000, 1000 + k),\n",
        "    # np.random.randint(500, 1000, k),\n",
        "    # 'fecha': np.random.choice(pd.date_range(start='5/10/2018', end='9/10/2020'), k),\n",
        "    # 'fecha': np.random.choice(pd.date_range(start='5/10/2018 00:00', end='9/10/202000:00', freq='S'), k),\n",
        "    # 'hora': np.random.choice(pd.date_range(start='10:00', end='15:00', freq='S').time, k),\n",
        "    # 'monto': np.random.uniform(100, 10000, size=k),\n",
        "integration = pd.DataFrame(data={\n",
        "    'integration_id': np.arange(500, 500 + b),\n",
        "    'data_provider': np.random.randint(500, 800, b),\n",
        "    'integration_name': np.random.randint(2, 50, b), \n",
        "})\n",
        "\n",
        "# transacciones['tipo de transaccion'] = transacciones['tipo de transaccion'].astype('category')\n",
        "# transacciones['cuenta origen'] = transacciones['cuenta origen'].astype('int32')\n",
        "# transacciones['cuenta destino'] = transacciones['cuenta destino'].astype('int32')\n",
        "metrics.info()\n",
        "integration.info(10)\n",
        "metrics.sample(10)"
      ],
      "execution_count": null,
      "outputs": []
    },
    {
      "cell_type": "code",
      "metadata": {
        "id": "VgPXPsxYZkB1"
      },
      "source": [
        "metric_summary = metrics.loc[metrics['metric'].isin(['handshake_failed', 'tls_failed', 'ssl_failed']) \\\n",
        "            & (metrics['timestamp'] >= pd.Timestamp(1592187602)) ] \\\n",
        "  .groupby(['metric', 'integration_id']).agg({'value': 'mean'}).dropna().unstack()\n",
        "\n",
        "metric_summary.columns = metric_summary.columns.get_level_values(1)\n",
        "metric_summary.T"
      ],
      "execution_count": null,
      "outputs": []
    },
    {
      "cell_type": "code",
      "metadata": {
        "id": "EAvtzjGBderZ"
      },
      "source": [
        "metric_summary = metrics.loc[metrics['metric'].isin(['handshake_failed']) \\\n",
        "            & (metrics['timestamp'] >= pd.Timestamp(1592187602)) ] \\\n",
        "  .groupby('integration_id').size().to_frame().rename(columns={0: 'tot_handshake_failed'})\n",
        "\n",
        "# metric_summary.columns = metric_summary.columns.get_level_values(1)\n",
        "metric_summary.merge(integration, on='integration_id', how='left') \\\n",
        "  .nlargest(5, 'tot_handshake_failed').loc[:, ['integration_name', \n",
        "                                               'tot_handshake_failed']]"
      ],
      "execution_count": null,
      "outputs": []
    },
    {
      "cell_type": "code",
      "metadata": {
        "id": "Ff6NG1jYev_G"
      },
      "source": [
        "k = 200000\n",
        "b = 500\n",
        "\n",
        "ventas = pd.DataFrame(data={\n",
        "    'id_producto': np.random.randint(1, 1 + b, k),\n",
        "    'id_comprador': np.random.randint(500, 1500, k),\n",
        "    'id_vendedor': np.random.randint(100, 200, k),\n",
        "    'pais': pd.Categorical(np.random.choice(['ar', 'cl', 'br', 'py', 'us'], k)),\n",
        "    'tiene_reclamo': pd.Categorical(np.random.choice(['si', 'no'], k)),\n",
        "    'año': np.random.randint(2016, 2020, k),\n",
        "    'mes': np.random.randint(1, 12 + 1, k),\n",
        "    'precio_local': np.random.uniform(100, 190, k),\n",
        "    # np.random.randint(1980, 2020, k), \n",
        "    # 'timestamp': np.random.choice(pd.date_range(start='5/10/2016 00:00', \\\n",
        "    #                                             end='9/10/2020 00:00', \\\n",
        "    #                                             freq='S'), k),\n",
        "    # # np.random.uniform(800, 3000, k),\n",
        "    # 'value': np.random.uniform(0, 10, k),\n",
        "    \n",
        "    # 'id_hospital': np.random.randint(500, 550, k),\n",
        "    # 'tipo_parto': pd.Categorical(np.random.choice(['normal', 'cesaria'], k)),\n",
        "})\n",
        "    # randint(500, 1000, k),\n",
        "    # np.random.choice(['transferencia', 'deposito', 'extraccion', None], k, p=[0.5, 0.25, 0.2, 0.05]),\n",
        "    # np.arange(1000, 1000 + k),\n",
        "    # np.random.randint(500, 1000, k),\n",
        "    # 'fecha': np.random.choice(pd.date_range(start='5/10/2018', end='9/10/2020'), k),\n",
        "    # 'fecha': np.random.choice(pd.date_range(start='5/10/2018 00:00', end='9/10/202000:00', freq='S'), k),\n",
        "    # 'hora': np.random.choice(pd.date_range(start='10:00', end='15:00', freq='S').time, k),\n",
        "    # 'monto': np.random.uniform(100, 10000, size=k),\n",
        "\n",
        "productos = pd.DataFrame(data={\n",
        "    'id_producto': np.arange(1, 1 + b),\n",
        "    'titulo': np.random.randint(500, 800, b),\n",
        "    'categoría': pd.Categorical(np.random.choice(['smartph', 'tablet', 'notebook', 'watch'], b)),\n",
        "})\n",
        "\n",
        "# transacciones['tipo de transaccion'] = transacciones['tipo de transaccion'].astype('category')\n",
        "# transacciones['cuenta origen'] = transacciones['cuenta origen'].astype('int32')\n",
        "# transacciones['cuenta destino'] = transacciones['cuenta destino'].astype('int32')\n",
        "metrics.info()\n",
        "integration.info(10)\n",
        "ventas.sample(10)\n",
        "ventas[ventas['mes'] == 12]"
      ],
      "execution_count": null,
      "outputs": []
    },
    {
      "cell_type": "code",
      "metadata": {
        "id": "pbVA6zaZlYrq"
      },
      "source": [
        ""
      ],
      "execution_count": null,
      "outputs": []
    },
    {
      "cell_type": "code",
      "metadata": {
        "id": "-wlMcEqJlMg-"
      },
      "source": [
        ""
      ],
      "execution_count": null,
      "outputs": []
    },
    {
      "cell_type": "code",
      "metadata": {
        "id": "46T8gGkglI17"
      },
      "source": [
        ""
      ],
      "execution_count": null,
      "outputs": []
    },
    {
      "cell_type": "code",
      "metadata": {
        "id": "N_O0Ziv-lEYY"
      },
      "source": [
        ""
      ],
      "execution_count": null,
      "outputs": []
    },
    {
      "cell_type": "code",
      "metadata": {
        "id": "wDhHFA_LkVgi"
      },
      "source": [
        "smartphones = productos.loc[productos['categoría'] == 'smartph', :]\n",
        "ventas_diciembre_2018_2019 = ventas[ventas['año'].isin([2018, 2019]) & (ventas['mes'] == 12)]\n",
        "\n",
        "ventas_smartphones_diciembre_2018_2019 = smartphones.merge(ventas_diciembre_2018_2019, on='id_producto')\n",
        "ventas_smartphones_diciembre_2018_2019 = ventas_smartphones_diciembre_2018_2019.groupby(['id_producto', 'año']).agg({'precio_local': 'count'}).unstack()\n",
        "ventas_smartphones_diciembre_2018_2019.columns = ventas_smartphones_diciembre_2018_2019.columns.get_level_values(1)\n",
        "ventas_smartphones_diciembre_2018_2019['diferencia'] = ventas_smartphones_diciembre_2018_2019[2019] - ventas_smartphones_diciembre_2018_2019[2018]\n",
        "ventas_smartphones_diciembre_2018_2019.loc[ventas_smartphones_diciembre_2018_2019['diferencia'] < 0]"
      ],
      "execution_count": null,
      "outputs": []
    },
    {
      "cell_type": "code",
      "metadata": {
        "id": "A8e1d1iGoAmo"
      },
      "source": [
        ""
      ],
      "execution_count": null,
      "outputs": []
    },
    {
      "cell_type": "code",
      "metadata": {
        "id": "yAoW25SWn4Ya"
      },
      "source": [
        ""
      ],
      "execution_count": null,
      "outputs": []
    },
    {
      "cell_type": "code",
      "metadata": {
        "id": "IGURZPx4m-qz"
      },
      "source": [
        ""
      ],
      "execution_count": null,
      "outputs": []
    },
    {
      "cell_type": "code",
      "metadata": {
        "id": "W9V71EOsmtgq"
      },
      "source": [
        ""
      ],
      "execution_count": null,
      "outputs": []
    },
    {
      "cell_type": "code",
      "metadata": {
        "id": "6UfAzK9OlxxU"
      },
      "source": [
        ""
      ],
      "execution_count": null,
      "outputs": []
    },
    {
      "cell_type": "code",
      "metadata": {
        "id": "OFqnUCMclt_-"
      },
      "source": [
        ""
      ],
      "execution_count": null,
      "outputs": []
    },
    {
      "cell_type": "code",
      "metadata": {
        "id": "LeiyMAMplqon"
      },
      "source": [
        ""
      ],
      "execution_count": null,
      "outputs": []
    },
    {
      "cell_type": "code",
      "metadata": {
        "id": "jRNdwDujllwP"
      },
      "source": [
        ""
      ],
      "execution_count": null,
      "outputs": []
    },
    {
      "cell_type": "code",
      "metadata": {
        "id": "uevc53Yvk-FH"
      },
      "source": [
        ""
      ],
      "execution_count": null,
      "outputs": []
    },
    {
      "cell_type": "code",
      "metadata": {
        "id": "S9jMkZE0k7kj"
      },
      "source": [
        ""
      ],
      "execution_count": null,
      "outputs": []
    },
    {
      "cell_type": "code",
      "metadata": {
        "id": "9SfSzVcWk46C"
      },
      "source": [
        ""
      ],
      "execution_count": null,
      "outputs": []
    },
    {
      "cell_type": "code",
      "metadata": {
        "id": "-4zXMsR7kpXg"
      },
      "source": [
        ""
      ],
      "execution_count": null,
      "outputs": []
    },
    {
      "cell_type": "code",
      "metadata": {
        "id": "XaL0Un1bkiac"
      },
      "source": [
        ""
      ],
      "execution_count": null,
      "outputs": []
    },
    {
      "cell_type": "code",
      "metadata": {
        "id": "20dMqeTfeiIG"
      },
      "source": [
        "ventas['reclamos'] = ventas['tiene_reclamo'] == 'si'\n",
        "grouped = ventas.groupby('id_vendedor').agg({\n",
        "    'tiene_reclamo': [('tot_ventas', 'count')],\n",
        "    'reclamos': [('tot_reclamos', 'sum')]\n",
        "})\n",
        "grouped.columns = grouped.columns.get_level_values(1)\n",
        "grouped['tasa_de_reclamos'] = grouped['tot_reclamos'] / grouped['tot_ventas']\n",
        "grouped = grouped.reset_index()\n",
        "grouped.loc[grouped['tasa_de_reclamos'] > 0.3, ['id_vendedor']]"
      ],
      "execution_count": null,
      "outputs": []
    },
    {
      "cell_type": "code",
      "metadata": {
        "id": "9zA_yePqjnvf"
      },
      "source": [
        ""
      ],
      "execution_count": null,
      "outputs": []
    },
    {
      "cell_type": "code",
      "metadata": {
        "id": "D3z4ENkAjZgq"
      },
      "source": [
        ""
      ],
      "execution_count": null,
      "outputs": []
    },
    {
      "cell_type": "code",
      "metadata": {
        "id": "r_buF8p6jT9V"
      },
      "source": [
        ""
      ],
      "execution_count": null,
      "outputs": []
    },
    {
      "cell_type": "code",
      "metadata": {
        "id": "kOtDqYD6jRkk"
      },
      "source": [
        ""
      ],
      "execution_count": null,
      "outputs": []
    },
    {
      "cell_type": "code",
      "metadata": {
        "id": "8YgKuDOcjM1H"
      },
      "source": [
        ""
      ],
      "execution_count": null,
      "outputs": []
    },
    {
      "cell_type": "code",
      "metadata": {
        "id": "rGlxR0LijIaf"
      },
      "source": [
        ""
      ],
      "execution_count": null,
      "outputs": []
    },
    {
      "cell_type": "code",
      "metadata": {
        "id": "uEvbYwO0i_5D"
      },
      "source": [
        ""
      ],
      "execution_count": null,
      "outputs": []
    },
    {
      "cell_type": "code",
      "metadata": {
        "id": "Hvc2u7tSi094"
      },
      "source": [
        ""
      ],
      "execution_count": null,
      "outputs": []
    },
    {
      "cell_type": "code",
      "metadata": {
        "id": "r5QDvl_tinGc"
      },
      "source": [
        ""
      ],
      "execution_count": null,
      "outputs": []
    },
    {
      "cell_type": "code",
      "metadata": {
        "id": "e3IRpfJtijCS"
      },
      "source": [
        ""
      ],
      "execution_count": null,
      "outputs": []
    },
    {
      "cell_type": "code",
      "metadata": {
        "id": "e9-5EIlyicoQ"
      },
      "source": [
        ""
      ],
      "execution_count": null,
      "outputs": []
    },
    {
      "cell_type": "code",
      "metadata": {
        "id": "ALMze58EiWo2"
      },
      "source": [
        ""
      ],
      "execution_count": null,
      "outputs": []
    },
    {
      "cell_type": "code",
      "metadata": {
        "id": "jSIhDqhbiRnR"
      },
      "source": [
        ""
      ],
      "execution_count": null,
      "outputs": []
    },
    {
      "cell_type": "code",
      "metadata": {
        "id": "o6Dk7J79iGbK"
      },
      "source": [
        ""
      ],
      "execution_count": null,
      "outputs": []
    },
    {
      "cell_type": "code",
      "metadata": {
        "id": "6xY_yY9Th_sT"
      },
      "source": [
        ""
      ],
      "execution_count": null,
      "outputs": []
    },
    {
      "cell_type": "code",
      "metadata": {
        "id": "F7umDGNdh-fI"
      },
      "source": [
        ""
      ],
      "execution_count": null,
      "outputs": []
    },
    {
      "cell_type": "code",
      "metadata": {
        "id": "G2kf6BKYhkvW"
      },
      "source": [
        ""
      ],
      "execution_count": null,
      "outputs": []
    },
    {
      "cell_type": "code",
      "metadata": {
        "id": "llYZr1HceWAv"
      },
      "source": [
        ""
      ],
      "execution_count": null,
      "outputs": []
    },
    {
      "cell_type": "code",
      "metadata": {
        "id": "AOSvAc2MePEm"
      },
      "source": [
        ""
      ],
      "execution_count": null,
      "outputs": []
    },
    {
      "cell_type": "code",
      "metadata": {
        "id": "kcJaLOoGeJ8w"
      },
      "source": [
        ""
      ],
      "execution_count": null,
      "outputs": []
    },
    {
      "cell_type": "code",
      "metadata": {
        "id": "e7KNkSpqeGw2"
      },
      "source": [
        ""
      ],
      "execution_count": null,
      "outputs": []
    },
    {
      "cell_type": "code",
      "metadata": {
        "id": "Zh2m9VcleEX-"
      },
      "source": [
        ""
      ],
      "execution_count": null,
      "outputs": []
    },
    {
      "cell_type": "code",
      "metadata": {
        "id": "_46mIWhHdVAD"
      },
      "source": [
        ""
      ],
      "execution_count": null,
      "outputs": []
    },
    {
      "cell_type": "code",
      "metadata": {
        "id": "cMkJdNYKdRuL"
      },
      "source": [
        ""
      ],
      "execution_count": null,
      "outputs": []
    },
    {
      "cell_type": "code",
      "metadata": {
        "id": "9pA92HcKdQDW"
      },
      "source": [
        ""
      ],
      "execution_count": null,
      "outputs": []
    },
    {
      "cell_type": "code",
      "metadata": {
        "id": "lnwBf2CudPSh"
      },
      "source": [
        ""
      ],
      "execution_count": null,
      "outputs": []
    },
    {
      "cell_type": "code",
      "metadata": {
        "id": "lxAzXThAdLrx"
      },
      "source": [
        ""
      ],
      "execution_count": null,
      "outputs": []
    },
    {
      "cell_type": "code",
      "metadata": {
        "id": "DdicVg11dKUd"
      },
      "source": [
        ""
      ],
      "execution_count": null,
      "outputs": []
    },
    {
      "cell_type": "code",
      "metadata": {
        "id": "aY_8SdswdHKG"
      },
      "source": [
        ""
      ],
      "execution_count": null,
      "outputs": []
    },
    {
      "cell_type": "code",
      "metadata": {
        "id": "fsBL3RZsdC4I"
      },
      "source": [
        ""
      ],
      "execution_count": null,
      "outputs": []
    },
    {
      "cell_type": "code",
      "metadata": {
        "id": "-obo7SfCdBSV"
      },
      "source": [
        ""
      ],
      "execution_count": null,
      "outputs": []
    },
    {
      "cell_type": "code",
      "metadata": {
        "id": "WHfqYX-lcugJ"
      },
      "source": [
        ""
      ],
      "execution_count": null,
      "outputs": []
    },
    {
      "cell_type": "code",
      "metadata": {
        "id": "KTm6M_IxcsHM"
      },
      "source": [
        ""
      ],
      "execution_count": null,
      "outputs": []
    },
    {
      "cell_type": "code",
      "metadata": {
        "id": "ne0SDBA4cZf4"
      },
      "source": [
        ""
      ],
      "execution_count": null,
      "outputs": []
    },
    {
      "cell_type": "code",
      "metadata": {
        "id": "GXPbqX4lcYkc"
      },
      "source": [
        ""
      ],
      "execution_count": null,
      "outputs": []
    },
    {
      "cell_type": "code",
      "metadata": {
        "id": "WMRBRr-LcWlU"
      },
      "source": [
        ""
      ],
      "execution_count": null,
      "outputs": []
    },
    {
      "cell_type": "code",
      "metadata": {
        "id": "ZwyJiNqQcUVa"
      },
      "source": [
        ""
      ],
      "execution_count": null,
      "outputs": []
    },
    {
      "cell_type": "code",
      "metadata": {
        "id": "opJdXZxdcQXq"
      },
      "source": [
        ""
      ],
      "execution_count": null,
      "outputs": []
    },
    {
      "cell_type": "code",
      "metadata": {
        "id": "KJGnfn5rcOEX"
      },
      "source": [
        ""
      ],
      "execution_count": null,
      "outputs": []
    },
    {
      "cell_type": "code",
      "metadata": {
        "id": "JlqZg4orcJq1"
      },
      "source": [
        ""
      ],
      "execution_count": null,
      "outputs": []
    },
    {
      "cell_type": "code",
      "metadata": {
        "id": "4doPpYzlcErV"
      },
      "source": [
        ""
      ],
      "execution_count": null,
      "outputs": []
    },
    {
      "cell_type": "code",
      "metadata": {
        "id": "XGTBhxV9cARE"
      },
      "source": [
        ""
      ],
      "execution_count": null,
      "outputs": []
    },
    {
      "cell_type": "code",
      "metadata": {
        "id": "Dj0Ugnura72r"
      },
      "source": [
        ""
      ],
      "execution_count": null,
      "outputs": []
    },
    {
      "cell_type": "code",
      "metadata": {
        "id": "n18Rx8iXar_c"
      },
      "source": [
        ""
      ],
      "execution_count": null,
      "outputs": []
    },
    {
      "cell_type": "code",
      "metadata": {
        "id": "DFGzvHsjaUpZ"
      },
      "source": [
        ""
      ],
      "execution_count": null,
      "outputs": []
    },
    {
      "cell_type": "code",
      "metadata": {
        "id": "0K0RkT4Q_fLO"
      },
      "source": [
        "import matplotlib.pyplot as plt\n",
        "import pandas as pd\n",
        "%matplotlib inline"
      ],
      "execution_count": null,
      "outputs": []
    },
    {
      "cell_type": "code",
      "metadata": {
        "id": "PNOjpxsBIPeR"
      },
      "source": [
        "oscars = pd.read_csv('Oscars-demographics-DFE.csv', \n",
        "                     encoding='latin-1',\n",
        "                     usecols=['birthplace', \n",
        "                              'date_of_birth', \n",
        "                              'race_ethnicity', \n",
        "                              'religion',\n",
        "                              'sexual_orientation', \n",
        "                              'year_of_award', \n",
        "                              'award', \n",
        "                              'movie', \n",
        "                              'person'])\n",
        "oscars['date_of_birth'] = pd.to_datetime(oscars['date_of_birth'], \n",
        "                                         errors='coerce')\n",
        "from datetime import datetime\n",
        "import datetime as dt\n",
        "\n",
        "oscars['year_of_birth'] = oscars.loc[:, 'date_of_birth'].dt.year\n",
        "oscars['age_at_award'] = oscars['year_of_award'] - oscars['year_of_birth']\n",
        "oscars.loc[oscars['age_at_award'] < 1, 'year_of_birth'] -= 100 # Hay un problema con el dataset\n",
        "oscars.loc[oscars['age_at_award'] < 1, 'year_of_birth']\n",
        "oscars['age_at_award'] = oscars['year_of_award'] - oscars['year_of_birth']\n",
        "\n",
        "oscars"
      ],
      "execution_count": null,
      "outputs": []
    },
    {
      "cell_type": "code",
      "metadata": {
        "id": "sYBJCPtdIyuP"
      },
      "source": [
        "fig, ax = plt.subplots()\n",
        "\n",
        "plt.title('Year of award variable: Histogram', \n",
        "          fontsize=18,\n",
        "          fontweight=10,\n",
        "          color='#474747')\n",
        "\n",
        "ax.set_xlabel('Year of award', fontdict={\n",
        "    'color': \"#474747\",\n",
        "    'fontsize': 12\n",
        "})\n",
        "ax.set_facecolor(color='#FEFEFE')\n",
        "fig.set_facecolor(color='#FCFCFC')\n",
        "# fig.set_edgecolor(color='red')\n",
        "\n",
        "plot_year = oscars['year_of_award'].plot.hist(figsize=(8, 4))\n",
        "plt.show()\n"
      ],
      "execution_count": null,
      "outputs": []
    },
    {
      "cell_type": "code",
      "metadata": {
        "id": "kHXKVMwcMDhN"
      },
      "source": [
        "fig, ax = plt.subplots()\n",
        "\n",
        "plt.title('Year of award variable: Histogram', \n",
        "          fontsize=18,\n",
        "          fontweight=10,\n",
        "          color='#474747')\n",
        "\n",
        "ax.set_xlabel('Year of award', fontdict={\n",
        "    'color': \"#474747\",\n",
        "    'fontsize': 12\n",
        "})\n",
        "ax.set_facecolor(color='#FEFEFE')\n",
        "fig.set_facecolor(color='#FCFCFC')\n",
        "# fig.set_edgecolor(color='red')\n",
        "\n",
        "plot_year = oscars['year_of_award'] \\\n",
        "              .plot.hist(orientation='horizontal',\n",
        "                         figsize=(8, 4))\n",
        "plt.show()\n"
      ],
      "execution_count": null,
      "outputs": []
    },
    {
      "cell_type": "code",
      "metadata": {
        "id": "rCFvsL_nMR7U"
      },
      "source": [
        "fig, ax = plt.subplots()\n",
        "\n",
        "plt.title('Year of award variable: Density plot (KDE)', \n",
        "          fontsize=18,\n",
        "          fontweight=10,\n",
        "          color='#474747')\n",
        "\n",
        "ax.set_xlabel('Year of award', fontdict={\n",
        "    'color': \"#474747\",\n",
        "    'fontsize': 12\n",
        "})\n",
        "\n",
        "ax.set_facecolor(color='#FEFEFE')\n",
        "fig.set_facecolor(color='#FCFCFC')\n",
        "\n",
        "plot_year = oscars['year_of_award'] \\\n",
        "              .plot.kde(figsize=(8, 4))\n",
        "plt.show()\n"
      ],
      "execution_count": null,
      "outputs": []
    },
    {
      "cell_type": "code",
      "metadata": {
        "id": "Mm880IbxMlD2"
      },
      "source": [
        "fig, ax = plt.subplots()\n",
        "\n",
        "plt.title('Year of award variable: Histogram & Density plot (KDE)', \n",
        "          fontsize=18,\n",
        "          fontweight=10,\n",
        "          color='#474747')\n",
        "\n",
        "ax.set_xlabel('Year of award', fontdict={\n",
        "    'color': \"#474747\",\n",
        "    'fontsize': 12\n",
        "})\n",
        "\n",
        "ax.set_facecolor(color='#FEFEFE')\n",
        "fig.set_facecolor(color='#FCFCFC')\n",
        "\n",
        "plot_year_hist = oscars['year_of_award'] \\\n",
        "              .plot.hist(figsize=(8, 4), density=True)\n",
        "plot_year_kde = oscars['year_of_award'] \\\n",
        "              .plot.kde(figsize=(8, 4))\n",
        "              \n",
        "plt.show()\n"
      ],
      "execution_count": null,
      "outputs": []
    },
    {
      "cell_type": "code",
      "metadata": {
        "id": "Rl3WxzypNXWN"
      },
      "source": [
        "fig, ax = plt.subplots()\n",
        "\n",
        "plt.title('Year of award variable: Histogram & Density plot (KDE)', \n",
        "          fontsize=18,\n",
        "          fontweight=10,\n",
        "          color='#474747')\n",
        "\n",
        "ax.set_xlabel('Year of award', fontdict={\n",
        "    'color': \"#474747\",\n",
        "    'fontsize': 12\n",
        "})\n",
        "\n",
        "ax.set_facecolor(color='#FEFEFE')\n",
        "fig.set_facecolor(color='#FCFCFC')\n",
        "\n",
        "plot_year_hist = oscars['year_of_award'] \\\n",
        "              .plot.hist(figsize=(8, 4))\n",
        "plot_year_kde = oscars['year_of_award'] \\\n",
        "              .plot.kde(figsize=(8, 4), ax=ax, secondary_y=True)\n",
        "\n",
        "ax.set_ylabel('Frequency')\n",
        "plot_year_kde.set_ylabel('Density')\n",
        "plt.show()\n"
      ],
      "execution_count": null,
      "outputs": []
    },
    {
      "cell_type": "code",
      "metadata": {
        "id": "sBGvn0LVP7SH"
      },
      "source": [
        "import seaborn as sns"
      ],
      "execution_count": null,
      "outputs": []
    },
    {
      "cell_type": "code",
      "metadata": {
        "id": "oWCTvEdxP-MW"
      },
      "source": [
        "# sns.displot()\n",
        "fig, ax = plt.subplots()\n",
        "axes = sns.histplot(oscars['year_of_award'], kde=True, \n",
        "             bins=int(180 / 5), color='#F51')\n",
        "\n",
        "ax.set_facecolor(color='#FEFEFE')\n",
        "fig.set_facecolor(color='#FCFCFC')\n",
        "plt.xlabel('Year of award')\n",
        "plt.ylabel('Density')\n",
        "plt.title('Other histogram & dencity plot')"
      ],
      "execution_count": null,
      "outputs": []
    },
    {
      "cell_type": "code",
      "metadata": {
        "id": "lEgodU_rSYsj"
      },
      "source": [
        "oscars_per_person = oscars['person'].value_counts()\n",
        "oscars_per_person # serie\n",
        "oscars_per_person = oscars_per_person.to_frame()\n",
        "oscars_per_person # dataframe"
      ],
      "execution_count": null,
      "outputs": []
    },
    {
      "cell_type": "code",
      "metadata": {
        "id": "meHCUTMLS4vx"
      },
      "source": [
        "from matplotlib.ticker import MaxNLocator\n",
        "plt.style.use('seaborn')\n",
        "\n",
        "fig, ax = plt.subplots()\n",
        "plt.title('Top award winners', \n",
        "          fontsize=18,\n",
        "          fontweight=10,\n",
        "          color='#474747')\n",
        "\n",
        "ax.set_xlabel('Winner\\'s name', fontdict={\n",
        "    'color': \"#474747\",\n",
        "    'fontsize': 12\n",
        "})\n",
        "ax.set_ylabel('Number of Oscars', fontdict={\n",
        "    'color': \"#474747\",\n",
        "    'fontsize': 12\n",
        "})\n",
        "ax.set_facecolor(color='#FEFEFE')\n",
        "ax.yaxis.set_major_locator(MaxNLocator(integer=True))\n",
        "\n",
        "fig.set_facecolor(color='#FCFCFC')\n",
        "\n",
        "oscars_per_person.head(20) \\\n",
        "  .plot(kind='bar', \n",
        "        ax=ax,\n",
        "        figsize=(16, 8),\n",
        "        rot=60,\n",
        "        color=(0.7, 0.2, 0.4, 0.6))"
      ],
      "execution_count": null,
      "outputs": []
    },
    {
      "cell_type": "code",
      "metadata": {
        "id": "ONgrktSHWQXg"
      },
      "source": [
        ""
      ],
      "execution_count": null,
      "outputs": []
    },
    {
      "cell_type": "code",
      "metadata": {
        "id": "IzDeKVEfXlsK"
      },
      "source": [
        "fig, ax = plt.subplots(2, 1)\n",
        "plt.style.use('seaborn')\n",
        "\n",
        "plt.title('Relationship between: Year of Award vs. Age', \n",
        "          fontsize=18,\n",
        "          fontweight=10,\n",
        "          color='#474747')\n",
        "\n",
        "ax[0].set_xlabel('Year of award', fontdict={\n",
        "    'color': \"#474747\",\n",
        "    'fontsize': 12\n",
        "})\n",
        "\n",
        "ax[0].set_facecolor(color='#FEFEFE')\n",
        "fig.set_facecolor(color='#FCFCFC')\n",
        "oscars.plot \\\n",
        "  .scatter('year_of_award', 'age_at_award', alpha=0.5, figsize=(12, 8))\n",
        "\n",
        "oscars.plot \\\n",
        "  .scatter('age_at_award', 'year_of_award', alpha=0.5, figsize=(12, 8))\n",
        "ax[0].set_ylabel('Age')\n",
        "ax[0].set_xlabel('Year')"
      ],
      "execution_count": null,
      "outputs": []
    },
    {
      "cell_type": "code",
      "metadata": {
        "id": "jqnKaSykhWbb"
      },
      "source": [
        "cor = oscars.corr().abs()[::-1]\n",
        "\n",
        "import matplotlib.ticker as ticker\n",
        "import numpy as np\n",
        "plt.style.use('seaborn')\n",
        "fig, ax = plt.subplots(1, 1, figsize=(8, 8))\n",
        "ax.set_title('Relationship between numeric columns')\n",
        "fig.set_facecolor(\"#FDFDFD\")\n",
        "c = plt.pcolor(cor, cmap='BuPu')\n",
        "ax.spines['top'].set_color('white')\n",
        "fig.colorbar(c, ax=ax)\n",
        "plt.yticks(np.arange(0.5, len(cor.index), 1), cor.index)\n",
        "plt.xticks(np.arange(0.5, len(cor.columns), 1), cor.columns)\n",
        "plt.show()"
      ],
      "execution_count": null,
      "outputs": []
    },
    {
      "cell_type": "code",
      "metadata": {
        "id": "Bt2KdKkqnYRY"
      },
      "source": [
        "cor = oscars.corr().abs()\n",
        "\n",
        "import matplotlib.ticker as ticker\n",
        "import numpy as np\n",
        "import seaborn as sns\n",
        "\n",
        "fig, ax = plt.subplots()\n",
        "fig.set_facecolor(\"#FDbdFD\")\n",
        "sns.heatmap(cor, cmap='BuPu')\n",
        "\n",
        "# # fig, ax = plt.subplots(2, 2, figsize=(8, 8))\n",
        "# # heatplot = ax.imshow(cor, cmap='BuPu')\n",
        "# ax.set_title('Relationship between numeric columns')\n",
        "# c = plt.pcolor(cor, cmap='BuPu')\n",
        "# fig.colorbar(c, ax=ax)\n",
        "# plt.yticks(np.arange(0.5, len(cor.index), 1), cor.index)\n",
        "# plt.xticks(np.arange(0.5, len(cor.columns), 1), cor.columns)\n",
        "# plt.show()"
      ],
      "execution_count": null,
      "outputs": []
    },
    {
      "cell_type": "code",
      "metadata": {
        "id": "P5KYrPFKJ_S-"
      },
      "source": [
        "import numpy as np\n",
        "import matplotlib.pyplot as plt\n",
        "plt.style.use('seaborn')"
      ],
      "execution_count": null,
      "outputs": []
    },
    {
      "cell_type": "code",
      "metadata": {
        "id": "Ifg45-xVJmpU"
      },
      "source": [
        "fig, ax = plt.subplots()\n",
        "\n",
        "print(type(fig))\n",
        "print(type(ax))\n",
        "x = np.random.randint(1, 10, size=10)\n",
        "y = 2 * x\n",
        "# ax_1 = fig.add_subplot(2, 1, 1)\n",
        "# ax_1.plot(x, y)\n",
        "# ax_2 = fig.add_subplot()\n",
        "ax.plot(x, y)\n",
        "x = np.linspace(-10, 10, 10000)\n",
        "y = 2 * x\n",
        "\n",
        "plt.plot(x, np.cos(x))\n",
        "plt.plot(x, np.sin(x), color=(1.0, 0.2, 0.3), linestyle='-')\n",
        "plt.plot(x, np.sin(x) + 3, color='blue', linestyle='--')\n",
        "plt.plot(x, np.sin(x) + 3, color='blue', linestyle='--')\n",
        "plt.plot(x, 3 * np.sin(x) + 3, color='g', linestyle=':')\n",
        "plt.plot(x, 3 * np.log(x) + 3, color='0.75', linestyle='-.', label='yet another random functiontica')\n",
        "plt.plot(x, 4 * np.exp(- (x) ** 2/30) * np.sin(-x * 5), color='#FF22FF', linestyle='-.', label='random functiontica')\n",
        "plt.xlim(-10, 10)\n",
        "plt.ylim(-5, 10)\n",
        "plt.legend()\n",
        "plt.show()"
      ],
      "execution_count": null,
      "outputs": []
    },
    {
      "cell_type": "code",
      "metadata": {
        "id": "gMmQ1wTaRRwW"
      },
      "source": [
        "import requests"
      ],
      "execution_count": null,
      "outputs": []
    },
    {
      "cell_type": "code",
      "metadata": {
        "id": "GWx_a5v2RWLQ"
      },
      "source": [
        "with requests.get(\n",
        "    \"https://raw.githubusercontent.com/Nothingaholic/Python-Cheat-Sheet/master/matplotlib/happiness_rank.csv\"\n",
        ") as r, open(\"data.csv\", \"wb\") as f:\n",
        "    for chunk in r.iter_content():\n",
        "        f.write(chunk)"
      ],
      "execution_count": null,
      "outputs": []
    },
    {
      "cell_type": "code",
      "metadata": {
        "id": "SG4jDib6RhXm"
      },
      "source": [
        "import pandas as pd\n",
        "df = pd.read_csv(\"data.csv\")\n",
        "df"
      ],
      "execution_count": null,
      "outputs": []
    },
    {
      "cell_type": "code",
      "metadata": {
        "id": "fqMkh5jxWjUM"
      },
      "source": [
        "group = df.groupby('Country').agg({\n",
        "    'Score': [('Minimo', 'min'), 'max']\n",
        "}).reset_index()\n",
        "group.loc[:, ('Score', 'max')]\n",
        "df.groupby('Country').transform('mean')"
      ],
      "execution_count": null,
      "outputs": []
    },
    {
      "cell_type": "code",
      "metadata": {
        "id": "a9DgUtd9cHhO"
      },
      "source": [
        ""
      ],
      "execution_count": null,
      "outputs": []
    },
    {
      "cell_type": "code",
      "metadata": {
        "id": "BQUQBECdRleP"
      },
      "source": [
        "df.plot.scatter('GDP', 'Score', figsize=(12, 6), c='#91F')"
      ],
      "execution_count": null,
      "outputs": []
    },
    {
      "cell_type": "code",
      "metadata": {
        "id": "Ky-ZW-BfVtJG"
      },
      "source": [
        "\n",
        "df_top = df[df['Year'] == 2019]\n",
        "df_top = df_top.set_index('Country').loc[['United States', 'China', 'Japan', 'Germany',\n",
        "                             'United Kingdom', 'India', 'France', 'Brazil', \n",
        "                             'Canada'], :].sort_values('Country').reset_index()\n",
        "df_top\n",
        "plt.stackplot(df_top.index, [df_top['GDP'], df_top['Health'], df_top['Support'], \n",
        "                         df_top['Freedom']], df_top['Generosity'], df_top['Corruption'], \n",
        "              labels=['GDP', 'Health', 'Support', 'Freedom', 'Generosity', 'Corruption'],\n",
        "              alpha=0.4)"
      ],
      "execution_count": null,
      "outputs": []
    },
    {
      "cell_type": "code",
      "metadata": {
        "id": "PZ1MdTxw_STo"
      },
      "source": [
        "!pip install pandas-profiling==2.7.1"
      ],
      "execution_count": null,
      "outputs": []
    },
    {
      "cell_type": "code",
      "metadata": {
        "id": "o67Dk5Yq-Jtn"
      },
      "source": [
        "import numpy as np\n",
        "import pandas as pd\n",
        "import plotly.express as px\n",
        "from matplotlib import pyplot as plt\n",
        "from pandas_profiling import ProfileReport\n",
        "\n",
        "from sklearn.feature_extraction import FeatureHasher\n",
        "from sklearn.feature_selection import VarianceThreshold\n",
        "from sklearn.impute import KNNImputer, SimpleImputer\n",
        "from sklearn.preprocessing import (\n",
        "    KBinsDiscretizer,\n",
        "    LabelEncoder,\n",
        "    MinMaxScaler,\n",
        "    Normalizer,\n",
        "    OneHotEncoder,\n",
        "    OrdinalEncoder,\n",
        "    PowerTransformer,\n",
        "    RobustScaler,\n",
        "    StandardScaler,\n",
        ")"
      ],
      "execution_count": null,
      "outputs": []
    },
    {
      "cell_type": "code",
      "metadata": {
        "id": "Z7iKsCzx-TRr"
      },
      "source": [
        "df = pd.read_csv('https://drive.google.com/uc?export=download&id=1gq-wDn_dwz_5uHSEoMYmQtnNrmnfNiXS')"
      ],
      "execution_count": null,
      "outputs": []
    },
    {
      "cell_type": "code",
      "metadata": {
        "id": "skJTOgmz-WBQ"
      },
      "source": [
        "df = df.rename(columns={\n",
        "    c: c.lower().replace(' ', '_') for c in df.columns\n",
        "})\n",
        "df.head()"
      ],
      "execution_count": null,
      "outputs": []
    },
    {
      "cell_type": "code",
      "metadata": {
        "id": "0280Yp9w-kI3"
      },
      "source": [
        "report = ProfileReport(df)\n",
        "report"
      ],
      "execution_count": null,
      "outputs": []
    },
    {
      "cell_type": "code",
      "metadata": {
        "id": "6ZcrQC82AcpT"
      },
      "source": [
        "tienen_guion = df.astype('str').eq('-').any(0)\n",
        "tienen_guion"
      ],
      "execution_count": null,
      "outputs": []
    },
    {
      "cell_type": "code",
      "metadata": {
        "id": "xRUd2qPFBJPM"
      },
      "source": [
        "df[df.astype('str').eq('-').any(axis=1)]"
      ],
      "execution_count": null,
      "outputs": []
    },
    {
      "cell_type": "code",
      "metadata": {
        "id": "zoXXsXIJBbg_"
      },
      "source": [
        "df = df.replace('-', np.nan) # ya chequeamos que esto tiene sentido\n",
        "df"
      ],
      "execution_count": null,
      "outputs": []
    },
    {
      "cell_type": "code",
      "metadata": {
        "id": "6bfc2xyLCUgm"
      },
      "source": [
        "columnas_numericas = ['height', 'weight']\n",
        "(df[columnas_numericas] < 0).any()"
      ],
      "execution_count": null,
      "outputs": []
    },
    {
      "cell_type": "code",
      "metadata": {
        "id": "oWLzL60MCjp4"
      },
      "source": [
        "df = df.replace({\n",
        "    'height': -99.0,\n",
        "    'weight': -99.0\n",
        "}, np.nan)\n",
        "df"
      ],
      "execution_count": null,
      "outputs": []
    },
    {
      "cell_type": "code",
      "metadata": {
        "id": "6GvNaF4sDX8s"
      },
      "source": [
        "df[df.duplicated(keep=False)]\n"
      ],
      "execution_count": null,
      "outputs": []
    },
    {
      "cell_type": "code",
      "metadata": {
        "id": "c4JMveFNDxHE"
      },
      "source": [
        "df = df.drop_duplicates()\n",
        "df"
      ],
      "execution_count": null,
      "outputs": []
    },
    {
      "cell_type": "code",
      "metadata": {
        "id": "_rhBm-_jERUD"
      },
      "source": [
        "df_2 = pd.read_csv('https://drive.google.com/u/0/uc?id=1dOMHOcmTuEUmN6-OwaXzxmwtrSglE4fC&export=download')\n",
        "df_2.head()"
      ],
      "execution_count": null,
      "outputs": []
    },
    {
      "cell_type": "code",
      "metadata": {
        "id": "TxIlwMApErKH"
      },
      "source": [
        "ProfileReport(df_2)"
      ],
      "execution_count": null,
      "outputs": []
    },
    {
      "cell_type": "code",
      "metadata": {
        "id": "ZzlEmTTnG84n"
      },
      "source": [
        "!apt-get install openjdk-8-jdk-headless -qq > /dev/null\n",
        "!wget -q https://www-us.apache.org/dist/spark/spark-2.4.7/spark-2.4.7-bin-hadoop2.7.tgz\n",
        "!tar xf spark-2.4.7-bin-hadoop2.7.tgz\n",
        "!pip install -q findspark"
      ],
      "execution_count": null,
      "outputs": []
    },
    {
      "cell_type": "code",
      "metadata": {
        "id": "uXr71LEj7MKn"
      },
      "source": [
        "import os\n",
        "os.environ[\"JAVA_HOME\"] = \"/usr/lib/jvm/java-8-openjdk-amd64\"\n",
        "os.environ[\"SPARK_HOME\"] = \"/content/spark-2.4.7-bin-hadoop2.7\""
      ],
      "execution_count": null,
      "outputs": []
    },
    {
      "cell_type": "code",
      "metadata": {
        "id": "l8eKcqEB7buM"
      },
      "source": [
        "!pip install -q pyspark"
      ],
      "execution_count": null,
      "outputs": []
    },
    {
      "cell_type": "code",
      "metadata": {
        "id": "EDR76I007hoO"
      },
      "source": [
        "# Variables de Entorno\n",
        "os.environ[\"JAVA_HOME\"] = \"/usr/lib/jvm/java-8-openjdk-amd64\"\n",
        "os.environ[\"SPARK_HOME\"] = \"/content/spark-2.4.5-bin-hadoop2.7\""
      ],
      "execution_count": null,
      "outputs": []
    },
    {
      "cell_type": "code",
      "metadata": {
        "id": "yNOrb9go73aR"
      },
      "source": [
        "import findspark\n",
        "findspark.init()\n",
        "from pyspark.sql import SparkSession\n",
        "spark = SparkSession.builder.master(\"local[*]\").getOrCreate()"
      ],
      "execution_count": null,
      "outputs": []
    }
  ]
}